{
 "cells": [
  {
   "cell_type": "code",
   "execution_count": 1,
   "id": "21171c7d-d21e-4093-bfcc-651a454e3100",
   "metadata": {},
   "outputs": [],
   "source": [
    "import pandas as pd\n",
    "import numpy as np\n",
    "import matplotlib.pyplot as plt\n",
    "from sklearn.preprocessing import MinMaxScaler\n",
    "from sklearn.metrics import mean_squared_error, mean_absolute_error\n",
    "from tensorflow.keras.models import Sequential\n",
    "from tensorflow.keras.layers import SimpleRNN, Dense"
   ]
  },
  {
   "cell_type": "code",
   "execution_count": 2,
   "id": "3f696892-baeb-4900-94a1-ca0b99bde88f",
   "metadata": {},
   "outputs": [],
   "source": [
    "df = pd.read_csv('synthetic_temperature_data.csv')\n",
    "df['datetime'] = pd.to_datetime(df['datetime'])\n",
    "temps = df['CityTemp'].values.reshape(-1, 1)"
   ]
  },
  {
   "cell_type": "code",
   "execution_count": 3,
   "id": "908f66b8-48ea-46cd-9efd-875d4a5fa0f3",
   "metadata": {},
   "outputs": [],
   "source": [
    "# Normalize data\n",
    "scaler = MinMaxScaler()\n",
    "temps_scaled = scaler.fit_transform(temps)"
   ]
  },
  {
   "cell_type": "code",
   "execution_count": 4,
   "id": "84a20448-af4b-43fd-9334-7e34cf1f8db0",
   "metadata": {},
   "outputs": [],
   "source": [
    "# Create sequences\n",
    "def create_sequences(data, seq_length):\n",
    "    X, Y = [], []\n",
    "    for i in range(len(data) - seq_length):\n",
    "        X.append(data[i:i+seq_length])\n",
    "        Y.append(data[i+seq_length])\n",
    "    return np.array(X), np.array(Y)"
   ]
  },
  {
   "cell_type": "code",
   "execution_count": 5,
   "id": "33b0de7f-fad0-4e17-8857-db3b604a88bc",
   "metadata": {},
   "outputs": [],
   "source": [
    "seq_length = 24  # 24 hours\n",
    "X, Y = create_sequences(temps_scaled, seq_length)"
   ]
  },
  {
   "cell_type": "code",
   "execution_count": 6,
   "id": "fc6e602c-409a-4398-97ad-0f05156945bf",
   "metadata": {},
   "outputs": [],
   "source": [
    "# Train/test split\n",
    "split = int(len(X) * 0.8)\n",
    "X_train, X_test = X[:split], X[split:]\n",
    "Y_train, Y_test = Y[:split], Y[split:]"
   ]
  },
  {
   "cell_type": "code",
   "execution_count": 7,
   "id": "113e4fc1-1e2a-4482-85b8-9b658d5bd1d3",
   "metadata": {},
   "outputs": [
    {
     "name": "stdout",
     "output_type": "stream",
     "text": [
      "Epoch 1/20\n"
     ]
    },
    {
     "name": "stderr",
     "output_type": "stream",
     "text": [
      "D:\\kdb\\Lib\\site-packages\\keras\\src\\layers\\rnn\\rnn.py:199: UserWarning: Do not pass an `input_shape`/`input_dim` argument to a layer. When using Sequential models, prefer using an `Input(shape)` object as the first layer in the model instead.\n",
      "  super().__init__(**kwargs)\n"
     ]
    },
    {
     "name": "stdout",
     "output_type": "stream",
     "text": [
      "\u001b[1m219/219\u001b[0m \u001b[32m━━━━━━━━━━━━━━━━━━━━\u001b[0m\u001b[37m\u001b[0m \u001b[1m2s\u001b[0m 3ms/step - loss: 0.0080 - val_loss: 0.0043\n",
      "Epoch 2/20\n",
      "\u001b[1m219/219\u001b[0m \u001b[32m━━━━━━━━━━━━━━━━━━━━\u001b[0m\u001b[37m\u001b[0m \u001b[1m1s\u001b[0m 2ms/step - loss: 0.0041 - val_loss: 0.0043\n",
      "Epoch 3/20\n",
      "\u001b[1m219/219\u001b[0m \u001b[32m━━━━━━━━━━━━━━━━━━━━\u001b[0m\u001b[37m\u001b[0m \u001b[1m1s\u001b[0m 2ms/step - loss: 0.0040 - val_loss: 0.0041\n",
      "Epoch 4/20\n",
      "\u001b[1m219/219\u001b[0m \u001b[32m━━━━━━━━━━━━━━━━━━━━\u001b[0m\u001b[37m\u001b[0m \u001b[1m1s\u001b[0m 2ms/step - loss: 0.0039 - val_loss: 0.0041\n",
      "Epoch 5/20\n",
      "\u001b[1m219/219\u001b[0m \u001b[32m━━━━━━━━━━━━━━━━━━━━\u001b[0m\u001b[37m\u001b[0m \u001b[1m1s\u001b[0m 2ms/step - loss: 0.0040 - val_loss: 0.0051\n",
      "Epoch 6/20\n",
      "\u001b[1m219/219\u001b[0m \u001b[32m━━━━━━━━━━━━━━━━━━━━\u001b[0m\u001b[37m\u001b[0m \u001b[1m1s\u001b[0m 2ms/step - loss: 0.0039 - val_loss: 0.0041\n",
      "Epoch 7/20\n",
      "\u001b[1m219/219\u001b[0m \u001b[32m━━━━━━━━━━━━━━━━━━━━\u001b[0m\u001b[37m\u001b[0m \u001b[1m1s\u001b[0m 2ms/step - loss: 0.0039 - val_loss: 0.0042\n",
      "Epoch 8/20\n",
      "\u001b[1m219/219\u001b[0m \u001b[32m━━━━━━━━━━━━━━━━━━━━\u001b[0m\u001b[37m\u001b[0m \u001b[1m0s\u001b[0m 2ms/step - loss: 0.0040 - val_loss: 0.0041\n",
      "Epoch 9/20\n",
      "\u001b[1m219/219\u001b[0m \u001b[32m━━━━━━━━━━━━━━━━━━━━\u001b[0m\u001b[37m\u001b[0m \u001b[1m1s\u001b[0m 2ms/step - loss: 0.0040 - val_loss: 0.0042\n",
      "Epoch 10/20\n",
      "\u001b[1m219/219\u001b[0m \u001b[32m━━━━━━━━━━━━━━━━━━━━\u001b[0m\u001b[37m\u001b[0m \u001b[1m1s\u001b[0m 2ms/step - loss: 0.0039 - val_loss: 0.0042\n",
      "Epoch 11/20\n",
      "\u001b[1m219/219\u001b[0m \u001b[32m━━━━━━━━━━━━━━━━━━━━\u001b[0m\u001b[37m\u001b[0m \u001b[1m1s\u001b[0m 2ms/step - loss: 0.0039 - val_loss: 0.0044\n",
      "Epoch 12/20\n",
      "\u001b[1m219/219\u001b[0m \u001b[32m━━━━━━━━━━━━━━━━━━━━\u001b[0m\u001b[37m\u001b[0m \u001b[1m1s\u001b[0m 2ms/step - loss: 0.0039 - val_loss: 0.0042\n",
      "Epoch 13/20\n",
      "\u001b[1m219/219\u001b[0m \u001b[32m━━━━━━━━━━━━━━━━━━━━\u001b[0m\u001b[37m\u001b[0m \u001b[1m1s\u001b[0m 3ms/step - loss: 0.0038 - val_loss: 0.0042\n",
      "Epoch 14/20\n",
      "\u001b[1m219/219\u001b[0m \u001b[32m━━━━━━━━━━━━━━━━━━━━\u001b[0m\u001b[37m\u001b[0m \u001b[1m1s\u001b[0m 2ms/step - loss: 0.0039 - val_loss: 0.0042\n",
      "Epoch 15/20\n",
      "\u001b[1m219/219\u001b[0m \u001b[32m━━━━━━━━━━━━━━━━━━━━\u001b[0m\u001b[37m\u001b[0m \u001b[1m0s\u001b[0m 2ms/step - loss: 0.0039 - val_loss: 0.0043\n",
      "Epoch 16/20\n",
      "\u001b[1m219/219\u001b[0m \u001b[32m━━━━━━━━━━━━━━━━━━━━\u001b[0m\u001b[37m\u001b[0m \u001b[1m1s\u001b[0m 2ms/step - loss: 0.0039 - val_loss: 0.0040\n",
      "Epoch 17/20\n",
      "\u001b[1m219/219\u001b[0m \u001b[32m━━━━━━━━━━━━━━━━━━━━\u001b[0m\u001b[37m\u001b[0m \u001b[1m1s\u001b[0m 2ms/step - loss: 0.0038 - val_loss: 0.0040\n",
      "Epoch 18/20\n",
      "\u001b[1m219/219\u001b[0m \u001b[32m━━━━━━━━━━━━━━━━━━━━\u001b[0m\u001b[37m\u001b[0m \u001b[1m1s\u001b[0m 2ms/step - loss: 0.0038 - val_loss: 0.0044\n",
      "Epoch 19/20\n",
      "\u001b[1m219/219\u001b[0m \u001b[32m━━━━━━━━━━━━━━━━━━━━\u001b[0m\u001b[37m\u001b[0m \u001b[1m1s\u001b[0m 2ms/step - loss: 0.0038 - val_loss: 0.0040\n",
      "Epoch 20/20\n",
      "\u001b[1m219/219\u001b[0m \u001b[32m━━━━━━━━━━━━━━━━━━━━\u001b[0m\u001b[37m\u001b[0m \u001b[1m1s\u001b[0m 2ms/step - loss: 0.0040 - val_loss: 0.0045\n"
     ]
    },
    {
     "data": {
      "text/plain": [
       "<keras.src.callbacks.history.History at 0x258b154c230>"
      ]
     },
     "execution_count": 7,
     "metadata": {},
     "output_type": "execute_result"
    }
   ],
   "source": [
    "# Build RNN model\n",
    "model = Sequential([\n",
    "    SimpleRNN(50, activation='tanh', input_shape=(seq_length, 1)),\n",
    "    Dense(1)\n",
    "])\n",
    "model.compile(optimizer='adam', loss='mse')\n",
    "model.fit(X_train, Y_train, epochs=20, batch_size=32, validation_data=(X_test, Y_test))"
   ]
  },
  {
   "cell_type": "code",
   "execution_count": 8,
   "id": "c15a1eb0-c0d7-4dec-90d2-7b7e5a8e516e",
   "metadata": {},
   "outputs": [
    {
     "name": "stdout",
     "output_type": "stream",
     "text": [
      "\u001b[1m55/55\u001b[0m \u001b[32m━━━━━━━━━━━━━━━━━━━━\u001b[0m\u001b[37m\u001b[0m \u001b[1m0s\u001b[0m 2ms/step\n"
     ]
    }
   ],
   "source": [
    "# Predictions\n",
    "Y_pred_scaled = model.predict(X_test)\n",
    "Y_pred = scaler.inverse_transform(Y_pred_scaled)\n",
    "Y_true = scaler.inverse_transform(Y_test)"
   ]
  },
  {
   "cell_type": "code",
   "execution_count": 9,
   "id": "0adb9aff-885a-4b6e-a57b-7f72fc1a78f8",
   "metadata": {},
   "outputs": [
    {
     "data": {
      "image/png": "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�uf�49���bP��pʬ�%a��ܦ?S����}���p��|Ure�k�>-�a��ɤ^:ZgQ5��Gc����R�_Y�Q�"J���l�T��ƣ���[�]��K��٘�I���D�����]�;j��L8Eխ��B䪰�vT؀a�O�v�7&q��YkZ�����&T75����.��r�9�+T�~�c�7�hK��cw�\ЗVgu3+i�u�'wn>t9wx�'��M��:�X�,B]���i�@7ֳFG��1UU�|���E�V���
`;Ho���60B��k�d��O���AG�=Sʘɨ��]T� MXVSr,`�b������}|�z��NuOI�c��Y��u��8J
�u{���ٞ�G�Y:��-.ڊ���&<���jV��F�?�:r���rBX��ٰ��F��p.`t�D�	w���%[7���v��Q핌Saa�1�3t6�i+�To�4RI7V�6�$�~���]��մ�"��F� k K:紕�mק���j
fͩ5�}��O�h���kȱ�
�[������`�Q�	$���0~e�]r���֪u�}��.�+��_o��Ѓw�@Z7ʰ@;��,��+�G���LR�W��5<�'O��ɮ;T(6��L.G �7���7i��ϧV�iͻ��Ч��^6(��
Q5���4g��� l4�ؓ2v'��_�E��Ck�e�~�ٍO���S[R�N�/��-9X6�Sʘo��fjA� �6p�	�ä��j�*��)?6܁M`OJ��d/n�?	�J��>��!a8�b���n�y�TKˇ!��V[)��}2?�;�?�ll�&��6��!�R��>�+�k`��I�֢Hj\v5hF3��g�9`���e�)J���o�� ��C��M?+��Ä���1�/���3�����4.5��|���~J׌Զ����!�L&��s��3ȼӘ�\&o?u~g�z��e��l|g�w6P|g�w6P|g�w6P|g�w6P|g�w6P|g�w6P��a�iaI�'�j��S8����ʢG���TMܿy�&*��5y�����@Q)�qqO�����o@fDnE��m`u4Ά�9��Z��شl�l1[���>���S)���ـ�Ub��V�0��^*��1�3�_�R�	���+���|���^zj�[J���T���)̣F��gsk�@��Q�4�������7��ȃr[D2p�࿈�ia	��-UE!���I-UE�4���a��S�q��Nw����f��&V5�J��%z��\�Y�x��?��𿏃���;��C^&�"s�}Ք��̣���Ԥ������ED~��\H�MZ{��]�[.Hi�||�����Gp|J��\�����\�xӊ�K�O�k�q�ƼX��~�5ůirp�ܡ���:�_'77GPٿ��$����N�>U�ϰLl���^ȃ�l��n�|�(�E��ۻ�oʓe-�xNܢT�-�6p7�p&w��a��+8�͕��j��+�x]Z��Y+sW�ќZ#���������r������r����Ͽ��,�B�Kٳ�	<�Ҝ�Ά����ok���>���02c� �s���L��<�,�J�w�#�������q� c���l�A��M�1�x�7��`��f�ќ���Yxͦ�6�rD��٨�x�������.�m��y�8���tgsgj}���*��x<�k�?;������N1���;;�����'ނY���;Ϻ7��^YF���Jƶ����2���Ӟx2��T�<�1��f6��äl��\������3~.�7T5����M����W�n�'.�G��,û�����&�K����7ɞ��*o�X�C���n����A6��~(_S���ޗ��x�eF5ˑ\ُMj"�� g#�^6,�ۢǧ:��=҇�{�v��r��\�'�îA�1,l0�	a�aqo��8,�uLLL���0/LU����T�ʏ5�G�����1-f�����G �h#f1/�p<�)aQ�RScc��pOX��ߔ���a���(�!���w2c���!�xR��p���У{��0�� BXL��䳧��=�a�����`Y��7���A�޻Ȗ�F��q�0�7��m#�� �6��q~N��!���&+U�hV����|12O��~zX�/�Q���(��l��.%. �2������"��R��wbە���06*���PP���,D�t��	!�_"<�e��.Ao��n�O
���U}�@7[�I�_���23Y~��mXk��B3��]������pR��Y�DȁD|%�'�V��z?4�d�^�����8�`�)�����ʿU-���(ݰY���a�O����a��@C�oB������{�c�y&�5��[�E�Q
6�$��Ʀ�����Ӹ���8!7�l�Pe0��_�]��Xߘ�y��Dv'�d��p6�6�֋�ب���̈�6��	6@՟�>����� l��=)f6�qU���WR��O>l�a*&yq��b<���T�`w�ʆq�g>㻞Sݱ���x��!���@)�gr��x|������xwĖ��6���
h����\�m��u�[#l�/E������^�u C6Jd�������R�3)���^â�S����;g��������O���zUK��>@4o��<�� ������3W��V�D�TX�������c��2��`a���Lq�Et�j��{U�8���XqG6B���P��jtZ��|<W.R��h:��r�r��~��_�J$+	�',��U1@��U��G����(W��6���U��� E�UΗ丛Y��m�k� [�|E*��J��*�l9�n�٢�m�:�&��!�-[�;�.<l���Z`�9������@|��V�/ZGaw��݂��]���l��a�����	��C)�+�w�՘�[�~خ<l���K/�RL�����H$Doд��Xgi��=�=�{T3lI�ce�+��"ǔm%��e%�r7�(�W��(�@Q^QQd���(�o��t|��n5>��t���xטC�&����L1L�/"���w�@�dxBy 
l�E� x�^ˢ�ǹա-faK�W��\H��0j,%��	��G�'���v�@������$��ɪa�z8��6�/ ��/�"�G�b|P�O����iud˘%�z��0b,ttL�}�`�� b�?'�C([Ua�Dm}`����=y�Gb܉w�MO����0�HJJ��.� 4%����k�ż� 2%e��Ƴ��X�돭�b0�����|�w"Z�3%)g(^�axWj����ݍ�F�������� Ii�0�f��Q6�_��v�R_z�2X,>2^�+/	6��5��<�a���
&�E���1�SEѕ�`ق�!|��j���G����7Bv\�����Eo�dk��ʸ�������X���62�XQH��ʂ�܇'����ua{~L�E @8Of\4��G�Ǎ���Q��B:㺸׾ �x���K��&�&��b�Bq�}��-�o��X��caX��������arzq{y���Wᗵ������>�'\�{R8��[��z���P��;��(�~/rL�N�o��`tx5����Ͱ�s/<_K����1:�eJ�,�v�6����O��?�' a։'���v������xաnl�%P^x���Y\b���4Ľ#��N�gG�@�H&�z&̇�kK��sEDΏVp��0�㪧�������qm��b�Ip.:�����<��S��7���9�nt!�F����_L���ϟ 4����ϊ\O�4L�X�5�n�"��o}��0���7��W,8ce��X�ɗw-��&wᯊӆ,S���g.�~���wx�n9�f �b^�ؓ?�c{"�Xo�7Oa~�u�6|-�^o�V�SS�(��'?aϐ�,[�Y\�`��:��g@��G�A��}]�a� �U��'�*��ٸ;�{�����F*���.��
��t�E��&(�X��᭱&*;W�v|GK�K �ec,����� ̅�S��p�D�U�	�Z�~2�*�"{�(���c��g�9�L�X ���z�4G;o��|�åa�[���E�2!̱Q�M�➰��'D�IrI�Y�$ a��Z�������G����S�ˢ�bS[��d #�nx������)·8ő�NgS<�f�����-��*�_��P��_���l�)�.�`���#�ˠe!����0o�إ�3�䅵2�i��<�%���O���k ���q�Z;lȴ�`,�4;�U����d?w��������Xve��_&< ��H$��P"��Dbm.q�ɮ|Ğ��-W%����o��DQe�0�H�g�?���ˇ��&	6XK$�����%򀘶[��O�H��Qb)�H���K�=7z���b=Yjc	. �~o{���u!!�'��oH:፽�qNWT0��?����%�:��/?�RA�55�µ܃`�#X��p ��
endstream
endobj
30 0 obj
<</Type/Page/Parent 2 0 R/Resources<</XObject<</Image32 32 0 R/Image33 33 0 R/Image34 34 0 R>>/ExtGState<</GS7 7 0 R/GS8 8 0 R>>/Font<</F2 9 0 R/F7 35 0 R/F4 16 0 R/F1 5 0 R/F3 11 0 R>>/ProcSet[/PDF/Text/ImageB/ImageC/ImageI] >>/MediaBox[ 0 0 596.04 842.52] /Contents 31 0 R/Group<</Type/Group/S/Transparency/CS/DeviceRGB>>/Tabs/S/StructParents 1>>
endobj
31 0 obj
<</Filter/FlateDecode/Length 3656>>
stream
x��\ms�6���|�:5M���x�oI�I�\���M{I��ڒO�����.@R�ȵeTZ{L ���b��@����͛Ï�g,>:b'g����e�n������e���I$�đ�,ё`���޿b��=_����~t��wxq��L�`gs���=v��
&�1J�`lY�ifyKJךV`$#V0Bp&���q�FJ3�ydU*/G���rSNQp2��@�;4wi�Bc�Zs����?؞҆�XDF0x*\E\C��@aw� �Q���yq.#�7@�pn�4�N#"��/0�����e$��)t$�:-oH�?��}�`$%UqG"�4H��(�����,�*����N�
��_9DUR�����\*�����)h�]�p)��][w�c��t��=@�8JuAs��XR�<q���o)D�BUԠ����3i)��
%j�K5k����-u���tR��wWv���b
�q�S��1�5
�ͭl�ڂ�@�KDHy!�' �%*�*м ���DC���U%� �4��Es�`�]jߘBP�7FE��tv��ʔL|��8J��y�e\58:Y�: ���J����m�|�7���E�:4�T��*E·]��|\�
���g>�K}�q_�F����~���ܯ�}��Ni	�_*-����v�2w���5��o�M#�fk���^>d��[����&�����ʄ�ͳN����ãX��k���q�$�o�a
r\ݣ���}�o6�/�z��w��\�/�//�/�//�i�+	�+�V�`�X4����r���u�I�ZR�$���Ώ�r�!4��0�)�:�%��p`��Z�1�7��<�M}"�5��u�9x�f��69q�%��L��m�zǒǱ��ıRG
�`^�r�?I(R'�Z}t`ެ.�����.���)\��V��o֫�с|Sޕ�0��	i�k���s������6m�5J䵎��1Q�Jܦgy܇�aX� 8 ��X}�:T����������:�_��7��:�����ӻ,�t~�C��ŧ��cǟ���/����v�JN���nG��Y�m�����B��;|6Y}��'���x���)�m6}\���0,]�_T�%����0_�Z�l~�>�.��X�����[���������u�̈́5�f�>T, D��θ`r����i��@'^���Z���9�r$l#	�(G��?�+�M'�
_I*�M���i;X���.B��xH@�S���F�������ۋ�c��yWV# U�̨��6����/��c� ��FbT�JS��r	F��7*%7�]�N��$� 	����� E�	<�1���o�D�5�t��r�Q�}Y��h���NT! ���F��`<0���]Ώ�<ty���
|焽͆���\���t��&�3��bZ=	���ڥ��!ZRҏy��E���ax�c;���C7��%���Jf�uuv ,w���Ҏ�*��̜��c|	?wN%P:NE�.9���.���8e��iC6.N��:��q7-�I�*!��Ð��$��g���^̰n�wr�@W�����'�#��\��	��}p��Z�$�C�?�u����4�����ۍf���J$.�x����b��n�#�ݏ�	��/�Pl�A#ni�j{5O4���׾M`���즇��c�J��0͂Bw��I�>>}s>�.��il2�(��ۏ��Q��V����������lz��=�E��������?����������D2�{��B��P�n�CR�)���F>�E$9�K�x�]Mة_��]������N��q�X)�?"���`q���pCӚ�3T�|����E�%�EL1[n�0�8������Q\_/�	ˤ��%����Iz�-�us"��B3|y?x1
�?��&Y��C�K��׹M������vI�3���R���:|��FH�=$MR�>e� @�ͽP��K#�ѹޡЩ�c#�.�PGiJ��1����p��%C���Rx��%7��z���.�ی�8g�n+3��V�i{gEqҹ��/����	�8~v~1��u"�`.˃���>�;m�I2k(<��],1"���|P�������ӱ�i�#��pq�bV���ю��f�;��Wr\io$�����K��0���;�(f��]�UJ���J�vr|��۪N#~G�SR� o��hx���g�Exw�Q�%q��q������
�5o��{�̝�xd����������5wN��B��)��D�}w���[�<��47�c7�	O�@����&�h���q:��l6f7O�1���`�(�������(�)0ݰ��6q���#����I1j$�C��$��i����Z�FO��&���mAm�:�cb�I���O��[�B�8�<6��3,
��r�"�A[=/��
���`�+����/���?��O�;��0%ä��/)���V����X��{���V��o!X�.T�^�:����[�[X�_G������A�V�#�/����"Ѕ��M�/6S�Oݰ�g�܉[��<�aP0v�b7�z 	c��&n�{{t;�F��v2?�q_�����`k���3�~��1&��gC:р�cN�kz���X�c����6L^(\V�NƊ[��/0�>c^t�ԑϭF�I��&J���Ҧ�:��84�#���Bh�@��n����@e�!`�o���o<F�a�	��u���2�]�.MXl�c�w$���F)��V�����0����e��T�¨���LNa�p\�%P�Q�`���)�S��	�1�}{�t>_�;S�x/[��m'�����	[����b9��FKv���e	��*B ���}�]pI���=m��o��E@�bˁK%��df	f�J�6�^HM�bF�[���
k̷� �%�q����Ύ`)��`E�.o��J��tx���,B�H�v�h����3tu�!�彟�����"S�v��.���b<���~�E@�hl�4�^���V5^�L��V3a��PfT��f�)Wq<� `h4���t�}��¯;�n`8BH0p �1�pn�e�3�a�b�|�َ~F	�v��u��\k����ax5}p�G�@7y��C���#�ͱ�Nb�^`�����F^a6U)^B�!�6��l�P�8�o9��z�o���C�w�U��������
��B�JL��+�0��h�r8�0_�xi�r8�_�y�O����~��������cN�r8���y����z{����t/_*ŗ��z�o���Ĭj��1���{\-��;��-��jdդ�ƈg��Q]|P5��~ǳ��=�s'���b�>5�'׋����U|4�Q�9A�A2�td�R��Oy�FI]�,+��-)n�����;���bנ�������y�:ŧ� �U5ry���h �7r(�t�7�4���q�>�#����S��S���CL�!r��s�Ё cb�<�k�E�jw�F�J7эr��Zx+�� ��H��M��fh�����Ԛv��gmT���ܰ��*gT9��MU�Ӄ?o�b���˒x�]>���O��p��ۥ�(���
�����
endstream
endobj
32 0 obj
<</Type/XObject/Subtype/Image/Width 188/Height 200/ColorSpace/DeviceRGB/BitsPerComponent 8/Filter/DCTDecode/Interpolate true/Length 13072>>
stream
���� JFIF  ` `  �� C 		
 $.' ",#(7),01444'9=82<.342�� C			2!!22222222222222222222222222222222222222222222222222��  � �" ��           	
�� �   } !1AQa"q2���#B��R��$3br�	
%&'()*456789:CDEFGHIJSTUVWXYZcdefghijstuvwxyz���������������������������������������������������������������������������        	
�� �  w !1AQaq"2�B����	#3R�br�
$4�%�&'()*56789:CDEFGHIJSTUVWXYZcdefghijstuvwxyz��������������������������������������������������������������������������   ? ��(��
(��
(�����}�חs$6�!�Y�*�������>6��RE�к}��,�Di=��U�`�~��'Ŀ��#����vGRJ�By��m-x��{Əe�M��_Z��_�X�9��G�a�~��� x��K;;���.�a5˟Ui�b����o4���E�?g���H�LR{�a�c�:n9��Ȯ��^�V��W��v9̷.L�]ݯ�=Ve]��z�P���¤����E�F7'�l%��fM��-EwS�
JȖ��/@�� ��9r�Zj��?5�Ӵ��������3�~1�񦈷�����sl͖��3�OP{���?�x�o�p���k{ov?���f���;T��K�M�q��U����:�`��#���SZ�*���h��������/Ӭ�K��+�j]�s��+2�����_|i�9?�������P~m��������G�tWɐ|@񅴂H�G�n#̓��+۾|F� ��	4�Ic�X�]��Y��Gb�����I�\ۂ�g��E�PQE QE QE QE ��u�`���!nٮ.1�P��� }� �{����!����4Q�{k��O��?=����+[�R����z0�{D�Be��VZl�q=����m�[���gh�K6?�Aols^��?�چ����Y���� yd�[}��X� �}���i�Z�~#0]꨿�ֈ�[X��bN�wo^z�U�x�,�k+g�50���D��v< ��{[����I��zg�X̷W�K�_/K�M��^�j��@�[> �,�5���)vp�ܩ� !px� W1��q���3�p5����N�� ����6׃I����<7	��ؿ��eF��+)b��'a��:U%&u�����Dץ֮n�X5�6��9�U2y�W 0�unv�/�0������p�J��!�R�n6���듹��J�(���ʴc{�;x�]���Q٧�Z�~�qG��w��s�x�v���^�41j:�@Ty�jV��%J������GL��^ٮU�4��Y�[|��?�!v� ���u/Ϩ�%h��%�[��Y��m�2��pz�G~���;]i���e��CX�i4v:U�Ui������6�GN��x��5�<��%�J3��*���\�o�dT� �k��b���d�S�2ZiP�Ir��;O���/���<WDu�4)c�:�j�@�nRGT�P 9^�ђT���'���S�܊�Ue�|�}��X�f�Ŧ� ,\�IM� �l����S�G5w����7��k��nˤI3� <���u�{v��Xx�^�� J�"Q{h��, �d��̇��GH�y��w���ٍ�ңH���De�c� �P����+���B�\drT�*oS�Z�x��^��Ȧ�^F�����\v5�W�(��2���) QE QE W�?��/�٭[u�����'�����T_�k'�<<�d�j�ţ�$g�Q���|dc݇l�͖��:������Nd�����ӫ3zk��U4�&R��j�>׼]��L����)�X�S{3}�K��v�>\ 72רx3Ö��j� �7�� �n0���@ ��`+��Q�}R�|D�7�V�Z�G�A��ypG����9����V:Ŗ�q��0���$qJ� xcM��$���� x�58��>���`�+I�5�l_\�q�[/�l�����X��1o��Ì~i��C������I�Ϧq��ی��w�!��w��4�mF{=SA�@�9�,nP�ڒ�0*>a&NInO�9����}�;��iT���K�	�d+�'$�=0p+�ͳ�S�8�/U�V��)i^�!����[;�-D���l7$2g��
���g��"��=&Z�G}#D8aG�8�q޹-ǌK�h��Y��O�޸�k��MF;����7߹ؒǾO^z�z�2������|�3�)ª�u�m�Q�/�$��[�b.m�o7n�1�C��V ����I�q� �և�L:��Q��ef\u���2s��=��kŹ(�x������у�a�J�V���pfX�]*�Q���ֈ�?�e���� ��Q���o���"�\��� ���|�+�|�^]�#�x��|�A#����ks��.u����v�t�wr8����jk�iʼh�V���浣��&��vK��o~���fK��m��"Z�����P�?{�P�{<�����&72�Y謿j�i#B���*FJ�`Ł���X��:��U��Q� ,$<�O�� /j��Z�׬��ț[k�������+���C��w=̿;����Vil� 3ݍ��i�>��Ԥ�D�>��?�d�����p �*�ݞ���.wEs��F�Mi2;(taІF��b��G��_��.$�!��;tX�K^�aJ��0ی��ɩ�tۍ>��2E�v6�T�����ɘ���,{���x�'��Μ'�W�X�=V�]�'�����[MN��$I��"f�Ω������{��t���;؛<��Y�a���_Z�<S�C�?A�iQ�&�l�%�ʿ�e��z8�0�~��v�g���7�l�A5����d����V����h�x��۞|�����s
O�,R(d�e=#����/�^8�C���o%-��I� ��D�x+�x#ԃ럣k��J\��(��QE |����I<uin��p���=�I7�u*�2������g�εb?����}6�_�L��|}��<C��|�qh��6�� �J��Q��<cwr�:����hl��=���z����M��=*-C���V�o �: �V����c��k}dUu92+�ukg�n#�"�]OM��MJ���Y�C 0�Y�<���ճX���^xc[��+�zm�/�>�d�o�����z���Ǖ8�� ���͢پ����A��&���\ta��v�r7~?�}�΋6��&V�v v�ix�_ka���~r��'s����y�{yv5"�Qh�� 3�s��t��Qz�� ��u����m��N����.}�f��\���$�{+��I1NFn?�� �?��j���֛v��4R�qЏB;��=�O�<)�_鈷91�?����{��w����XHr��=;�#��a�T�Q�UѮ��^O��[��F�p1����`zt� &�/�5s��(G�o?cl��hn� x�Ws���h��c�$s��fF+�<��W?{f�?�[�I峋�B8��J���H3�=q�8��^[��U����{�,��B���9���.oD� m�0��5O/�,G$��Z"G=���.��n-�\fl����z��M����D�b2ǩb�@���ȗ�ZeϜ�Fy��c+J_���q�,q����������+,N�o����<5��Ʉ�f;?<�7{/����T�n��ۍ?G�9�����?�~�� �=��ڮ�p�.�jm��&?�B;)��ޟ�ֹۛi-.^�]�b0V����Y�5g��<G�X*ne��Mu�`еHu�.ͩ��ϖ���#X>"��Q�@�l�\��� M,����;�UFHnq��c����`��-.I3�Of� c�^�1�w���59z=���3oIT�KFa�:Α=Բ�Mu���ʆ �%��@F9����ŏ-��xЦ"�:����T�A� 1K헯}y�G]|�		���
�rl���z�FKx�O5\|��ȕO�\�t����u�Q�w�>w�C6�������]��*�M�>�-��]M�,7����?��+�*�ǿy#(EWaEKU�,�m2�R��Ckl��s���O@;��y��	m��~�� {��� �P����·~��Y�>�����R�K���ś �*��}wœx�^������Kx�b<��i!�r&bqݽ+�㺓�>�Y.�Gi��6�����s���I�;�쮝**/�����;!!�ԤmcWK;�2y^&���'�P�*C)*���[^Ԭ.��4�����]�[Щ�C/�\��<V��~���	�k"�S�àp[?�)���Q�o�_C�*��BMF�
��5�M]�ub�A�K�fj~ѵۗ��P+q'%��8<`p�+���{��ͭս��9�l~����!����-ĂUXXF��w��������ݩ��?=����%y���L���׬�i�i�$R�$��Uf�!��<�5�hI����uf�Z`�� �8u���u�%�t{�)��X��Z8.���Wh<���M]������-B���Oy�6�U���+��NVW�O�s��iS�|�Mt}���{y�.A=���Aѐ��%~n@
FT�t�����,l�YY���8�VpA���䁀Ms���������� �ھk2�}V��ߡ��i����$P�ƞb$�d\����?�����y^y��ǹ�1��/�3�띹��i�-�w6�}�?����\�e�!�w�w��HB������o��GIU�Rj�p��8-J������wWm�L�Ŵ����`�>�F��Z�����C;��?�mx�����4��{0����O.9�_�*{s۽s�����˫Y�v����,W��U�8��o��G�c�Ѕy9E�/;/�:� �[�ږ����LF>�9��Zڽ�piQɥkB),��Ļg��Ta�ē�0��ו�Wg���K���a�aYcpu=��9��GNS�QU�J�%��iZ�s�W�A����w�����nG��dwj�f�g�<==�Wy3ME�G���W��w�g��>8���F��v-,!�щ�>�&27�؟�/����n����y�Q��bմ� ��q��Lxǭx)��i+Γw����!�u�P�l��?,w�y�?޸���= ��|��y�n��Ml�+�-��&9A#��  )����K?h��"��	wm�bQ꧜�z8�6�ס�ñ��E�X��� u�֛�蜬^_�'�9+�6���ҽƾ~��d�x�L��e͉�}crO��ӃI�W&[sl���?&�9C�:�]�Ԓ=N��]�q����2�C��nʒKd�+�������� ]ֿ�_��}��p}+l�^���/S�˚�8k9"��Y/�o����K�7K�]��s�ջ�9̾��(��� ��C|��zV�R�5t�:kۀ�8��^�' ��$�յ'8ԧ.m4z�Kk�j���"��*���O�I�jvjFB�.��s�V��>��[Ʊ�+E�X�o�n@�=���>��x�7�V�u�x���%`������ �6�{�Q;U������(�7����n�Ky��F�tK���@�%bA����Q^�}q#�êZ_ζ�U��8B�v�gB�{��w�	�Ş����y3ջ��_�ץ�Z�﬚�mKJ���Y���FF9��FN���Ǻ5`�	]���c��Qӫ'�}�spF�,��<�C��{��# ��qlL�Kk9�b�d�<aBFN�`�l�yߋ<�M�D�\i�+��ER�����|�g��&qkd}��8�3v7�g-�ہ����Ji�Kk�#�;�8$���xݶE9Pz���*�������9 r�7P&���w�9��6�[�be�\�0z瞽F���,=Yn��|mX�w����i�YO���O���,ԉ'GU9ldcn	�t"�,�-P��b�H."1���H?�`]�i�����ۋHЖF'��ż����OÚ֤�}��-�Y8��H������}��_c
�h�P�K5�>tq8�ҫR���3���>��A��r��ح�z���M��9�Sn�s/˝��zf���^���+�4 0i��:��]'�|Q��F!x.#P̄����ψ�^T^ҏtu�0�Hbb��5і/l��&�t��-#�h���l*�w?+/��d��j� L�,g��Od�7.a��<��{��}���+Ʋ>�5�e���~:�&�1�W�� �7r�����a�ɡx�N!ȷ��Yν�9�~O��L��<z?�i!�]KR���Z��#g-� ��;hA.���\3�T��"���c����Q^!���|R�*���i�Bɾ�l���0���q���)�NRA��ū��9�!�I��z��A5�2C�a�����^�k�x�\�	��=���	�����[�ƽ��Wb� ��-�?�as�(3]��s�2"*��s�8��7���?�k���[�_�-�(��~���K��_�3�G��⺦y��m�P���$��B�{R=w'� Z�&;S���Ήg���9�ܦ��×e��/�6	� }|�ּ��6i��V/�B�:F�.c��5wfѵd�������ٞ��?�_4��[ńIl�<K �;*��ݴ��=�q���tH-!.=�H��ȋ�ԌV/��{��[U�f�A}�(�WE� ٕ�Z�N?-�J��d�*1mw�����c� �W�{����O��6<7�2�I�}�U@��  �[�4� /��:����ë_��r>�� n;�n�}GJ��/�]F孼A���a"x���lr>]��é�ڹ� �]����*[KI��[�Y�(��#�lt�j�����$��?֕Sg�ُ�U3��=y�ȯ��_J�Q���]׉�����u�o�nZ0���g�?si�c���F�k~U
�*��NF�Y��A@��~^X�揢h����I�+0$pyl�ϟ�	>"�oQ��8�#����`{���tiu���	�*�����۔c�Oz�P���kR��侼��� i���� v^����Q&�����",�5iP���P���U�_��j�|Ň�W�D!������_j�R�W�xŶ��8���ȃP��Α��$� �B����{}� �����gK���(���ܥ������"i�5�H|��;�q�BA{����W�� �5��'�'��#!6�6!���'��?�^��&��k���٘y�YA+�@�����_W�[�im��k0��4Q�� �zX����S8���QE����B]+�:Ρ���SK�eBG�M+���5�%���~c!�m�t�c�Y	t��?z��mz��;�f�samp1sb��̧�Y�?��@"��n��� �z�˫k6�PJ8���[9w.?�Wmzx�\��]��=j��H# ��>5״MSL�Ӭ�,��-�b�;H��`�����]��o�+�ֵcd�y]a��6P��T���� ���,����L��2�b�Xt��d|E�!���+0[{������D�$��s]���M���K��g՗��m��������q�<�]՛0�`x�A��5z���p��� _և��K�b�aߪ-| �����ޗ?Ij����NU�Y+�5_ê�%���;9�M��w��=S;�u5�/���lO>V��6I�<B�~�EzO��y�j�ٚCF�A�q+�잻�����Bn��jt�R\�7�?Yx.���Q����
�VdO5�q劅A���w�H�擩�:��1l�I�7��=;�+�u�j*�-丆?9cG�X�NI$�T��O��tYv���Hտ"ٮ�B*>�;��`���#�to�z6�s���YM#O8���r�?U�h:��9��<;wa�=F�IY[n	88�¼d-֍��n-�;�I�o&e)��g��z.��F[�z8/�ⷱ��hQ�4Lz<d;Tԡma����Z�����|��Z}6���-��h�b�p�p;��~�Y���3�3,�tq���y�~'��K���ؾkL�2%�� ���Bk��=�}��+!'��[k6�Pn���A/\�޽��f���{v=��J��2����z������\��`fc뻑�c�8�[_�C$lX]\����=�z_���#׺:ڛ�(��>[*������k��?gB����T}�*�%��6���<�xR����V�!��3� �b
�|T�u��$�Y\������ib�[_�xA=?���}+����}�[H�A��]Q��.�o� �e�^u�M#�z#ť֖��[����j"x�Q���@����a�����E�	�d�E9�d�W���Q�q_M|���Ὂ�ěi%�I���? @�+�Mr�.�w�QEy��U���t����M��?��4P�:��}�j�I���l����ٿ�u�?��hw�v��BiWF;����q��!%�}e�/�<!�x��!��ĭ|���I�Ü{t��OÙ|q����}�Ɂ��%G�R|�8�p�F>e^;שL*Ò[�����c��O�͛j��^�m!�(��,T�J��z�V��+O��~˦�Ago���a��q\?��K�0xZ-:�N[��cWB�*���29�q�`�5�i���� ��+ǝXBN7�������� � &KVp?��~���W��Z46�Wj�0��������إ�ԧ�Hd�ch�R���^��w� ���I!����\���*z��+��:��J�I[��b0�V6�J��M��x����]���r�9��|���w�;�t�S�Ms�!�6�.ҢG �q�����=f��8c��&���&NĘ�	���(Ns�]*��g�6s,=N��\�14c+�G���
s曱�|;��:^��,`�^ �scCʨ����v���oo+���� � K^��� �=W2�{_𬥊���9�)NNL��^��&�$��q�ki������Pxׅot�+Ķ�:�m�,��Iي���y�^���������%y���j�U����K��!�N71lu�����$�)huaj�S��'ƭrS�ޙ��/����� 0_j��}�Eq�T��.��]�U���� ��"�"?�s��uW?�Au���W�vP:��1�x�F� ��-+Ά��������%�w;J����(��
�U�{U�-7���QW}��ޘe��Pu� _.3�����
����P����%��t1�tu<}�s�
��LVk�<�	g�F71?_��?�]G���� �1� �^/N�W$�9��+����_R������jzE�V2=��D�mG]��#�c��=<��!�۾��I&�s���n�/���� ��h���s�K�K[#bn@�K��?�;ay����|5��� _�]"�ȵ�da�	k
���u%��A�����J��K�uN�ե����6�p<�30H��d�zW՞���S��:L��\F�d��c1f�g�Q�Gí'�qc�ޥ"m��E��uA�+����WeF+�}������+����(+��Z3���5�Yr0�x��C¶k��D�i��:�Ҕ��T�W�|���8�V���v��+H��]�D�TV~�}=��	mI"� �!��ꢮE�X���d0
�v�u���-�Y���,�9(�s�1�,�'��jp�j;�p�-�I}�� 0�X�{US�jR��&�jF^�Ԓ���-���ZՊM>+4��T��*��1�G�J�D�xZ@w4�?!%s��G��5 �M����n�DE��+�|��|����<u������8�-�6Y��;2����c?/|x�;OI'�-�H�ʧ8�ޢ)��3Y��f�[�K�悽�mf��U���2I,�0�*yp��	���N�E���41�qdY�]De�~�gJ�q[V�L��{tU?���:���6�RG$��dS�� y[���{Xs����H��D�!�#�R��.6����SM�X����9RI%]���/q�X����<�&!|�@�I�$��F�D�i�Y2[k�Ǻ�����E�Ub՚0���Zr^6R�A��%W~q��M%���G�}�xR%�W��	���V������77B�@8�;y�'�ol�$� dݷ�<n����*�OH����K����f���'	
��|�!������O����b�y��ב���k]`�K�.T4���R��y�:��i�ݫ7��n2�~�o�E��rm����_e�X�`���G��-t;�GM�$�\I��a��aN}�h��}�����E��W�-�@���e��2����	8�$s3���+� (�� (�� *��b���@�Ѱ!�>�0�W(��j�g�7P$�tmi	��߷�
~tf^�G� �����j+��39����� h� ��� �Q��y� @��� ��騣�39����� h� ��� �Q��y� @��� ��騣�fs?ٗ�� �� ��� j��[n�i�t��ݧ�7��0oBz�� �k���9)ab�a�rI������s!?�i��� �*Y� ��� ���h��X39/���,� ���M�� �*Y� ��� ���h��fr_�� �*Y� ��� ��?�� �T�� ��� �5��G�`���o	�g�d� �kcJ�f����3r�#T�q(?��?OJե��A�
�EV�
(��<���q��]#�-ȃ(�[�ݻfߺ:�*��T���dxeU��7K�S������[�8>�Wi��˘]K����@��p+6?��j$1*FV�s�#�u��Φ�6R��Կ�"�0kw�47���eh������'qV���{6�6��9h�Q՘yc%�v�sֺY�ܬ�r�%y ��߻�_�ǚh�sd&Y��*�-�p��?~�v�E�Իm���=\	�K�ے��z�w>�4��b�"{#r�+3::��0�j����c�[��+f�#қg��UTM�
���6r�\�V��綞�h^GIGfg�p�ğ��_J,ĝ>�����X��"Q�?�7��������5"�N�}��f����
�W|���[��v�`z���c��d<�k�M�Wϕ�~޿��֦�ὄ�^Hʁ��IeewS�&v������q֋H���d\�A�Ӧ��S�K7�9��G
P��U�6x<}*���r�o��2�������,���~���|<��x^��YUY�vc�}�I?18�j!��M�숄�k4�����+���ך-!)R�I~%�Emep�)K�r�+��VA�x�4�o�դ��)�^���VC�� �˷8��)�iB�qoo"%��'�X�A�`����}��|9Ӗ�_��ʲ	r���T(m��� �- �.�n���B�]R(�C
˽�T3��?ݨS�6����H%H~�qk�D;��1 �܀B���>���n�yR����X�����<�Q��7���{� ��I/�$�����Rv�}��t�/Ĺ��!��L�˦h��Ir�N�rÚ�?�5�-2[��b��0۬����@X:�گ[�2�-�Et����,��,�b�'h�<c�����/`Y#IǛ��$�]�`ݸ��^ =(����-�W����Y���I�݌�0]̤m�#��:�󭭥���=��	�H���[oFm��9-D-f��،ɐ�����~X�3���%���#����`r��E��}�p�Vp�>ٖ9l��Y��:���~^2c`�����T�t��&�)e�|�S ��u����Mksna��6������n��wu���^	��J:\�#Z4kM�	Q�g�j���udr��ĝSL��6l.<��ĳ�3nvP�����U��O���d�uq���Ԍ����?Zٽ�e��<�F)x�	�*��n�g�+�����,�~�Pɍ��gn�(��zV�ó����KwV��0'��ygD�hm�r����n_|��#��֯��|!�c�n�4�K)�~��g����V�ݰ�6�w�#�М�P����v���6��G�D^[ {�hI��>��r:�Y7�[����YC�~Ә���[�8?�QEi���!�M��� X�Ί=>i58�[�{x��fKܤu�n�ۯ]i=F8��;9T���3�`�o��#�CQE\U�%�UmV�<κ��}���4�/~Z�[>[*�e<�#���k��wI�_�Ip��mT�Ϙ2��X��ԌeMU��n�R���s��y����B�� �@q��'��
�����յk�_T�iJDeIDJ_��HEL�	9P6��䢒W�bǨ����3G�C,�mjU�7�ɴ)e�''ny��n`���mϕ7�UC�j̄�C����(�c�F��-y�����"y�Q�]�d9u]��zdƱu;����Ž���%���[��-�#�`��"	|�Vc�C6ьb�*�Ф�4�u뵖KT�+4Mq��E&�1<j�x�lNXg�c<⠓]��qZj�\!������m&L.>eڿt�QE
*�re}7P�"�%�^��F�^l��ȱ�����g)����*�T���k��O5�RY��,g�W���׿N�QS!�̋淇[�h��k��whd�m�'�a�	D@ �^Ij�چ�
��}/�!�2�\{`Ue���Uwr=�S����s�_jY�k�%ţ��%
�i�\(Xϙ�B�@���5����tہ$�&d�a��69��=9���RVcN��-�ΰ������=����]�+�%>Y6��`y��v1BI#���'X��7E��L?b ��g��m��QT�+���k�m��;��\[|�7ƻry}����ZTQYIY����
endstream
endobj
33 0 obj
<</Type/XObject/Subtype/Image/Width 241/Height 248/ColorSpace/DeviceRGB/BitsPerComponent 8/Filter/DCTDecode/Interpolate true/Length 14300>>
stream
���� JFIF  ` `  �� C 		
 $.' ",#(7),01444'9=82<.342�� C			2!!22222222222222222222222222222222222222222222222222��  � �" ��           	
�� �   } !1AQa"q2���#B��R��$3br�	
%&'()*456789:CDEFGHIJSTUVWXYZcdefghijstuvwxyz���������������������������������������������������������������������������        	
�� �  w !1AQaq"2�B����	#3R�br�
$4�%�&'()*56789:CDEFGHIJSTUVWXYZcdefghijstuvwxyz��������������������������������������������������������������������������   ? ��(��
(��
(��
(��
(��
(��
(�� d� �h�ER�W�a�k��9��#�t�A1j6�R�����Y<�/�LY�r� �4�C�
(���Q@Q@Q@Q@Q@Q@Q@Q@Q@Q@	EW��������d��]ݰ}k��U�riY��:����yo�����V��Ϋ�Q�Z�&z����zv�{
~�c��E��W����Gh�m9��I�j���O�Ey��֥v�]M5�ß��r�}���B�m�]cl�l,m����ʒ=��~x�B8:4��Ζ*�WjH�S�����7�S��#�Џ���rMF��q����$�evo�
��L�5�[��������$��O�]=��<1f�&�h��2y��l���<4�Aa+�{��>g;w|���+�ː8�+�ȴ�6 <�>�=�wd*1�
t�]��2�[�H�-9�/���g��>V���	7��48�cb�ʺ=7Ǿ)�Ǘ��2/�N���s�׹]x+�W��6�e�u1��k�\���B�I���Ż �b���i�e	�8�𕢽�:?Ƈ.���b��5��� �� �W�h�(�<A�6�9��_vE�����^3��,��[U[�G!��}P��\dr\Y^��5��Np��ta��NXZ��;�֢�Q]Zf��?|Z��d���\��h�E��{��!��k�4�B�S����t�	U������V�R����R�
��h����(�� (�� (�� (�� (�� (�� (�� OI�W�t�?�hz����0O!�r) �O���ǽ5-�ɔ�wg�x� Ě���;�;��l����������N3�ӵU�5o�X���ȧo�Q�G����}G�~�5�Oi�Iw1J�e�$��u��"�� �5�4P��� ��Ww�)��Vg���s��9�xE�ڣ[ۉn�ss0���쿅u=��)�n�w;��Z*�ER,LQ��yg���^]�oq�i�MIos�+-��4m�^6����q]�E�4�+����o�E�����n#�d_N{�EtC�E5't�ɔT��>q�_�5O����Xn��6� �?���ީ�W�����Bm�u�� �{� ��k�i"I�h�Eea�V}+�� �y�M7QmfH����ݒˈc �8=��W�o4*+����N��ۊZ䴟Yk���v��Pƥ�.��c�3�p;w=���=��٣�2Mh-QH���( ��( ��( ��( ��(*9$H���U$��*J�?�~'m?L�E��-���Ŝc�x�WJ��5�έENO����↯u��tk����؈��2v�������`X�I����jQ��Ph���1��H�Lגxc��$����IX��āxH�_ǜr+�;+84�(��X��"/E��\�ycOF�'5k�z�yI��i��q�^�ON����볨����I�ߊ����:��Vc��}�����:��� �v:��y���'�����kԅM*�>��7�'M^���;�upH �4�_5E����7�c��슜�d��a�ʐ}Ez��~%Z��dӵ$���
����������IEsGU�:x��\�ў�P\�Gkk5ħlq!w>���t�?g��gns�)q��MsE^Iv�g�z��w�}bk���!�?,I��ֵ<�[�x�̭��t�)�c���q�8�3\��J�R��*��c־�T��[C�#Zj�����E6<�k����vx���}"z\A�	��x��E��f[+D��2o�G�����y}�|[�;�Ӣ�Vt��]�� �t��Nk���j����Y�(�������<�[�C��A���bx����_�6:c�ڪ�J�!;���b�<��F������c1��c��v��I��%8RҞ���a:���v8�^<������f!w�����^eᏉ:����&�5݌����s�K�J���xn��E�T����<]�|3�9,�&�� yl����}� �=���^��c��iE�#�H��x�X�<l��)� � ���	<L���~�]�[/�nO�FO+� ?���R���9����ER
HZ(���(�� (�� (�� (�� kp	��<E�I�~�Q��5� t���~X�s_Rx�;o�^md��@d�m_Ӧq��W^�)I���2��E��^����]N���į�ʧ�/�s�>��}i�� �`W+?���]�R�t�c���yy�2�#q {���S�NR�uP��yb�:�*(�I�Y#eua�*r�-H̭gBӵ�k�[$�� 	#���ׇ���ޣ�w{�=�Zp�������?J��5�2�`<`����'I�c��5W�s�|9�[X�c[mAF��F�*�����3�^��x���(��|�&i��[\�� ���W#�� ���[O��yE�{T)^�lu#���򠡲NO��AQ���44g�:��ϖz�c�~��-��Lm���c�{~>����N����B˧ZH$�F;��לg��)�ĽSG�����m��Y��_m�9QI�_�:��d,�톙jF!r�G���V�X�G��z��>�K�� #�<A�'B�Y�5�����)�n�����5��+kZ�4*4�s�16d?W���q)p���0��5�
�ke�*j�:��(a������V�C�%vo
�q-��/¿�h�`�cjN� �������y��a�<?�xz���mV?}���Vcɭ~�Rdz�\D�^���XxSZ-{�E`�)��^�K������B�98=�x�i.��h�Y�F��Ƭ�=p=k�C��I'm��|G����dxS7���,1�/�?P+��Rq��M�JK�����_A�e�u�=Rd�}��ס_�r+�X�Ĳ/FPG�^/�
Mg�m��/�@F��8�_oֽ@U���Ӌ�
�J'6��]KbJ(�����( ��( ��( ��;P7���8u�8�Hл�qҵ��F�U����U��U܎��|����w��Vn�9DC����6��,K���#��7��3��el4iэK��:X�N���Gm^9�KF� ��{k�Mw�ZJ�(�<Ԍ����W�ךx��/�� �Nߵ�%�� B�e��¸*+���J�~�ЃG׼+.t���j�'����{����izݦ�����#���e�� ����p{�渿�j�>�֠o#P�P�\�î\��Nz�j
�3O�I'��v�q\�5���l�B��)m�n���?�t4Ӻ�2�\d��CeP��|�$&���ٳ�eh�}�+����_2x���~8ՠh7,�G;��j�r�{�Ve�3*�(�X��F���e^�G��_P��W̾����Z<q�Y.�S��/�@k��+��~4��-_�ek��,����8!O�$�W�O�|C�}kF����g��A&Uyc�9�}�zo���g÷V���٭�2���A��5���ͪkv�6� 3O0��'?μz�k�]O����ud�մ�{W�5��Q�Z��� FF��$`rjI<S����{�\�u���@�`H q������?�	n�u����x�ݏs���+��)x���-gI�m��#�$�>n�nx?�f��+��m,v�EK��d��I����kZ�J��Y�B��2�H+��q�����ᇊ4o�W�j��*��:G���u玃�}�<K*�(*}A��O�]�F;�U�v���5mR�F�f�o%�o
��� �$�X��������Vxn0YRuxpA?�G�F��> �
�t%%����׌x"�|m�H������ B�F�5)J}Q���JTz3�((�3�(�� (�� (�� )CKHz�{,��A6��N��{��g�.M}�xD>єcj���Cw������Z�G���� �ƾ��xǃ4A�c��+��(��Փ7+�>%��^xcS� �mR5?�'� A�C��ͷ��+��߷�)W������,����K��y�db��7���v�Ei�[�s��S�N�=k?�o'��:%�[�^�Q��9ڽ���+;�~ojB� ^&�Ui��pn�$�sߞx�'>v'���,?���˻:ρ�\�����X�<r0����^�ޫ��[��$�$0�ڨ������%�E���,V壉�b d��򭠹b�<��u�J�[���,���WѮ�s}Y?<�W��P�AS�"�o�l�u!��%s�c����핏7�r�4��+�>d�_��E��n��n��O!"���������$L�c������� Z�F�Sn����4�c��ς��6��o���K��nVݎ�#�׽x��C�u���y-��	���B����{Y�:��y�������y��r1���_�0��k�3UդBр|����������>�/$֞g�`1.4�I�}���}j�T���a3�c�C����>X�{��X?|Oi�tKyUeS�*5;�}	 q\������7���g�o�"��!x����� �ɯ<��S� ����,�l	�6�n{���EJ��.��\�I;$�����0�Я�P�kq�#J��I�(Ϟ��q��\Wѱ�F�B��  �xK���N��{k�"�W������ �J��j0q����bj׍��a��!7����9�����'�W͚L�Z�q��p��^5�߈�j�A�����s_0�c��� �U����sG����Y���>�����Rזzk`��(QE QE PzQE |��s������t���}��u�]"L�l?�W�W��M�k?�T�,� � ?��5��|� IjǛ[�P=���-�W������yX_w(�3�}+/^�"�tK�2f*��,:���qZ��8�%�z�n-5�8/
�2�<;!���_�� �1�j�ϿZ��<��oW��6Qj���o
�NxF\n��kӻ�K���n��RW�w��>!��Ѵ��v�ӣ�]���9����r6�x_l�J�~��������1?3�������^մ{r���u� �bG#���W/�*�I����ᜯ�o����!NA8�:���e̚7�^������#�   ���'�`��c���5��� liO�������W���2<|g�Y�QE{g���_�<�����k�+�~)��&82���)� ^�^+��>���+��m��T�<�[�o!�-��j��ĩ `�潂��T���F��˚'u���� ���G��VE�FJ�s�ObF3�J߰Э-<?o��Q��C�VD��O5�����*Ӓ�z^� 14
�@� `
}U�� �.��5��}�DS��h�M|�ۛ�i��6�$#�,{ū�g�y�V��S���q� �k��ٝC�z\g��C18���\�)��G�����I����W�z�EPEPEPEP�|g�6]隲.K+[�~�2� 6�����X[x��Nvo!��8� �I��Ѽ�m�>�\�
�������|��r�՞�	��(� ~��#��z�u��Q��^��tg��Uk+�o�`��`�Oȍ�ȫ5�4z�܍�Tn�k���)hzD�^eܩ����?�������c�,e�,˺f^�v����/�ؖ��i8�̥ ��� ��sԬ��W	����T��}�x��T��5Ӈ�t��c�L�@���K�/#f��*p��U��y�^�oK.���(�s���}NяF�^�����e� H�e�q�u?�#���wW<���uQ�^?�/�h�s� -����ʽr9Rh�T9GP�}A�5�� mN��|������ ��VڴNZ�9HʹdӪ)�F����)]���f,xf�s�������k�+��O��튌�R��q�Vo��&�6���Ϩ����@��c�t�U󘹥RM�>�Bu!A]��� H��l� �m-Ưc^���������x�V>\=����0p����|��p'�Ҽ/���O9�	4�M@Z.�lJ~o��n8��U[���J��=f�Y�.��mB�b�*#�[#��u�^h�g�"��5��@�F�U��u<�\t�0��i�%����'Ƒ :A}r��l�~�U)>�<����;�(�YN���%�Rt ��ã�ё��S�������&��G�bz 9&�js�r�O�ϫ	u)�c3�=��~ ��~�fMb� R|��B��9������k�!�5I�:BQI装�+�>h�H�u��"k�n_=~o�?�zտs�T��ɢ��%ˢ;:(����
(��
(��
(��
(��}=k��xx�ŗ0�`Z���Lʏ�����*�> �\����!Po�������?P+�	[�T�fr���Hi�9��^&��@�'̀-�u(O̿�9�j�N�򝎡u����1���M�O7���W�>���tX�����Ŝ��u�z�V����[3,~h�Ktx�&�O���*�U�C�	=���2���E W�Q����w��19��]���n�'��GO�����C���mVs9�����^��{�sF���(�Wi[�z����5�D�ݲ�I"u�Е� �����S���&�����N��Q�k����y�\�~X��I�]���� f�b�����2���oS���{9�^��̗E�G�_�A ~��k╗�<	vB�h9@�0�&��h���ā�U]j�j�%��8�D}	�ִ��4�3��y��s��wm��I6|�ǥ9�0#��R�W��P��\L�&NX⾉�ڳ��[�c߾[�o �F��?�N�~�W�����G��y-�a�]}�n��}%ai�amg�pD�'�F+7�^ҼQe�mJ��۝�	cj�]�}�[�XY+��Y������ͦ�p.Y�_{���FB�B9��~�̟���� �� �����>�����U�h���pr:z��^�+N���V�DR�����Tn�����UM7v��<s��̓^{�m� 
�Ƙ��+� ������s�OI k�"�#���s��'9'׷G�x�eE�79��΁G�0���r�I�&�۵�J��"+h��ge �$��{����+/���+|3�.�
Ee�*��;0�p,��#>��8���~%��ѓH����0yX����<}��Q��|%�Mw'�|��^W=9',�Ԛ��[�n��R�T�l�3��:*�Q��[�撓�3��ݷf���F��l�0L ��'������E}0�B� `W�������nSm����c_�_�'��wb�[���d,g�شQEr�aEPEPEPR�/j�o�y�}.�[+�b��N$��ʜg�ކ�8��D�t�W%� 7���0Z���G�,���i� ��.eܿcS�_�p_��wO�:2`��u��������ֹ	�����C�kYH[����;�i�"x"��Mr��pC)���W���-�Si4=^���c�cRwB�r9�����ؘNƣG���ׄ��(���*��M�6�%����u ���:�+͵��]\4�=���� �}1^}�O\�R����-��<�f?+�Pq�{�y�k������H�}fvuɊPC)�<W�����M��&
�M>��7�j�'��4���Z�=�g��NI'h���g��gi摮.[���z :j�� ����c�_�{�(� ���� 3��=��qJ�	S�)94������5�� ���g�����R���g�����SR]��Է�����i?�?ҵt&)�M!�U����Ɐ��S��(`��`xe�pzzb�hڕ�z��$�q�)u;�¨q�Ӱ���zN�Ķ�|�ԫ�T�^���JZ��fx3��O�{�(� �����-?����]ϡTj+������f�3��O�{�(� �����-?���wcS�_�u���^�i��]]ʰ��wc����C��B�n۾�'j,}��Z�|E�ŷ>R��i�يyo�������(�NVm$eV5a���>9��+�ǖ=>�"n	�v�?��k_ៃZ�#�/�� �}�f ��l�� �#����xn=R�umZ;(�iY��q����}{W�Yx� ��q�Z�vQA
�DP�P?
�1�t��*Lᡂ�9�J�q�t��/�Y�� ���� � 
?�fx3��O�{�+��]�O���W�g�K\ŗ��-�^�gg�[�s3m�5',}:WO��L�FQ�XZ(����(�������б� �9�-�,x5�j�pA����v��[�
S����<W�_?�k���j�^�>-�(�
���� �5��4ԭuj����m��)�������Յy'�eT*B�����cp��zO�>G���V�^i`�R	�v0F �<~U��d��MO�6�0����!��59-�6�Q��GN�>�=���+O����	���m���a���{�/N�K�غ嘩?7�ӏj��;�/P����_�:���X��2����'ףɮ�g�.�i%��A�i����W~�0ON��n������m*�Q���5	�����'�{Ҵj;�3��j�J��-�R8�'�9|+7�c���3y�n��m�>aI�� ��G��5kŖt�t��b�\c�
�=R����_>!pڈap�G�q]=��|9�Ú]���{p.���VT���y��1�U�W��S��-A������� Zx�S��u��@G��� � ӡ�
��x��Fh��tV�G��gq���:�bdӴ�x���P�X���<�/20l����	Ǹ�'�,5� �:��A�l���0W��v�;�q�ܚJ0J�}Aׯ*�[;|�6�_���5�g$�E�Hf�Pʃ�3ܒ?�m�~�m��{�j�%Ł�Gvʢa������J���V���r��R�Aol�y��)8�{w�^�'J�]��\��㲘�`GN��j"�-��^rU�m���߹?�!�����^)��]B���Q�}x?����፪���D����>�o-�j�� ���U��&��D�v�a�Y[���q&,d���>��j��&���$2�y��i/j���+��'��kD��7V�M��[�އ�x[I���Oc�\X�d�J`0'���L���{]��0�t`��@ld�ֻ-­����z֑4_jE���F99����o	��چ��֑-�]��$�̅Y��3ϭg�����:�=�Գ��K�~����[y�aϖ�˃ӝ��ZxK�ZF���>*��Yu��e"��b���g�_�mvi�����F���:'��)=G�g4�,Ѽ;wk{�}�GO&����F�Q�:�����������i�5v����`�|=�� �5q����9��B���pF���;����.���ɰ�A����>�o�|C��4���-̈́�k�D,H�pz�y�7ǖ�����ڞ��^�[HZm�S.��g�g��2�Qv5�ZS�vҲ�������!��5k���lSt���� W��hj��/�1q��\�V���7 q���z�����X��|)yu���Io4�
\c��+���b��'��m6}F��T�
���M�Pq���T�'Z�4�{�.�ud:���ɭ���_�@&QF\���5�,~s���;r9�j����6��A�i���\i�f ,�ܤn�q��N+:�'du�Л��N�C�5� ����� /c�W՜�|��mB+ŚU��2���	$*2@ҽ�������� ����BIGVyy��Jקպ�>��W>/�H�����Ż�wʲĲema�3�=k�I=�tgO�Mz�f�3E31�q־y���O�oV�1g~Ŏ	/�ǯ��_Cq�¼���cm��ep�%�Ԁ@���9-�?δS��ߖ՝<Dyu������@�^�?*΀�ZgaM�qǙ�YXu�y�>����=���4�f�L�@�D���:�,��fR�Ŝ�FFs�v��� M�:��I&�,��;�N����篿�rz�ĤԮ��]L[�,R��F|̣)��q��+�
�m��b#h5yI����IN���������Ke�Y���Tv7��"�T�-t��t�Tf�b��y���P� <�F�Ҽ%ị�5��X����w4�Feb����ڹ����K��h|�n�'͕1�H?��/�/���~ā������/ �����U'�8Wۚ�3���i�W�6��ج����f2Y�0cn<z�Ut�@�<O5����m�ٮvŪ4ѻ@�p~\|�� {5���O��L��ܶ��J���_���
-~"+�����$��8�`�#�$7<�������q���wn����}Dյ�b�ի5��4v���$���&@A�f��M��YH�9�����'�g��8���I�x��v:���[}�Ao.9'p���>�7�S^�&��/l>�<�.:o<��ӊ�v��V�R���	ާÝ}gE���I,�;uq#e\�]�	�~�{�F����H��Ю�;�B��\C1
�j�����Y�Jլu��Ej�}�[IV������i_���;(J�������"d�I�A���v�e�_�MSư�S���)��o-2H8�N1��]�>����%����}8�@�l��<`�k�Ӽc�_��ֶ�.�e��w6����D|H�d��.mE��[Mm��$��v��RZ�z�9�����;]?���cy���v�8�U�!/��M��ӡ���\Ƶ�hw��ִ�=��l.��h<�*�	� �9��v�k+M"�K����Bҫd���N@����o�wz͏�����K�46�� �bI$�vj�J5UD�/�M�A��k�h��\��Lo/����m���W�м=c��uC�Z�`�r<��ܺF�����:\����GK��a��B�`�2���,�3�=>�-��'F�����uko$�B���{ d���e���W��k��K����?�_�Z)l�u��{g���|V�){��~��5BҼ���O=ł���~�K��X� ���+����{g/�b/-�h���9�0pp	�)��	�ҭ,�<;atm`�#�h�����KK���]�/}� ������_m���o�Ab1��F}kx�/@o�O>���ϥ��ڧ��h�+��'����G��h_�|�شG�~�ٳ3���j�X�������Μ�|��k��k~���qt	G'�u���׺w����u&�����nd��V,���d;�� i���[�[(�ױMpVI����'��r�_o�l���O{m��龜2ĝ0pp=�����ڴ[�o6��b�??�s��oƪ�"�NϽ����V�v~ ���Eܱ��8P� �کd�~u-J{�M�q3�ʣ�X���Q�ў�������x�jW(~�`C�/��é�=k莝;W����|.�dj��Z�L�u�1�� ��+�7q�^������Φ!�im��Fh�O>̆I�F *�I=|����Ov�� e��v���z�5���!E?�?*ʤծv`�K>~[��_&_��ߕ'�'��?���{W���bt~U�ռ�Q�{��� �|b�lzF��TF�l����b��؟��.������3f��������x%O��Ah�G�#��/_Jjƛ�4kw����\u�u|( ��[]N����2�1�#��ԎŁ�!ʬy�����c#V�M��v����Z�A��v�OAS���C}5..��qđ����28�w�V����F�i&�ֶ��LQep�;���ץD�:����je�{������R��q��Y���O�.��_����K2���3��I�Q��O$�V�,lQГ�GVw�ɓ�!�&�
�)
T� �3�T�A��T����&�(+kv��p9ޤ���vkE�OJ����^HÂ��w�Zji��ڴ9�2.�T,7`�=k#²kv���WB�f��x�"^[���q�j�Ն�a�+{��Xeo䱟;�=?��
��m�a����72����{F;n� ��v�-3�ZF�y5����,C,��� ���uM/UC$ڈ��23Z�˽F<��mש���7z�qr�_���bB<{Pf��*�m��	�+x半:� ���.�M'��V�,��I�X^�CEn�9 u�{��z���2^��6�KB �rK~j����v�W�쥳�Y��a ;v��{{�ݛ�>4�$�,渑�iP��LL�2�n'����ۏ��B�]B!&� ��z�q\l֚��f��i�a�ԗ��4��8,�z���������}5����S8�e� ��$�<�1ہ@����B�Է ��)���ÒF�5Hp�G�b��v��Mz� ̎эՉre��c>Y���W-t�x�h������L�*Y2q� tn��Y�x�I�n&���Yd�� ���������F��9�CXd��~A޽��M,���Lbv{�>lHU\�g���5�2��
���s�A�j9����&� 
�hף�\.��&� 
�j� t~Tl_�ʲ�g�ߗ�~?��� ������}!o����?�����7�W�[W�~Tm_�ʧ�˹��d����  �s�����<Eo�%�و����x�Q���W��J���r�(e>��)�Z��
��V���1Y�?-��QKEY�QE QE �m�m���-��y�1#��8�ǵi�]av�7��*���{W�B.�����O�6��LDv�kI[�F���=�P�� k؝9586�cd�O98c=i��t�)o�i^I"U
ܴx�:v�pZu��h,��b�7i}��v�n����ϸ桎�X��oop�Q��ϑ̖l��l��=Z��{oqsqo���!e\}�FG�^i��i�au��o �2#�m�C1l�>���N4�T�6�(^�Y"I���Z�  �N k[x�G��vעIي��Qלc����.k�o��D���E����Ĭ�*q�~o�R�i��k�p[}���NUش���z� 8��E�����d��F������*�yf��<�%�_}�jl��b��;O�Kt4�}/V���[E��K4�Y�]�ʃ<:�ր;mcB]PY�)�ym�ގ����2pF�����h�+3[����FȜg�;���=k���X�E�{O�,Ь��ȥ��ŉ�b�i�u���t�E�v�M+�E�0��!I' ����ԭRM?�� Jh��R~_RzƸ�Av�0���$���p鷜l��=1Q��}�j������x!f�v�3)_^q��h�+>Y�4[h���XAj����  ;���us<v���U΢fp�Fw��zf��0���������1PX(�2>� � u;~��v1�s���5���Jn�;��| �%GS�����j�Ceun��Q�O��fb���@Fr\�#a?�o��m55	ad̏���)��z/j לּ9�<-�K$�	�b]%������i/m⻆ѥU�`�4=X/Z�Q�5u+��R��K�"��w�;��#������B+�,o��4��r����s�
x�G� z���zMޗ���VSM�j��Uĭ!b�YK�?��W��A
E�"�Q�%��( ��( ��( ��( ��( ��( ��( ��( �W�u��o�{�h�V�GpG �E >�����m�!Ha^����E QE QE QE QE QEMt�E�_P�ڝH�h��W(��
(��
(��
(��?��
endstream
endobj
34 0 obj
<</Type/XObject/Subtype/Image/Width 488/Height 648/ColorSpace/DeviceRGB/BitsPerComponent 8/Filter/DCTDecode/Interpolate true/Length 28290>>
stream
���� JFIF  ` `  �� C 		
 $.' ",#(7),01444'9=82<.342�� C			2!!22222222222222222222222222222222222222222222222222�� ��" ��           	
�� �   } !1AQa"q2���#B��R��$3br�	
%&'()*456789:CDEFGHIJSTUVWXYZcdefghijstuvwxyz���������������������������������������������������������������������������        	
�� �  w !1AQaq"2�B����	#3R�br�
$4�%�&'()*56789:CDEFGHIJSTUVWXYZcdefghijstuvwxyz��������������������������������������������������������������������������   ? ��(��
(��
(��
(��
(��
(��
(��
B@' R�N�y�m�?���P0a� �Pi��Ñ�=EL��(r'���Ҹ�ttVj�
0v?��S.�Ç�pآ�c^����T�R�?��U4\E�*unzO��*@��T�=���))h ��J Z)8�� Z)8�� Z)8���(��)���� z�@��7V��� �B�:��� �\���+8����d?�� �����ĵ+��I�b>�rÍ���P��Ü���8�T\v:�FX�=I�@ �B+�;�,KRkGM����C��O����lQE�QE QE QE QE QE QE QE QE QE QE QE QE QE %-^��m�.ܞ����!���#؇��8���m�L{�O��������n�Z��;z�叭M�ؖ(��5USM�-�B���5Rm2Ԏo�cP�"<|���pi�@�c��&>YU���Q>�r��ѿƷh��s�k+��~� *��Σ&) �S]5 �ˉ$��f_��I�����'��k���Q�ލ�Es_�/I�� �� i]� �_�tV���� �� ��l��XS�42?�n� ��:?�J��������j���'�u���� Ǐ��Fo���������J��������k� <���4gZ� �/�x� �tfi]� �_�t��7��� �Z������x��� �)�P���� G���� -�� ��o������)���ƃ袀9�$������ҋy�����Mt�P9ղ�~�����WK�n���o��(�\�M"O��f�M"1��c��:J�5�-�}�����m
clH1��M�1LCX�eH���۵��[�<���U{�e����*}+2��y秕!�⎧��hW2D��wGC[��Ku��zS�4QE1Q@Q@Q@Q@Q@Q@Q@Q@Q@Q@Q@SI
��� �&�,�m#�*�k����%27����o.��L�����ެ��g"�Q�T��)i�~By��7���Ѣ��"�E QE QEe�UvA=����T����WV�jml��¦��7�,��r�� ��dӴp��/��2�J㱳Ef�g�f��
��j+�>+w�5ґݝ1�Qq���<r�����p��)$��1���a��@tVU�ng�-��4۴��s׵,���k��+H#��@�jQ�dM#�,�����.�~<V����Y����,}���yEQ����3������C��8V�g�TP��-�+���LԒD$v�Is ��.�@�<��Ly�,�s���GA�u����b,�*��$<q�w��,lQY�b}�..՗�� � *�͜S�w2�;x#H��F��o3�uT}������m1�Y�4�7Ev��E�cB�NԴ(�� ))h�
7��h�r�(��ڲ �����#�ںZ�Ԭ�4c����4hC2��TԵ��]�i}c?xZ�VW@�r�4�:�(�EPEPEPEPEPEPEPEPEPEPX���y�'��?�� �N�/w���јw��T6vmq&NDjy>�ԛafgo6A���z��B�U  0 �Rĥ��QE QE N8�����q�����)�R�o����m>�^����{� �w繭:)X
7K/��u�@�Ԝ������y 2�ڈ?ζh��S���Kb����¦�#�G����۟Z���V�o���+��}p*(mY�$����H��_��
#i�y������U���G���T�5P�K'i轇ҁ�O�V�]���E#[H$w�o/,
��n��3��KZ�ۈi'����qun�+J����)hVr�M+�!���Q�A�5 �1����Ph
��K
�F�[h�{�imc�4��@Y �Î�w�Zq;R�E
(��
(��
(��������ݟ���l/�L�l�[d�x ����}�	��=��l=��A�KX�}��DR��z�?�jڪQE QE QE QE QE QE QE QE QE VF�}�b��јw���P�P���U��{�1��jC�ZZ�������V�"Ɓ �p)#�"�*(�)��(QE QE QE QE QE�(��w���.�!�� : ��b I���x#8�[ہ��n�J\��
�����cz S}Z�V�x_@��:hMRc� -� +[�D��G��S�dw�g?�K����1�qc���� *�-�U�ɧR�]R�"L1C�����Īc>�E_h�0ꮾ�f����1��Q@�eu�
��)��� ��� t�V�{=B;�����O�0.�E�(�� (�� (�� (�� )3KE %5�]
�H��E09��6�|����O��6�q���V=�����!W ��`�Y���d�O�����{��a�e?/Ec���[5B
(��
(��
(��
(��
(��
(��
(�I"D�݂��M ) I�I�{��.c��>��S� ֨����(�X�;��-��Nw�V/վ��;��k��"0yo�+v8�(� ��UQB�G 
} lJZ(�AEPEPEPEPEPE��mHݺSL
���M�̬8����K)/\�#~f=OҒ�	5�i	ۜ�J�Q*  (�D��H�*�G�����o��!�n�d��)�I�;[*��q��5V��W���1�Cm9��2p�'֣�v^���	�ޫ�26/����-ԾL%��<
�'�%ǚ"� A ��%ܥ� �(Q�#�|������ tR+�r�O�W��
�b �ԃҦ�O&�q�5-0��#IP��OPk
���͈�x=�� ����y����:��Ҥe�X�`�RQKO�+�L	@��B���w��W����C��[v�+un�	ᇡ�"����(�� (�� (�� (�� (�� )��"p
��>�``]�=�n\��F�����G)�}�u��P�� A�b�X	�0Z?��Զ��!� �A����{g��Dz��Ҷ�&@�e=�1QE�(�� (�� (�� (��.�5L�8f��a�4n��;e˜�裩�I�$�}�xt���K�瑫^�OK|<�y={
ElW��ND���j�����QHW��(QE QE QE QE QE QE V�p^a��9>�	
 5�Z)�ԕ�X�q��j��[[*��7-��dw�nT�;��T���D.����~(�F7���S�7��4M��3�T�1� 2+�b;����K���+D���8¹3]0��R}�$Q�	�ȨI%�Y���1�_���A��v���q����)�1�T��D�L��u�7��|����ԏi�dl�G#<Qu���E?����SLf�yD.v� �"���l�OEXf�LbeeON�1s�aKP8�ZH��yE;�{�*�����wg�� ��F�.�٨���"+�qql�� U��>�9���n��׵o���ҹ�A��̼d���i�R�#q$j� E>�
(��Q@Q@Q@Q@Q@QL��79��P��F�}�O����J�wa�Yp�z�?ZV%��w+��㪚�\ˤ���G�+]Ov|هOƘXԢ�`��Zb
(��
�qw����죩�ڕĐ�,gn��������BK7R��b[��nr�q�_�-����Ȟ�u�U�m68�ip���V� �6���c\z���-(�� (�� (�� (�� (�� (�� (�� ))h�kӶ�c���e苛�_�1����ij �>`?�Y����ր6��D��:�AM���b*���܇p}s��n!H��c�m�S^q������3@-��zc��W��e�q��\ֽ�Oh�$ed ������h�)m��/��sǮ).�icP�C
Ϩ�����1���Mi!����i�-������R[�ٹ���C}�:�;B��<U+2���H,:� s@n��D�O40c�O~=j�����jd��A
����V�G����j����r� m�I�T�k*�.�(���u���B��#�� �ָR:�ʲ���w� �J�2���!'���\�Z_�����j� QE 
(��
(��
(��
(��
(��
(��
JZ)��G:m�r;z�ǹ���|���Zޢ��s����)ܝ�� Jط���aN���Λ�h� v��d����WЎ�\7:Z+/L��fh�m�W ��S�c�?C�)�?ݛ�?�3X��� Jv��f���H}JZJZb
(��Q@Q@Q@Q@Q@Q@Q@QL�M��F:��?*���%���j@�Һ��U��"�8�~�� �I=�?�A"\�x�}���:S�a�i�I�������f$i����M[�2c���Uͬ�t��qQ��8BJ�o���vI��?
��bQ���T؊�<p�j��y�cq�F���A��]��(��2��sU��q� <� QRG`��c��h�,%r�]�+mEb~�*gql���q��(
;�U��(�js����28��A竀�I��׈p�� Tiű%@�;�j�S,� a�U=E91�=�����d�v���O��X*�n &������8w��_� U@ֈb��1�d{Պ(��(��(��(��(��(��(��(��(��(��uo�� ��+J�uo�	��������o�?���#�>_���(�~���������֛�u���;G��}G��>��-%-2B�(�EPEPEPEPEPEPEPEPY������珯�� ?ִ�>�u��;�G+�Ek������q,Y��#�O�i��-�{X�P9��yݔl�fF���QCh���͌��h(��Ar�����!ީ;N+J��g<�2��	a�*�Z�5�0��w��1ZV��5WLV%�|_�ʘo�`��X����i���L�$��Rݨ�t�����@"�I|�Y�PA*:b���|'i�O �=�}��Il�ŵ�8"�5� ���L0ïK��sHT����[�Ե��4�>U��ڠ���w�?�����{J]"ԤFv3�/Ҩ�ڽ���\�.ާҺ  �:
/zZ(��(��(��(��(��(��(��(��(��(��uo�	����*�տ�'��҆4W�?��� ����4����?�����c�?C�)�?ݛ�?�7X��� Jv��f���H}JZJZd�QH�(��(��(��(��(��(��(��(���� c�ȅC) �݄�O��X�C��� �i)��i�+��+v~���Zk���{�κ�b��������³��t��h��S�)1��P�Ԏ(E�pdG���D��j�j��9vO���(Ȍ}���@� ?�>T�P����v��� ?�Q��j���� �0/��֐����Y�}D1}��� ת�������p���5d�)o�~���6�S_I��X!9g=OүZ��C�D����� �Z` 0 �@�4�0��TIE�QE 
(��
(��
(��
(��
(��
(��
(��
(��
(��
�տ�'��Ҵ�7V� P��J�_H� ��� s��(�?��� ����k`c������h� vo����c�?C�)�?ݛ�?�!�5)i)i�QE 
(��
Jϸ�|��/(������� <?�� ��+�ƶh�d� l���� �� ����?��� � �Qp���3Y?�'�x�� �j?�O��� �� ��\,kf��O��� ��� � Z��� <?�� ��٣5�����?� ֣�`� �� }� ���X������� �� �Կ�'�x�� �jw�VO��� ��� � Z��`� �� }� ���f����?��� Z��� <��� ֢�c[�Z���?��� ��j?���?��� Z���zJ���?��� ��j?�O��� �� ��\,˒XZ��@���ʫ���y�?£��?��� � �Q����=� ֢�f�q� �f� �i�E�^�!�@�� l� ��{� �I����?� ֢�f\�O���
���� :����O��� �� ��l���� �� ��\vf�-dl���� �� ����?��� � �S���zN+'�d� ��� �G��� ��� � Z���lњ���?��� � �Q����?� ֥p���3Y?�'�x�� �j?�O��� �� ��\,kf����?��� � �Q���� �����5謏�� <��� ֣�d� ��� �@Xע����� �� ��k� �� }���VO���0��� Z��� <��� ֠,kQY�'�x�� �j?�O��� �� ���z+6O͝b��;�J�Q@Q@f������ZU���O���h����� ��Ei��� �QE5�1��X~��S��7�Zn���������֐������
(��RSQ� ���������4\���ҳ��I�![V� �����T�܇�6��y���h�δ� �_��� �ڊar��u���� Ǐ����i� <����5r�vS�δ� �_��� ?��?��<ƮQ@]�� ��?��<Ə��O��� ��tQ`�*gZ�/�x� ��ֿ��� 5-��oH���5�\ji\�9�����*�����?֜�Y����p��ڣ�Ӓ8��Gw-�s�*m�P'��~D__S@˰��M�!��n<T��֟��� ?�N�d6������=j�1?��?��<Ə��O��� ��P+���u���� Ǐ����i� <����5r����i� <����4gZ�/�x� �\��.�nDU�h��@�f���?��<Ʋ%� ��?��u�RE2��u���� Ǐ����i� <����5r�v&���i� <����4gZ�/�x� �\���)� gZ�/�x� ��֟��� ?�W(�.��֟��� ?�G�u���� Ǐ���(���u���� Ǐ����i� <����5r�,e?��O��� ���:��y���j�&�����=���E�!�k!�.HA<ڵ�!�D�yDp�1�ܞx�*��Z�d�e���c��+���!3�0� ��X�
�c����bk0�!�E�	�3�� ��}05��/����d���w"���� V`p	����)��$-����H,m� gZ� �/�x�6�l�8��Y]��"Hï����#F(�\�	��ϱ� ��� ޮ�������]4(��b
(��f������ZU���O���h����� ��Ei��� �QE5�1��X~��S��7�Zn���������֐������
(��'jZN�����!'���m[� Ǭ?��X����$�?�����������Mڊ;Q@��(��(����`P���G�?��ո�D���1J�2�FA�M��8���`) �uE��z��Ǽ�	�lJ�H����������L�s�������6�*2������io�{uO���ާ�����(��(��(�r_������]s�� ����� :�"�-QTHQE�(�� ))j9$H���Gs@��1���QX�:�ұ�}���^\��ڟ.1�����ٗ'v8,:�ڂ�f(i$
9f �Գ����I�N�Ҧ�����̍�H늬����1���kIQN%��/̸9�'��킀v��_��۴s+\F�P?1��\��b"�b������ ��9T������l� AQsT2���.�AB2O�h�i�M�/�۹Q��.j�w���$0���<�l�o��Nw�^{UX���F}x�R˕�#�k^�Y�1F��d�C3���?����r��?c� z�:h�QE1QH�uo�	����*�տ�'��҆4W�?��� ����4����?�����c�?C�)�?ݛ�?�7X��� Jv��f���H}JZJZd�QH��-'j``j?����B��� ����]G�B~�Vտ�z����T��&�E��AEPEPE���Z��H�!PI�s��eqsq>֛FH*9�קr��k7I� ��� p� 1R3j������(��(��(��(�r_������]s�� ����� :�!�h���QH�(�5�:�ń� ��nos��h�h��d��*��i0(ں[Mq;�v��f���,�~Rr~���+�%f'�ēH�$p2p:PY$WC�r=;T�B��g�ݏ�Uu�F���t��3�8�Tt�.^�$��Xa�I���K6<���*Qap˻� {�?�2h��X8��sO@i�p�>p��G�R�.	1H�<���"�J���ϩ1�,)�:�#�3��XA�� �3ʗ�`,����5Wځ��$kc((m����kƪ��7B?Z���Io$-��b1D��g��;�0d�)�c� �� �]s�?�����SBaESQE�+7V� P��JҬ�[�B��(cE}#�>_���(�H� ��� s��)����:��?ҝ��پ���u�����h� vo�����ԥ���HQE�);R�v��� !	?�+j��=a� p*���!'���m[� Ǭ?��Hobn�QڊQE QE ��i;S��� 2��Vf�qz���V��qb�ԏ�Yz�{��I]��;�THQE�(�� (�� (��� s�� ����� :諝��?d� ����GI�QT ��) QE Uk��i+�qVj��f[YFX�)"�R�@CW4��pS�ά�+s�F�����RAna�$�[/���E\�U�#�"�rN=*dUA��!�d�� ^��$_�F�����Z�]U0-���p�h ��IVv�؅^s��Q9�N��j�e��;���JU�9[c�@� ���3�S换��n�:���<� z�[ڬ�SJ��O�sT�V�q�G%���?��`w�4˚c�|�������&�GV�6y���ZZ3݆젓��Zkt���ݴ)�A&-��E����������詠aESQE�+7V� P��JҬ�[�B��(cE}#�>_���(�H� ��� s��)����:��?ҝ��پ���u�����h� vo�����ԥ���HQE�);R�v��� !	?�+j��=a� p*���!'���m[� Ǵ?��Hobj(��Q@QL��-'j ����A�����k� 0��� :�տ������bm�#z05%-������E��� Z))i QE Rv���@���'�t?κ*�f�۟���]$S�(�$(��@QE QE 4( c�Ө��0�Vw����5MU�l(�.�oR� ���?�7O��z��kb֒���1��DR)����#�1���ݭ��:� U��֬��`�O������G5�s����?����J�e$r�[z�K�'* �8OJ��Lhق��*�c���0�� ���*���r*��T�����ör*��m���?����h����2O��/����WO9���#��O��L]N~�� ��?ڮ���������@(� ��) Vn���?����Y����� {�PƊ�G�|����QF�� /���S[�u���;G��}G���a��N����Q�i��KIKL���( ��KIڀ05�I�![V� �����V.�� !	?�+f�D�I�T��3*)f (�I�4K"�kt�c]ܽӲD	�Fx}�_�u���������@'��ot�H�>�N�w�������&�� �S4�U3n8C}��Y$X�.�
&�eĲ/F��iu)�&V%?�z�Q�*�����@OIQ��
����4�fk�Q�rk&�5��{� J��RR:��J}F($1�ga��V`m�񷪃�W=q� R� ��1$i� k�� <��kǟ�M�������7`�"�O/�zg�\�n��>�� ���֥�Ӈ�< �[��E����0�e�^8��4p&�h�x���7�s�{��6˨�]��ǯA@X؊T�1"��iQ]Q�c�Zȵ�[kG^����
m�<��m&Il�O��!��?�� ����G\���� ��� :�RC���eq�`G��Q�Y��8�>��9�d�p��}F�Ӹ���EV�v��GC� `�4�g�Wf'p�s��q(����(�ERUB��� x�(�S ��lw9֮j���@����GO�ʟkc�~?�"��ZhP� ��N��ʮ�X�`�XW�m�T����+��2�cp#>��T�kq�����d����wV��i秘���?1X�!�li,'p���h?�o�di2by� ��� �ֻ� �o�1=�~��?c� z�*�l��?����
(����(�Y����� {�V�f������C+���� �QEG�|����QMl~���������֛�u���;G��}G��>��-%f�e�eP�a� ֡�M:+;����?�� �G��� ���� Z��ƍ'j΅���!�U`T���V�jb05�I�!V�K��xc�<G�rKx�����$�?����������F@��oe" ��N9'��X�͒v��En�L.W��[h��X���Y�O$�6:)��+~� ��ll�ģ���SY�Mr �� �q��Կ��_�����4:)C���f����n$h����1X�H� ��� t� 1N��5���=5�W�s������k?�[%�� D�� �+��>%� |� :�ӏ�_��5�q� R� ��!"?J;�ILdֿ���tη������c5�k� P� �A�뤠�e���Or� �	>�J�al�D��
�IE��U��D��*TtU�������m��U�9�~��;/�?�t?κ.���� �� ]�}n	P8<Hl��� Ǻ��)�o��� ��� @�j71M��1��ҙeu1*�A�vۊ�R� �	�(���?��f�]_�5���q��zK+�"�G#+܎��I��4����w4Ÿ��U�	= j�y{o-��I�8�ֳ�]c������j�c���hZ� �a�r^[��VPX���R�Q@ 2�# �TR�Z��?#����<V�X-�x���*z(�E� ����d����jNԀ�-��n�kz�	t`T��������� ꥶ��� �T�U���?c� z�:�,��?����	�Vst0�l���sL�\���m"�9*wQq)j�ԭHϘG�M9o��¬�bp�@�7V� P��JѬ�[�B��(cE}#�>_���(�H� ��� s��)����:��?ҝ��پ���u�����h� vo�����Ԫ��,�VG��u5n����;#HC)���؈���� ��?_��� ��/��5/������ �O�R� iZ� �_�t����C#H�4����V�Ux����G&��q�V)���� �BO��
_l]�}��4j?����B��� �h��ʜQ2����� �x���?����5�EW*#�3m����h�� ���kN[�!m����`�?�m?�� �MC瑜�z��̧�$������ *ێU��۔��9����d�� �/�S���cIT�����=�����r���q��M�%���ʷKR���i�*J��`˜dQd��X�v��@� S��bLNI�H���G(s����� *>�q� <_��)�9ق-�T�H�:T������mQK��f./�n?3F/�n?3[TQʃ�3��<�F�5[����r��g9�e��s�K3n�F�2���_����8��,��SQF����Ǵ7�j��J�l�ʍ�� }� *�ěBF��K>�)*�+n�N����d?�ʎM,+�#
��}�~��������d?�ʎM,dc�ޥh�
H�t�����d?�ʅ!ݒ�sm�:n�I��s꿕V���������b����8I?�ո�dT����V|oc�r{�O���?�j��6������ �������gy�z�ʏ>/S�S䀽�G������o� ���gy�z�ʏ>/S�Q� ���� �?�z��� �1� }��;ϋ��T}�?S�Q� ��P�K*�nFT�Gj�Y� ��T*v�������zjOc� �� �]s���ֺ*�e9⹕��o.<s��� >�ѧ! �,����N��Cx�9UB��Ɵ��o�� (��Q�
q깧xB��A
*?���a��ݘ*ɒN�i��k;V� P��JѬ�[�B��(`��G�|����QF�� /���S[�u���;G��}G���a��N����Q�i��Y�^F�:��b�Fp9�(b2^X�WɊ�k������g��i��'`�޵�iX.e�5�"����i)���� �BO��
փ�=�� p*���!'���kA� ��?�Tv3�KI�M�D�7H�W޲n�3"�p�),z�VBW)]M�ܼ����ڡ����GA�ǂ}O�O�An�Kn�y�Ce��뵫��J���ه��~�lA��?JĢ���4�uF�rD ��>aϽCm��k���g99�TQq�O�fo����4mM� <���fQE����ڛ�y��б�k�� Cc��+wG� �6� �
d�#@�Gz)�f���*#<J~iP��H�|���S��?C�����t�H��O��Ϊ=M]�� ��;Ώ�����>��?:>�����KěH�����t�g���}�� t~t}�� t~t{�i�<~� �g���tϵ�Ώ��Ε��-!� g���t}�?Ι������������x��I�x�� :O�����>��?:>��?:/��>����>���L�Q�����Q�����!i�<~� �g���}�� p~t}�� p~t^!i�<~� �g���}�� p~t}�� p~t^!i�<~� �/���?�G������������x��I�x��U�O.B;v�~��?:�I|�|��Q>V�*7OR[����]s�?��ֺ�F�)�i��$����sޤ����Ze��v���F~P*?�h?�/�?ƍX����Oʔ[B����k���?!�4����*|�$Q�j^��[�B��+J�uo�	�����+���� �QEG�|����QMl~���������֛�u���;G��}G��>��Ar���.�?uqӚ���!EPIKI@���$�?��x?��/��G�B~�V��k8�7�$g�8�L�7R��]�� g�AW�L�26p'�n��Mё�a����KIV���D��Xd��i�䐋�(��<���kE���a]�����w���� �M���N����y� <����4e��/�x�!�"�s�.��y���j� �Ģ��$�
���w� <�����Q���<��� �*�:\�r���3�´�[X�@v��h95V&N���H�\��G����9���MA���n
͟�n�������/�s�xRMF��0A�ȫ�i(er�t^�Wc���q��|s�ҹ|�b��;d|�'8��U�.[���[�+v�C���ɸ���� 
��*r#�a[�R��s/�r�R1@��P�WMU���^Z0��i�`��c�ўm?J�##�Rͤ���o�/��VC��5{��س�zʍ��~Uܞ�3�*O>?��֪qdZC��A�Q�zʙ���� �������ӼEi�=�F��?*g���CG���CE�c��A�Q�}�L�����h�����h�B�~���W�~T�>?�~��>?�~���,��_A�Q�}�L�����h�����h�B�~���W�~T�>?�~��>?�~��h�����?*�t�y�� {�4�t�@=G�&�a�+��� �ؾ���=a� �}k��N��(�\�3݈"�bw{�����	��zu5 \���7w�r�Ax�� �I!�͑�ɔ�Rh՛��O���iVn���?����"��� /���Q���� ��E����a��N����Q�i��X~��S��7�ZC�jU��f�4�y6�� �W�9����I-�WY99?�z�:��	kI I��P5`���Џ� U#5��bhQ�z΅�|�H�+�~t�	a�N!1:1�Ux�$���@�Wj�W�SQ� ������>����VN�� !	?�+Z����������N����X�ei�B�ܐ ��d'c���y���ݘb��Uz(��Q@9\(��	
(�4 V5Η'�Z I����PMw3e����
�}
vZs�(�l����j��P���-��ɬ��	��3�u��-�����ا����S�_+{�6�,�jf5����Aa4�qT� w�K{m�s� y��M�i$S�O�H�ޭ�s�Z()h�&���fW����(z+]l!��s�R�Q����G�q@5ǖ,rI'�4�X�䮿��]Esqj�Q�/�����zf6�λ���Hjk(`U� ��$@���� �@�i��Z#巧QY��Mn~t��:WIM �Ґ�sW?8${��D��$�5�>��4�on��5���.��J�3Kq5q� g���Ώ�����Q��d~�::��O�[�f��ϳ����G��� j��⫕��~��T}�?��^(����}�?���<�T�S�AvE�x� ڣ��� �R�G*fE�x� ����`����5·ғ��)2����]s�?��ֺ:�{��+Ok�<��t �Qŧ[D۶�=�Ӯ�ت�.��EC��"���*�>��H��#֪E�[���f#����Aˑ�Ƞ�p��B^��mA8$�Ҁ4+7V� P��JҬ�[�B��)�E}#�>_���(�H� ��� s��)����:��?ҝ��پ���u�����h� vo�����ԨM���x �T�Vd�,|�,1듃C$���2���XQGfD�IYs�i�۵Jf�b����K:W�z;Vm��ē�b��)��Z]���� !	?�)�ڃ�H7��z�f�� !	?�*�Ӣ��7_�����M0i4X�x�����*jÒ������I��\F1�p� hf���ñ�Ee���|�)�S����?� ֢�FiQY'Us�bQ�9��P�~���(�#6Y�Y��RqU%�a��̇ہY�oqpww��7����z�&=��h�)@�5��p��Z|t�r�ƾ���hma�� ��jz���V`�����ժ)i QE�(�� $�ԚÿԌ��	�}���� X��Dy�܂�۰�V+3;f,ǩ'&�W��ٮ�o�����
4WC�l��!�8�Un+xa?������[[�X$#�)�6w#�]�� �utQp8�
�A����]p��#5Jm2�^D~[c�q�t�%�Զ�n��ꧡ����;���}�=A�k�&��?ޯ�#�ʫE<��Z'�H��]��ߛ�b��0r��h�A�Җ�@P�M�\��ۧ�Y�Y�[�W*?�y� �WCI�kM�sk;���z�gC��>��-�rSkz�B]&U�8��j�Y"\S��UG�h̮�Qց<���V��Hp�[���������O��_��r2�-U7-�TS����¥Ո{6Yy�>3��*���x�����.-}[��Zp��n��������6h���c� �� �]s�?��ֺ*�1�:�;��$�Fj����g�]J�x�F:�����>���d�2���aL/��S+_�]�\�Oή� �ZFuB�������;V� P��J�5���O����}#�>_���(�H� ��� s��)����:��?ҝ��پ���u�����h� vo�����Ԫ������K1���Z��ux�J�����hb,�;u��3R�**�¨5Ơ���F����%�􈮰FT�����cF��F����4J���j�j���$�?����������Q� ������o� ��?�$��^�r^5b{��L(�1Ιl���ƙ��o��?1��E�K�[(����jt��2
F���榢������QE QE ��j���E���d>�����_]�C�)���̥��妗{�I�)�� ׭j����\H���N}� µ�@(�� (�� (��`R�������� �V��@���W8��S�Et6���e�CTu�D���)���� �E�HwK�F����?* ۢ�( ��) ��Q@	U�����
�ʬ�Q��L�=��i��6� ޓ��ZP;������<�XՄ�#�����(�.%#���S����@�������k��� ��� ޮ��3�H��T��^�>��.�$���r�Fy����n�L�N�.e�qs+��phv����슎	5�E�gj�����Z���O���_H� ��� s��(�?��� ������1��X~��S��7�Zn���������֐��A�.V�巕T?$7��W�j$��R���	���l�t�����e���u���?J����8�?��S� �j,)�Z̷i�Wl`b���4v�F�� !	?�+j��=b� p*���!'���m[� Ǭ_��I�J)i-1Q@Q@Q@Q@Q@f�$�����iVn���7�pO�?� s�QO�6�EDf8���<����+N���[@�/��O��� QE�(�� (����J(����M�o�+7D� ��� �g��ٸC-������dh���F� c���Q@QH�(��(��(��(��� p�)������z��?c� z�*���?�����ʓ�h�r������U
i�x����O���ZA3�70�M<[��!A� X�6,�;��>�4���(��p�t���E4��Vv���?����Yڷ��� {�P�����?���#�>_���(��?X��� Jv��f���M�:��?ҝ��پ���CR�Kwj	�G\��
�V��C��$��TP�d�-�$��.J��R2D�hmnA�S��p�F  {
u+��E����	�kG�-'jv��� ������o� ��?�b�?����B��� �x��ʒؐR�
Zb
(��
(��
(��
(��
(��
�~��f_E��s�*wp�]�FMb�������1��h5#y[lh�}f�l%����"J{���:ѭ`e}�ٲq�V��9Wl����S�]A><�U��*'����l�I�;�|�26L����#��t�&��m�8
9�~��mi3��w���W�F�p��?�E��Ӵ��#�?���5�faU������}N	�)�l{7C�օd���co�G:���� \RZ�}����md���s@���n�z�&�l��$��i��d7�Iqt� �A����P"�j�[lI)��/�Cwd/���j�mm��I���(��Ty�J���`��`��9�4owf��·�Wyww?�j��k*ni�Ցan.���
>f��0:Z))hQE�(�� (�� (�� (�� )���N�o�h��� ��� ޮ���������"�N�����
S�j/���1�U��׊O1?���Cf�� =#��S�;� 1K̅3� #�t_��?�H&���I�7
,����O���iVn���?����"��� /���Q���� ��E����a��N����Q�i��X~��S�o�7�ZC�jVX��&���
+R�M��;�`�ǩSֆ$s�Ad}�0:��^���B��`{��<:}�-�)v�\�<Ь�4m������Gt�N��� �j�Um�a�}鸶1�5j����$�?���9��� �?�cj@�'���kB�"?��H���-1Q@Q@Q@Q@%-^�?b��5��[�A�Aa!^<���de�k��un���#�Q�6�u-�NҐv��Y�:�OQ)��* +H�Ԯ�U�2@ϩ�[uB�	Ve��fEd��h�[<��n�,EO˸����-�I�ȓ���H>�N-���V_"pz?��P*�n�0�
֖I`$�G� {�j��_o����1����~U4�]M�G���#�֌Q$,q�(�@�x��cH�@�T���-ƛ4�;��*Ӻ�&^��>�Z�Kd�� ���M�G��u;�t���x���I�i��'�a����U5B�Ỹ��H����I>���f5�oc#'�U��,��
?��)���6�]��ۢd������>/����h���AEPEPEPEPEPL~��>��;me>�� a�� ��_�WE\��� ��5�I�WB��<��!���<�[�]��� i���W&��w"�����k� <���h_�lFV��w'�R��'ITX���� �m��<ƕlm�ìX`r�ր-�n�� �����*��� ��?���������?���#�>_���(���k=a�7��F�7��������)4o�m� �����NA{汍�ٞ�ʩ<�B]�ĥq���D\���"�$�v�_���2�E�]������wk�s����T˦��/!=ٿ���/�K���A���{V�D���E_��i�f6��΍�W�� ��irn����#�ѩ�^�p�?�SҤ�p��8���i�ږ�CT!h��@QE QE QE QE �f�O���� *Ѫl������o��,���+��q��jb���F��"�@RPrA��#V����q0��n����^]Xw�����l�%2�wN� x���r��d�E\�"]�戒d�U��&��db�-�����WW$���T��\������� �z �Ȼ�e���2�➶�!���P�V.�;[\*I���3�=�����*߾�����♥�>/����W}�}���ҭZ'�i
�A��)5-PEPEPEPEPE��
��>�&�!E]�mVLȱ�FO�� �ց��Jfᜏ��}� �kj����[W?�� &�(@ʷ)t�M���u� �j��� �ѷ�?¥��Y\2\<`as�5���ݼc��i �n�?�m�����L!A8ܧ���Ի\G������V�T1����J�5�� ��+N������'�S`��q���?֊v�9�� ?��2M]s�6?1� ֨4��ċ���\�5������5�ޠ�t7j)�� ��5Ap#�ʛ�9�3HEf�ж�a�F�TB��yLJ�����<_3���W���}��Y|�d���o֖�l�a�������+AY]C)�U���K$����F��t �P�U�A"��G��#���?ʺJ��-���G̜7��"�2��,�ц~�-b�>\�K��������@�QE(�� (�� (�� (�� *�d��d� �(��KhW��z�KK���d^F��+iL|����NA��5�Y2��j�S�S�7�� ?ε� ����)����XebB��O� Z�S �8�;�l0_����wt0��I�QK1
��'$�"�FV�s\�Ȼy�n�*���|�Q��;(S�REϧց��^��+��"�هQYgK�_�+ė��u �U����Ձ�t�O>��"2F>F����jӼD�F����X�>�|�kq�NO�q�lV=��V�4� � ����ؠ�(��(��(��(��(���� �I(�F8U5�|�W^���U�R�sy(xS��>��.���8���HkCF4ƪ�`T����Q�g֨C��3P��Ƴ(�W���)�S@v���L��
J�;�%��.}	����3�0��m��Y:�|�/�&��Tp׻��_�C,h�䙏r�� *m)
�d� ?����be��͂H� ��W;�S#�;X�뜽�ʼ�``��ǭh�����T��|�D�����U�B
�.�<n�ދ�W�G{��yYa���[��ȃ>��@�b[������,�K2�]�-*�0�����v�-���%K�Iqy��~�:��i#�PZ���Wk��/�Y�F��+����}=�B��N�T���?1V�&�����	���p�9V��{�N��nWk`H:�_qV��QE0
(��
(��
d�,Q��¨�&�Ic�r�?�8�F����t������.��]�!�_AN����q�?�n�j��Sun�V�G<��5[O�`�e�eN{��I�����G�Oq�Vo��C�T��;�T���(�p�) ��֥�:ī#na���ީ�_Ȝl�x��w� ^�h �▊`G#l��a|�I�ז|�\��Ê֢�2����i����s�r��������՚( ���"�՘�����,ʊY�
9$���ѯ�î-��� �� �RΝm�{U�0��7�U�JZ (�� (�� (�� (�� (����_^x�!��t��뻴�N��E����[˃�$���\vin�3��`�o
�T`�2R�h8O���*����p�$a�2rq���r� .zS]"���:�LD�ŝ�#�ތ*�1N�{�E�ke�=�z0�(� ?�U.)�c[B��fa�?����_����|������ Z���Kx�!$g95Q��"��d�<��
�TZ�n$�g�L��H�V���M����Ʊ���c����7mc�L B��~�T�SVn�����p~���֕1�:�a�<L���yW[	�d����}�z���ky�3ۡ��es��Oμ7���S,2�cr��FGJI%HWt�{��2� �)q"��c���$���V�2�X�?J�	� �H4�s���zT��k���FQ�� 
��E+f_�+�\��,��v��h�E4 �f�'��� ��5%09�im&'�����=Ef�r�d�{5^x�D(�OPk�Oxr����Z��7h�K]I��K�_^�#�%@�����H��-ݼ�%PGl��UF���@Z9�D�q���++#`AA4�ڗZ�x�6ov8�3j�R�o�d�z�)��fc�$�ԚmPEP㑣�]NA����n`YW�z�j��w�i���o�{{Ұ��)t���(���5^� qox6��!�~��Z����&�T0�{�C/�3�^>{:��*��%�@�h�����mG�]���x�z�����$x(�� ƀ-��zN�'Oۭ�xNs���HQL�2	=�LE�d��(^F
���~]��̸�%�>Z�����m�����O�\�� ] ^�����;Q�\����U���ͻ1�:b����� F@�ҹ�n&�l�#/�<~T��k	5�GD��85f=fݱ�]�(�EUK�G,�?�8�u`� �=A����`QE 
JZc�ƥ����M >�]߬ �xi;�-U�ԙ򐒣����TV�NC�R?^��I�a��-���՜���-��0�>����D�#P�;
��&ĥ�������L�z�� >��Eq�=@��{�uڧ���H�	ʹ�s�r�WpgѺ�T��k&/lK�z�y�3N�Mc������=:o����S�q�}��M	9(q�w��X��aS0N�T��V����y�Q�i�����.jxC�ǽX�a�4�}�~���Vl15���Ǔ�룍(�aT`S)���)�QE R���L9Q���{�VE��[N}��V>�g���i?8��XhԎE�5t9V� j���6�ms�����[�� ��zH   �N���AE�ۦ����	�Wp�1�\��UIZI�2\���5:��3���.կ����cJ���H�.�A8�5%P���5&�E�NƳC\YI���c]2H�U�"��S�Ԣ���m��Ջ�Xn�$@OfEg\in�hN���֫�wql�p:�P;	q��-2��_ʨT�Au�85(eᏖލ��涆�q,j���󦘙�F���ɳ�nEXK4�|�p��_�*�Ɗy6�g��� ͚�kvı�����i���,�F�So��Ք�-��flu��?��X�#��Ge>�⑝��3>��%�D��6����PQE o�7^l>C����뒂V�eu�5��*�
ʟu�E $���[��$cw����@ٳE� �r(�����V������ ֧�_g�ا'�w��//K��Y�@~o�@�6���J�t�Od^�ʦ�KhU��@�9c��ź��v�p�3�$c��`���eC�?Z �u#�O���+� � I�]�������}�{�qX(����u<dt4<��.�����*�l��]����(�����mc��� Ƨ+�6�b��U�`�0���2犬������Q�b.C�\��0�Gf� чW�N$��U(ti���c�5��m;w����Rں��F��"�T翆�w��W�k6kɮ���I�W�+�ƅƣ9T����Y�$�� rǲ���[ir>bQ��� �j�p���(��H6)Z骘i����´zR���u&��U{��m�e��=F	%��a���Kun.!(x=T� �'��UF\�l=�� ��j���,�f��A±�*$�+��A�\��b9`��S<1���v	㸏r��*@C AH�#�S6o��n�T��OJb$��	�{�z�8�OiA��N�'� #�ƅ��@�5�]\5���B�z
����-�����?N��M ����4nVŽ:�ɋ�q���
�ED�Q@Q@4�F�=��P������c'��� �RX��S��O��ն@`A ���/lL�0Lg� �;�a� A�=�V������==>����(u`�zH#�i�?� g'��I�]P��fe��zqZuZ���UQdڙ���*B$�%Ye EE�i;�h]�FI�Ub�*����j�y۳1"�.I���{�;�Ո?9�{wcZ$V6���`���?~ɺY#�v^�J��$�-ۜ� �q��G����jE*L��`T�����z"
���Sq���2M�kh�$POc�T�P,�\��;����c����,p:��+����)�$@�ΐ�U�T�L	��1W>IS�]X}A�������-�5O7o��g�?Ҁ��6�m.J���3h�	�ed\���e� �/�U��"�f7�ޚac��!8�O�Cu��� ����6�m(%W�c�G��p9���n����?,��cP����������:b;C���*��w��>c�����[��٣��3pKzR����ܴ���~�cM+ ���F�Q�M1���<Fz�Y��*�+�@�=�Ř�֭ΐ��f��<��Q��rYf� r�� 
ܠ{I���O��*�X�D���8a��֒���o�5�!���� ֭[�d���|���@�R���]Mȏb���z܂��q���#'��<p���~����s+�AW�#�0������Y�jäK����*�{���]Ϡ�E�Ɯ��1p��oc��Y���\6ܝ��u�i,y����Z҆�(#@�����PirɆ��k�޵ ���|��v=MOE;�▫Iwo��������2�*Ey�Z��ܪ}�9֫@M�ٷb|�P�է@�#�l���N��*K+�``����{�wQ5������_Z.#1%չ;ב��� �S�E��E�����j�º����n�r��\@n�=:X"�b�CN¹KN,TF-�����Zt�P�@
:H��QԚbH$�-���1Dp�ϭ6���>\y��Igb�{�c�}h�{	efn_s�F:�_j� (    R*�(U ��TEP ��( ��( ��( � �2)h�{�4�d�^������/l�C�?yOC]Q���|�|�~���Mmw��uS�U��Ye��t�+]L6��0�~���ۈL�Ô���zU�D�[GQpB�c��# ��� �}�7�y�ruo��W����-������m�V�9�c��L���!��7�4��w:Ov���cS���p���;hHؼ�:S�(�4�������f�
[!eUr9��}3�P�� U p �#S��F���d5+�.!��N>����H��<�К`Ler ө���pd����a+l^��F�4���� ��҂dr�4���6��(1Y�X�@r�ĕ�R��u�������:ЇS�N�o��~u4�pNr�7xpk:m%�L,t�h�pC�0zT�t�.2�<��^��+,=͛�C�G���ī� _��TX��.VV\�Е�Eo�+�e9d�9b�r�w�jrF�.�]����D��wqkms��-0^��*˾�{��*v�@�&���5+��<�x�3���� �ZpD�3$�#����jb���8"��� �>�:B�� i��Bp2j�ڔ��7��?:�i.n���@8�Y�J��e`��ri�SjsK��F�������\�H�;��؆�q�a�Mɫ4
�t:TI̬d>�^DT]��G���S�B�LWW]����9�7�:�IvFN>���E��槚"�7�=�]K#8$`Jϙ�Ь�6�	����*�2��Y��q�β�)a�		���.�+#=��y��)����)w��8��/a<�g��)f��\B@��ʜ~���:-��58`z�z��,K"�a��s�\���K1�(�����d5@Z�[�i�n��5b�9ԳM.���V)�Z[-�[�'$���{�͹��2R3wn��h��1�.\��GSXw7or~c��3��2� �խi�,$I.A��Q��+Yi��I8ڽ���ָ   � �QTHQE QE QE QE QE QE QE�$�E��{�ǹ��,�t�����)�=oy-��yS�� �Z��������\��ϖO���:������lH���IUn-rs$��X���4D	x��G�Z�]Ep3���"���K�{�EN���^f
����i��>|-��(��b��[�W1��S��j�$U3�sɨmxq��p�Ֆp���
�$�Eټ�h�􇟧��U�"���>Y�?������Yo%�v�� �R�)�������:W�:�O.%A�@X\3�
cU�����Mq7�Hq��z�ʀ�*b'̔�G=���t6Պ�9�tBIN�T���A��}M>Y�F裚b$���rO1I#
B�#��u~�Y�k�e=��P�J����oCȭ*J �d�{G�C.:2�?:�o�q���?�k���t�|�8F��8?�AW/�]������Y�:�	H�� AT?|�����s��Z6�b�����}hAb��}�3����Z�1�31s�8� Q� ���"$k�(����D�<�5p�H��2"�Vezy4��ӷ�8�{{u���9���I� >�\v6�>	�k�m� ������n�$��\*����;���g���&!���]�l�u�P� ���^�%���0��.aq<kw�P��^OZ҂a4(�!�҄6P��u�/�E����jKWXn<�?����Ju�0N�J:|����P�[��[���2���ƗQ�RF�����a�Y�I%����4�rh�� ֭4,QK�69��Uk����$V�d%��]����+u̎��i���\^El>c�죭f�jrI���׹� 
�\�#R}X��a�7����?��Km��pC����~��o��LH���U�\�x��lk�S���QT ��( ��( ��( ��( ��( ��( ��( ��( ��( ��0ƟE f�i�� 4���z��2Hf�q�Y�#�k��:���PT�f��c��G��y��Џ�8n�~���x5Vm)f��y�4[���F�@nt��	�h���xu)��s�/�]:҇P����Ѹ� 6w" L�N}0qW�a�cA��E g]���;a�G�� ������7.˿�?�j���4��,��ڣ��ၕ�['��.�\��ayu�� ����ԗ�2��|�8�*��{+V��(�nS��T6�8Y�a�#����"�H�f�m��4�^~�ꎧ7݄����� ?ʘu�k�k�[;O֔r	bY��Y�8�X��1�7p+M"Q��(�������7hߌn�(��̨����5WqO!H��ݎ)f��੐���T�&��KV�NP�� ���1���3[2��}j5���@��7��YH����F�9�����4���� C�Vn�/�ƴ!�C�K;�ɨ� �E� ��W�M�,t��R�2`�Cܬ�o�#* =�Zv���f@Cm�4J̘���^FN����}�Ioq,[�ꭎ?��U�m2�W�Q�sR�`��Et(�*F�UQB�  ��=�p[suy�E��-�P��>��YS�SI�~�}�?�W�	�s�c�Oj/qطq�;�b��5M"��O�Y��?�kJ%��q���+EcP��Tv��3���\4�q���Z*��@
:KKTHQE QE QE QE QE QE QE QE QE QE QE QE QE SH# ��E gϥ�&Ld��܏ʳe���%�r����]��s��O��?��+F-V&�U(}G"�Oco?,�c�K��鴩Pf&N���l#���`�����-��^7{U�uiU=G��jy1��n��c��ݻ�, `ƭ�� ?����C?�7�O�Q��3R��$�}�$�k�8��a޴D(�*z��=�kO"{�27.f��;�?�ִj(bB���-
(��
(��
��ab�qG�}�B�TA�DpJ'�d�#��o ���G��Z�e����a'*ա@vד4+@�H���Zt}(����������Ե^k�`� X�?��ΛVc���nM k3*)f`�w'FmV$�%2^�����A�i�M[�K��d"1��7׳L0υ?¼
!����Tڿ�n��zׇO��������Z�`�B.(�e&C�zU�� @)�S$(�� (�� (�� (�� (�� (�� (�� (�� (�� (�� (�� (�� (�� (�� (�� (�� (�� (�� ��IWl�{��6���NS��ȭ:)�Kk<�����S�����>��nk��si��s�cz�Xw#�T�N$3�ȫ���H �"�&�'��Ċ=?�WIf�s��<���C���Y0�Á2� ���+I%IWtn{	$��)�QE�))j7�"M��WԚ ��X($� �MfϪD+�>�t��:Y�a���x�j.;�jp�p�����gK�O/�/�qN�L�Bb5� hs�V�:u�8%w���L�m���!#�v��B%~�͸��GOε(��#��\F���T�QL�(��(��(��(��(��(��(��(��(��(��(��(��(��(��(��(��(��(��(��(��(��(����)�%@އ�ME cͤ���6����TA��L|Ѱ�+����9�l�{Ұ��}Tp��yG��4u�C#S�ȸҤO���z��i$����Â?��l���Y�f`�:�k(jϳ!�z�ʩK,�731� �;�2��}����y�%䴎{�\���1���u?�Z���n�cP=OsE�s2*F�c�t��8m���Z }{��U
�EPEPEPEPEPEPEPEPEPEPEPEPEPEPEPEPEPEPEPEPEPEPEPEPEPEPEPPMm�Ċ	�{�(�3ΐ|�%_Ӛ��V��k�wcɢ��(��
(��
(��
(��
(��
(��
(��
(��
(��
(��
(��
(��
(��
(��
(��?��
endstream
endobj
35 0 obj
<</Type/Font/Subtype/TrueType/Name/F7/BaseFont/BCDEEE+Calibri-Bold/Encoding/WinAnsiEncoding/FontDescriptor 36 0 R/FirstChar 32/LastChar 83/Widths 1337 0 R>>
endobj
36 0 obj
<</Type/FontDescriptor/FontName/BCDEEE+Calibri-Bold/Flags 32/ItalicAngle 0/Ascent 750/Descent -250/CapHeight 750/AvgWidth 536/MaxWidth 1781/FontWeight 700/XHeight 250/StemV 53/FontBBox[ -519 -250 1263 750] /FontFile2 1338 0 R>>
endobj
37 0 obj
<</Type/Page/Parent 2 0 R/Resources<</Font<</F2 9 0 R/F1 5 0 R/F4 16 0 R>>/ExtGState<</GS7 7 0 R/GS8 8 0 R>>/ProcSet[/PDF/Text/ImageB/ImageC/ImageI] >>/MediaBox[ 0 0 596.04 842.52] /Contents 38 0 R/Group<</Type/Group/S/Transparency/CS/DeviceRGB>>/Tabs/S/StructParents 2>>
endobj
38 0 obj
<</Filter/FlateDecode/Length 3352>>
stream
x��\Y�۸~���|ڢ�v`�&R[[�k�d�q�I�a7�iČ�R(ʎ�}�P	JA�!����>Р���2�������M���u\>$餼�ׇ�?$�޼N�{}����yΒ,�F�L$�`D���\_}�6)��^�^_���%�������,��xEKJLr�T?}���
N�_������d������Woa�\_%o{�$���8�Jb��,�	���Sˠ���뿍nx������_��ǛэJ�oo�����}�#0�sM�	0u��Xe���Ҍ��9|�|ф�=�(� S���)���v6I��*���#��N�j:��n$�ߋ��|������^�F7&]T�x;H=���h��p�������@4������G]���9�ɳ��9�0i3���/�"�����jt���g�]K��I�����`��`J����X��AVa�?Q)��)�H��Ey��1�0��g�u��.����>Mʺ��%��+��%>��!������'`rn���+�s��L���#"��\�Vֆ���@���Y��C@t�È,��@��ˈZÐ�?�c��<G3�@�1��BB�f���ע����~aH\������W���uq?.�������*��w�ZZ_���#�>��'�v���pMaD�V�0[�nZ!Af����q4�ᖨI��2f~�o��݈��Z|nK;ld�є�<��؆�%��.�fp�����KdT������N�d������e�� �6��	B�A�R\8�A�\dр:�u�.���K��irve��Y��k	� �l(��ڌ�'�J�Z�~�p�7�E�@0�]�+��LS=��.3�Z���&�p}��,	��#�T��5�/<�K{�N�dI�-��x������b
x$�r�⒆���c2�"#2��, ��z���+��eҗK�Ϫ� ��vG/�gd��s�"O��ˎ �t�z�.�_%|J��d�ŧ⾀%1��H�Y:�Kn��ީ��Oa+�b�J��jTI�J�Ƌ���V}x	���@������o@�>j���vF3��nYO�z�^OP�^���:�ڍ�Tl�Pg ���בW-�
J�aD�J�Es�e9��.2�T�5��*#<(�/�� 3N2M��D 2 ��%��d7�"�,JF+>��{���Md8n�C�t*��v��ȸJ(�2D�渐�GNrY�b��fnz� ɍ��9�`s�"(ڇ&Ah��󦑵�b'�P�r(��~YgEy^B�B�LDű� {��P�AJ_�O�ؔ���dTB$�@�	�~p��+]P�PY���� �k,�sM���˲���ز�9	��*m�:����FЦZd��!���(qM��ĺ�,t��6D�пϲW􇸩���x��d!l%���Iߚ�v��n�	�6&�z2��ۭ�X���~���n��>+pgQ��i�N>�볧��Ʌ$J�$Z���EU{�'���wg˭c�El��<+P���S��ucW��d����e�˴t�,*��J� ���O��-XN2�!����F�n0�֌��Xb��,�aճj�~��n��=I���Eu��A
,��Sn6gN(k�ď���W\�oZ&Mz���
�m��o����/���D���: ۦ4���Sͥ�������� X�����c[̜b�3���0�b������0�
j7n�d�@)���HD)�� �2d\�yl�H�(b]>�Fj�Famw�;�.+��QD�1���;�s�̞�9[���=�*����3{ۚ�Nd��}�n�ߤ�M�����Ys"J�ld�&=�OB�ړa�"�?��ˇ�#�	�@cW3�C�Ο����(��ꍞ<��z掏�f��H��c��I�v%����47�����wQ��s�y9�&�;�u+���5�z�x�Gwk�t)m�]Sp�dqs�sf��=	������8�5!��3D�X=i�_�ʿ���^�t�Z���H�Rw��=b+�������˜�q/�5��e�)�yI��b�"��dA��?�$I���a䣌���]�搛H��	pp
E�b��9�HnC�@ �oS&E��sP���AuF����z��I�8�/F`NuX�$	���%[�!�M�Tن)Xp��Fԩ�ؕ ���77��\J��]|���%��}��h����yc���W]i����%3�v��n��'r"oPQ-p=�y��� S�w��K\��6�����C�g����,4��\$4���y�L�FS��P�)������9t;��_"������e�u�����3����:KT��\��@�=����P����p�-�!����N,�<$���xF2k�K`ws�����i��tV�Jn�g�ߵ�ɳ`s{d�4w��@V-L
��`G�"�2�I��+� 3ς�9�5�Zg�Fo11]:��B��Mð�ڷ�0���HP��^���b:���W�}�
{���xy]�Q���䖍鷧S	���_7-"c��cCysrTޜ�P��P���PNˇDB�;���,�FUnR������>�F�>�І�2�Oru�xk�I"sѳXBЧ�|�Ǚ.כ>�FK���y0*�9��7��:
ՠ��
#����/�{���2։�[�ŗq�ƽ��=�0��ےbm��`���e�S\�8�����k��s���J��F��^맳������}�Ƌ�`|��:�#��PM��TGn�P����u���z}���&Ag�%_/Q�y/��iCcy9�9���!ں&��m��v_N�7�v�}��XН>�{��qw��˿WE�}��;�Lۼ�y�� 5δ���Z��s��Q��=�6��ߘ��tᶀ���;�m�ۑN]��,}�ߪQ_��x�%�Կ����6��C�'v<8P�g���7�Gu$8�	��Hp�jV�P��a3RoppS���U'ϏV7Ǩ�>�}�2���ۮ�:��>����F��y٠5Ru��<8u'u>V��ʫL@�܉��+����t9|ɀI�E��[�W{h������
±A�?3U�<�98�q����ELD�	4�N�^,y�~�k��k�s09%�H�o��ސ�k/�����1����{��-As�a�xi��=�c�����-�<���Qt0�,J���l��=�H��OGRG��f˧h	��A�� ��Ǿ���Vp]�{��������i
y�	v�p�K`E�NÇ6�˖�md��3wK�i���k�Lm����}���mS;������A�x�v�a��.{���I@7��v�]:�.{����&�
endstream
endobj
39 0 obj
<</Type/Page/Parent 2 0 R/Resources<</Font<</F2 9 0 R/F1 5 0 R/F8 41 0 R>>/ExtGState<</GS7 7 0 R/GS8 8 0 R>>/ProcSet[/PDF/Text/ImageB/ImageC/ImageI] >>/MediaBox[ 0 0 596.04 842.52] /Contents 40 0 R/Group<</Type/Group/S/Transparency/CS/DeviceRGB>>/Tabs/S/StructParents 3>>
endobj
40 0 obj
<</Filter/FlateDecode/Length 3064>>
stream
x��ˎ�8��@��������{1 �d&�$�dڋ=l� ۲��$:����oU��Ö:��܇�IY֛2^<�����_�{m8/>$��0���_�/���_�no���(���~؎gD�}nT��Ϳ2�ۛ���͋_��<\^noo@;3x�رk�~d�Ʋ ��BcW��ƎF��v{��u��K�9��'ǯ������|{�0}����2�m��(#������+�J��#1@�Gd������g ���
��F@�]��g����C%��Z����j�TV>���1�I�s�fo�1f�֝,�����*���P <�.�!º��-Bf�mB4�8T�]D�{�Sg�)�G�[Q�~�&8�pⁱ��b.���`�G�M�HE)O~���n�B��|����־X�]p~sI�qm�B�$�:ە�it"��x��
���d��$'4�(�@��4���Ub�-�5��	�F�etp�p-��&�Q���~����έ��	�*�������+q��o�ż+�7��s?��6K-�D���|J��\���:�&[Q��mX	�y�<J�9w��r�"���.�Џr�
H���z��>�G<�fQfUv��1¤����f��ܢ�+:��Yn����J�P����͕��vx!֧��+�X�ǅ����T��s��"mҰl.4�UZ�K)I�)	,����������m	�����D��W��z�������BR.U��o��"�vi�c:'"a�����f���Q��c��:�Xߨ����T��]�oS�5�����!p"M���(���S��`�Vй��]k�J�,I�WyJ��%Yt\��,y>��ՐK�k�3$=����Ǹ���F�a��%��H��\^4�W(d28�d�x���}tq׾P��Y�$�b�^��oG<��������F�&L�������A(U+Ҳ��"p���+Q˹�,��7��9��?���>�����H(��Z��Гo�H�Mg=4Ȩ�,e>!�)祓;��	:gVj��v�&p�׬F���@zݲ�^]'%J�`0FR���A�f����̸qd|�����o0�k�ǌ[��'��
��̭v�ͱ͓)���J_E�3�dmN��Lg9��<)7��S(ݥ*S�`��іRC���P,9�����?�[/�G帟B���;�B�B��bբ+��'��"?'ɦΣ7S�n�a�2��3�`
fE�^Ë<�٬9��x��]�ȟ����u�̶A�p��L�J�@$����|��5	�B�9�J'9�خT�=�;��q�r�,
� �k���L9<�v��%��u"�D����\-���HJT����|���q?�^�9T3��^��B��4
�h�BN�7S���)��č��GU� p]`���+.�QW�g�Υf!e[�g�u��%|fnȳ��!΢7�$�B���j���8��HĖ~]M�&�WOS2KJ%�(�AǮ]0�X1W��/)�P"ŭ-�M)���|��6j)EE	�$�g�""��_���Q%�������s7�=�������B�e��q�*��z)mۥtusg<�k��i3���&��T F�Q�U�*f��P(L�}YD�}Rg�ش�P���K�w�x/���,t�.�9ɵ����NFyj�X��'�NG��ȏ�"d:1�E4o6R�d�o�ƒU8����O��t6�RQA�	W�����h���J}б/Kr�8S,p�e*���k���Unb �ז�u#�LԶZQ�n<Hv�ＶխO�0��Cy-�kkb�[��<	㚨)��L�1qX��u�J;+5�����ܵ�Kq��H�U�*�r�*۞��C4I�̞��T[��h�Y
1y>]��ː�H�d��l�CY�ʋ:u֏e��tS�<���ց�P�,\젒5�Z2(��0{L�R��]E�3��A�A�*����ٱWs�J��M�;*���v);9Xz�I������靠���̥o���*��4�T�d�D��[P���6�v)Prr��Jy��F����}�������\�j�ɤ)U�SJE*�Y#�OQ��֍|C�V�2N�ٚ��Q/����������� �WnA�\���΃�29����^��n��kۆ}�2�3 �D����J��	y0���Z�׀����7��m�����V�f�T��O�g�V�cO�R�ӻ|(�)���*���פ5���%�ƒ����A4�����Bn�����K@�ɦH�;�� �p
Y�$k�k�*��y��d�Iנ��R�Bf��|�aQ�t�.z_ըm�����<-��]bU��� �m��~P����6 ?+��5�e/'EGz�A 1���Zg�m��a:�(d�{���n"������/|x�^����]��_(:Ǩ���Fg�*F��s�~OOO�-`���U���44�0a��<�����E�.f���|L�h>�Zx8�N5i�;yNl>��m*��{!(����%��R��<M�z�G?��̇Ϩ�����M���jz�$�T�V!�Kr8�p]i)���.We<А��}�_b����(U>�3P�K�� r��e�J�.��o-�l��@�c1�]b��	v,�\"];p���6�z������ӛ�I�v/��I1��0�l�^C��(�Ǌs�v	�X��J����y=\��	�f����|�����T���n?�.��^d;�9c1��˪ɶɺ1�a��G��}�4/�58�C��oR۾I0?6�N����j;�y��������:�ql3��!�9g6������:���y�O4�����S+�@ɔ��UFpR �i�v��G>�M�킼�Poc��|��<䊦	@�I�N��`��㩚6|�� NAb�DXF��бC> c ? ͏����G�rjO :�FyH�;�=��E�@�M��b}�r�6�A��iHIh�/���R�L���R��:*��Eky�m��%o ������=���%R*EӥN��S"^9%�s�bw[����Y��;���>����KI��'oj�����"�:
endstream
endobj
41 0 obj
<</Type/Font/Subtype/TrueType/Name/F8/BaseFont/TimesNewRomanPS-ItalicMT/Encoding/WinAnsiEncoding/FontDescriptor 42 0 R/FirstChar 32/LastChar 121/Widths 1339 0 R>>
endobj
42 0 obj
<</Type/FontDescriptor/FontName/TimesNewRomanPS-ItalicMT/Flags 32/ItalicAngle -16.4/Ascent 891/Descent -216/CapHeight 694/AvgWidth 402/MaxWidth 1831/FontWeight 400/XHeight 250/Leading 42/StemV 40/FontBBox[ -498 -216 1333 694] >>
endobj
43 0 obj
<</Type/Page/Parent 2 0 R/Resources<</Font<</F1 5 0 R/F2 9 0 R>>/ExtGState<</GS7 7 0 R/GS8 8 0 R>>/ProcSet[/PDF/Text/ImageB/ImageC/ImageI] >>/MediaBox[ 0 0 596.04 842.52] /Contents 44 0 R/Group<</Type/Group/S/Transparency/CS/DeviceRGB>>/Tabs/S/StructParents 4>>
endobj
44 0 obj
<</Filter/FlateDecode/Length 2960>>
stream
x��\mo7�n�������K�(��i.���;�����eWY�Ir����K�^9C.��"����p�yvfH�\�~�����x���4���Od4�_��v��O���5���YC��m[N����$��Tq�����������|~v�3#�ZM>?��1wsC���o�������w��<��a������zw~����|����[g���g���kB���W �	�x�2�FS%��ڶ��1��ޏ/�藱�����ѿ�����bP��*���+�y-�����jX�Wa��Ըgt'�ǘr�ZP!���ɨ܁:� �Y;����83�PE�T%��s��OD2��c�[W3��hZ���}= �R&!���N��T�x\3�lf�54�yK w�,���\/���X��~n������v�daN;Dél33��� �K� �OwO�_$���!���t���r=}��_�7^����ɔ
+���E���Z��cҭ����H���:��x�`��T携��@ԯ�|4qفw��������b�
|�(*@ِ�ê˸�A�`�@]J��L��������A>B#��<.��%n8�6(/�[E4�����k�%�%��xI���������������|�Ԁs鲸
�ŕ 7Ku���W�{E�i�č���]܀�S���H�����/
(�[����8�0p�d��8i�W_V����C�
�**�p��5 �BJcL�!� ��E25�����0�a1�ZC��+ݺj{IC�m�)hp���
��x<(����B�r�՝s�CC��~��h�^.^�mԩ/�s ^�Hp�@býV|Č+>�D(�.����̀�v�E�j"U;�PEo7e�yK`��.z��'<�5��̒s�[x�A�q�� #UX�r6C\e4���~v�� s�c� Z��a� �2]�}�X�q�P93jVYdQ*���5�ѕ4y�J�E�jd�%�(�<i�,edEq�1XV��<Z��<k�mᲢ����񼟂e%�Ɋ{`�)��N�W`Ϸ�(+����a��,��˲kh��op}�N�f�{Bp��pm>Y�	�e��7�QS�I��
�"H5�#�Lp�V0f)#8��gE o�p���c��$8UXQp�`y���E�#����XFp�x��������CW+͟V����RQNWVad��(g.0�Q�4y)L�E�j��m{ �w`���Q����?Dj �F*JJdKl�
�q�P	)LVT�4X^a"�&&Q_��k���¤��k�r�e擙����9�]��F���X>�����T��VPg5-@m	
(a/0�Ѵ4yPӪ�,�T�iҊ�� ���%\Ӥu
=���!�eM�1�B5M�6��Q���aM����c�eM`z\b�4` �v;�P���e�?F���	ג�v�+C�FȲ�	o5��p��CRS�d��qsV��x����c
:B��r�cM�e�&�6n�4�����;+jZ,�i�H�$��.0�Ѵ� ��忾ɴ�3���	��U�����ua�� Y�e�n��2Z�&o -�B�R��)��~�X�����6f	�ܖ����IW�,�ղ ��	F����q[����ǌ��b5qU�C�P��c@����ZO���2
�o�.ՙ���~�U�����q|���e��m�u;�O���z΢�6��u� ���F�?2���(I�|)I�E�j�Dh_�eE�9�R&+��*�`����Ϯ�� �,�jA�duHn�A$p��*dEi��>�Y��/���c�>?0�7~�m���Jn��MN��=��#��zU_�Sf��Wwq��
�
��(�{�Ь�Ȣ�I�'�QS�K����U!Y�F혡f�����QS�ㆲ��tq�8}�z��x���Aū�
���� �b�K��5/�n$ �p{��ZF��C��,����ν�����0��h�}P=Sbԙ�ә4}�@�V��8�U�i�Z����N��w�,ej��۷9Mb�(ւi��tF��/"(����-\8��7�V/3�{u���R:�T���u��tu��e��qW1�wK6|��X��e9~�	5�Q�4y�w�F��#���t�&U�����VU�+��t������I �
J e�. *~���*���n�b�[L�/���'Z�����L�^\��H4^Y��p �C��4��@RP�a����2��x	�Y�+8�]1;������A�c����g��IuX���*ӆ��`>���
��
��)M��� ��������
��W���߹6�DeU,@��^N��2*�&�X�F����' E4!��I��>�~�&S�!�2*&��N(5�[5@�g�)��bi���aE��s�����cK�������Б�z`�Bj-�e�����Y�� ��oj��(0���4yP/��4�t|`�����&�K�[Qe].V5YK�t�Q�|
�eY������2�^�_��Êz9�U1�#fQ�g����XF/����m6���_�;��ՠ���x!���(�3PyQ`*#di�U!i	��(d�&2��ceM,V5YK!c���."`Yoɀ��
l�B�&3�J�t�'c3Z�����;��|�g��`@%��,N��2q�&�i�F����UH1NMH"N�姭�u�vgʽ[Ʃv D�6�z�!^P�'m�����3�c�JI�ޓ��Ӥ6|���_���h���{r����s��#r�C�#A"�ԡ$nR��S�Kc�?�ͼ�|�\��[�OOy4�&�;F�G좛@7F�����g0\�:�cg������v����#������5>WGm3Ft<\�{��/�k��kq�>ӗ�E9������� �x�v�!�Z��_�9|ӛ�.��2P�����	js��
endstream
endobj
45 0 obj
<</Type/Page/Parent 2 0 R/Resources<</Font<</F2 9 0 R/F1 5 0 R/F4 16 0 R>>/ExtGState<</GS7 7 0 R/GS8 8 0 R>>/ProcSet[/PDF/Text/ImageB/ImageC/ImageI] >>/MediaBox[ 0 0 596.04 842.52] /Contents 46 0 R/Group<</Type/Group/S/Transparency/CS/DeviceRGB>>/Tabs/S/StructParents 5>>
endobj
46 0 obj
<</Filter/FlateDecode/Length 2714>>
stream
x��\[O�~G�?�����m�[�"���
v��}�=^0,:��g%�������i;'<�������25!��y�����S����d2_}���~MNNߒ�4�q��֜4D��6�hɩ�d5?<��'�8<8�<<8~�	�������w7�.4e�tJSE.���>\t���Z&��/��px������HL..��&�?��v�ux�?���n�Q��T	 �ש��wq���v�#�`?�2����w{�GXGZȟ��ɻ󷄼,���0Դ/ܒ��N�����uKH����^��J��U�ZDW��;�VԎ��\K�p[�K��Kp�iA;m]g��pg����Bſ4kZj�@���Ea�ņ��!
W�Fm0���1c��\q(�8JL!�+����Y�rye#���GzR�� ǻ9�[�-a�����|��𬼌wE��SX�\�_�/{T�VT�T�*�3��/g������l�|���K۬��a�v�6z��톦lI�����`���,�z�#2�Y"�oV뻛�՚��	{k~l�<
�5�h�j����
!Y��9�#m'S� N5H��H��" FNg�3sjr_��h������/��JR�����lg,�p|N�r�f��J�>q�]A��yэ�x���Q]���.k�O�Q��k�d�٠12a1h�^`
�e�o�pPz*����� �W5�%h�Zb+#<i��fS5Y\�YP;��0���
|���+=��s�c�6�%�@~"U�$H�(��(��L�eN�ڀA;�[8C�q�� Z�(�F�S4 �-t�Pd,C�t g�ۻ��݄�֎���Ӕ��b=�u��ʹu�5�B�55��SS�ڞq0��Wmҋ��N��H�*���Q�B��t[�`hSXbgp��n�P�vA
N#e탊�e��[����z��v<�+�?vY.�>�V9��$*2��2�B;�"c8q���"nV �\����1TO��>hcQd��r[�n�P�v�������߫��6e�p�!|y��9wE��)���߇�p3Y���:?�l(7�S��~����S	�6ʬ��"@h[�y;.]8o��۝�L��n���Yk���&o�@�4R���l���ޢ�X��� zʞNÞ���,aY��X]���񄻧�j|*�ʏ�W4�rh�Qd�l�ց���
��+��� �2�`���+�C�퀆��)06��gl@,d,��(2�� ?��CS��q��p�v�r'����W�_�ә�L;��M�5>qm�0ㇰ'\,�2��v9E� �v�p
�� ;o�|i',#,X���l�+���x��
L�"��b�E�(h`(����,�C��[�G�,
`l[ /�����z��)���gy!�%*\�Zx�;|=�b��<�>��VF���Cԯ.�_�i�V�Q#�
�[T
V�.�N��*I�t�<�VwA� e5)"�����,2��6���g��ǉą[ �'���5q%� q��ÝXj5>�����+Z	hKZd�( L���@ x��+�� ,P�*���1j�3U&F�>b�(F�ID�(6@�T�(�`���B5�4���2j���U��3������������)�_��3���ʟSP�j|MGuEr{2��,S�L�'n,�P@ �BU�E�
�o���1jtpِܙ*��Lw%j�e�7q��WVA�HC�e# �F��7���t o�Fǯ_�p�U�Z�}awQ�{�e���+0��um�ZO�X&er�i~če� ��*�(G �`9��r4jtp9�mJ*�L�%n$�P�xR 6]�aEJc�)@>U���ˌ��&�C���"^����jy�w�����J�׫��k�t��F��r�,l�\v`�� q��<�L�f�ZFL�P1��j��a7���J�w;�,��%�^�>W��VT�.\�v�@��^�*��[i��nEĲ�������2���w�-��c�:H��9 ����Qi ���D�qn�������۩�"�(����a�|��GwJ��������j0#Y=��hi'3m����`j\��8��qV�b@M��e�<�H��w]ѓB�i)�L�B,tKu�.�R\��u@��p ,zT(3Ũ-\�����}v=�N���w���r������L��ɍ�:F��qU4^�Fg��Eڒ�z2�h��
rU�� T ,T5PA� ���`I��)�on��d����U+i���@]�*�W��X�bT��i�XF���.���rE��U��-����|9|�и%]�UӜ��;�%�=�-Vbi������/ȯ����Z4��K�L�z$B�TeZ�qca@��
/*{V�*�(��,��F�s���]e��Q[�������*:6"b��fz�qc�@_1ee��t��Ɛ.p�*� %E���yS�4㴵 DQ|��)^P��k������ƨ��7�5�����kS��6����e�����ʁs��C�#�D�ɣ$nR�7�Ƌ����\c9R�	w yz�����@�`��0"�|�.:�[�ZA��܏`�쿴u��0�7��7lf!�#v�������A�=Ǩ���|���Z��}�Zl�g��/��Ӱ�6�3��� �K�O�xv<U�h^�1rӛ��.�M��^���Y�_
endstream
endobj
47 0 obj
<</Type/Page/Parent 2 0 R/Resources<</Font<</F2 9 0 R/F1 5 0 R>>/ExtGState<</GS7 7 0 R/GS8 8 0 R>>/ProcSet[/PDF/Text/ImageB/ImageC/ImageI] >>/MediaBox[ 0 0 595.56 842.04] /Contents 48 0 R/Group<</Type/Group/S/Transparency/CS/DeviceRGB>>/Tabs/S/StructParents 6>>
endobj
48 0 obj
<</Filter/FlateDecode/Length 929>>
stream
x��W]kA}��qx���"%IS��!��#�Ƥ�<��wf�tu�nl���{ϙ3gΎ0�M�p|<�=�>6���gM������	���W�Ð��sVk���,��η#�w;�q�3�cl`���p_̀��a���O�������o�f�7�}��v"�}��n���������@�(?Q���:S�:VŨ�	����u�/�ѸL��֠�	T8<�c(l%�r!a��}�<<r���m��I䔮�^���\�8�F��׎�y'��z�E��В�9{���%���D�Cr��:���V`$:����� 7�+��.�V�KċGc��g}M~����]OE��e���[�DV5��p�ڹ��!��t�v��n�V{��+����m��:ߖ�=��>k��r)&��V�h��Z5�!x+f�	���d6�R�5��hH��n�������S�Hf�=�.��O��%C���#*���T�N���S�*]�:�c+�éti�dh��p��Z/����Vy��b8�~�C�L+d�j�o��ӅL���}1��S�t�O��)�Qx�����G/���sPpeQ��M�!&���/qm���!x+!|�%�Em`�*���I��T'�=R4N��۩Y}��ƴȈ2�X��N�bb�dH!S4��n�͝(7��pa܋z��`p�b)3bI+��y5HP�қ��Q6���>��O���S>����`�R(�� �KmZ{�T�0�Bό����6�e	����BV@*j�qh\�.����&T��-���ؖ%*z��T�J0&7i6U�Y�T�!�:��m�b:�<�Q��WtQ�TH&G�#��
+[�
,,g�0���rnM�	�
&+͚N�@�$�k~L�P6l�|ⵔ]�cS+3n�H��eK@�^T�kKj��R�i�&��2[����$����
endstream
endobj
49 0 obj
<</Type/Page/Parent 2 0 R/Resources<</Font<</F2 9 0 R/F4 16 0 R/F1 5 0 R>>/ExtGState<</GS7 7 0 R/GS8 8 0 R>>/ProcSet[/PDF/Text/ImageB/ImageC/ImageI] >>/MediaBox[ 0 0 596.04 842.52] /Contents 50 0 R/Group<</Type/Group/S/Transparency/CS/DeviceRGB>>/Tabs/S/StructParents 7>>
endobj
50 0 obj
<</Filter/FlateDecode/Length 1052>>
stream
x��XKo�6���QZ@4_�H�u�8i�����`�	zh����G���ؖ�d�f�9Ùo�3�����?O���lqSo.	[\?�����k��P.���&_�3F��Xka��L�A�}��~�D^糋f>[\	�Ӥy��8*3R^߀�B��o�Z?��/&/ad��z>�� 埤�u>[����3���	�ʳU���3��8*��d��X2+,n��)�TVX�P�R`ANX��"��
˪�5��
ˈ�F�YQi�؈.+,��g�}-mb'�,��NlE���5��^�Y�^3�֌<+у��ȳ2=XF�L��A;�y��\`(�$\Y���<WV���N;�f�{�rH����~Y�K�G��Ԥ����ʘ�~'��1PZ��i���਑������T�yY��Y���<�s)�f�99�?|c������:�����:���YgXf�mSV����=��{�X7��⬸��ۑ*\���������G���X��G���*5�=j�|�:T(<��_@L����a}O>`*�C�0�
�%u�s�cR2&�R㭰�J�)�zYI��^�����k�ݲ�5�߰F��q�{���`�5�UT�T�iM�p<B�a���U��d"�ޥ@����p6�0�_�,������no�Jwe�G�4��Oܣ�������ƗZ�ߢ��0�D���خzUobkԯY�g�RIHO�U��j�;۸���R�7�z��7�~t�g'����r���:$l[�^|J؀�d�� e!�|F6�����p�����A�

��g����]OFS�?���,p�F���ưXā�$jm��A ���e/.L������J/�ӊ��A��E��O���yO��&O��C��*/#J`5b�^~ Ob�ˑv:O���Seш�1"0�b�F㼱{�����@cg����M+�f�_m$�}(2f��F�<
��N"��^v:���G-�s\���4����ΏgtqX�]�e|�.��ۓ��t&��x]F�rޔ �e���
endstream
endobj
51 0 obj
<</Type/Page/Parent 2 0 R/Resources<</Font<</F2 9 0 R/F9 53 0 R/F1 5 0 R/F4 16 0 R>>/ExtGState<</GS7 7 0 R/GS8 8 0 R>>/ProcSet[/PDF/Text/ImageB/ImageC/ImageI] >>/MediaBox[ 0 0 596.04 842.52] /Contents 52 0 R/Group<</Type/Group/S/Transparency/CS/DeviceRGB>>/Tabs/S/StructParents 8>>
endobj
52 0 obj
<</Filter/FlateDecode/Length 4294>>
stream
x���r�6��U��-gK�	�J�ʖ��);��l�}����CNH��� CIY��N�	4ЍF� e�����7߼�p���|?/֖�,.~�4���^����8{�:.�Ǳ�\+HB���ؗN �jy���[�ً�7g/^~+-�c���� h����)�"�w���w�"k]��֚�b����Ѕ���o�pf��n�?{�������$%"hE����f[_�op�<Zz߻مg�0�훏���,����/��
n����NN�����r`���,�+U�4R8I�Y�Oˊd����0D�<]�CT$/���=��#�T�����	l_,�=\���p%���3T��)�Yh?����#N����N#ѱr+�Б�?Q����C�&G��y�q�~8q �q7�%�akv!����˙�_��Eb��%��lM���sl��Yނ�n�2/׏�&�P0�E`�������#�V��ЦN�e��5s��<�]D�������vC�B#�*!�R��Jġ�6e���k4M�e*=��~�D}��4_"z7���2����~ ]�;�ư�n��Z7���eQ�B�Y�j���ٜx9�a2���ؐ4 5ES;H
�»���B��T.l��)��
bS΄k����n��L,���,���\��h�<o(`8l=��3�L�X*������	"N2�v�˰�f��&$=+�G��"k�P��
����/���]-g
9*l��犠EF��l���b�aw�qU��t��Z�w���Ζ$>�+S�M����gz�[����]�a	T��a�"�=�����s�z�"5m;b_�L$=*�=��1/���U�sˢ�f�R|��h�RQ0	_]0�}�f�aXU�P2��̈[��smO�w��jy=k�f�L����F�u4��PoH�I�&��jv�e���V�����d��^�5�A3hZ�L�] 9_V�d������Wz�9{�)$r�o��>'��-ҿ�J��������A?��Y]��LcG��p�"��dϭrՠRV�D���)*,q��H�so�zDL���iQ�L�;6�7m=��yQ�D�`1¾� (�+�>,#�-VƛO�%���-W��Uv?3��W�����0L�[�3��p��N�77�8O��I��_gZQ7:D�h�Xe�꠽\)�x hۭUK{���:��+��2�I���
��TI[I�N�_@�>Ɛ��O�c�XA��?)��\�iWv�Mm�A�X:���}:� mU2�d`͵�H�d$$�NL�=��|�x�v8���z�J6�}cv (%����w;r�x������ާ��cW�hŘ���8���;	�e��}�ʃ�O���H���en�)�1>A��`���ȿ@��|�qHH�蠰�@�zZFx��J�#N�~^:B�!�՞��2
�n��@t�Ũ�%��f�,V �f�Tyi <'0dM=���v�i�Z�)�����ү^��C��{y���a��
��yV4����O�!���5���	����P���QYq���V@M�$��>e�>����<S���ٺҾ��WȤ�*pH�U��N�UJ^QN���*i<ݳ�IHn�*6�=H��-&����$y��Ω9�SRꦬ�=�k���M��P�V
�/�فm^R��M��$Ά�C�t"�������Am�=���V�J{�@H�n(��)�V{���D�,H��d���Ѣ]E0=�mբ��Q��pBDQh���l� czJiJq�`4���ǘ�`4�0�C���WFG���&/m��(�^��u�A��Y;�|�ZY&�#&[��).l;%��TJa��Z�XE_��X�\㌭|�R�Yd��K�S)5D����(�fB���N�gk��Sg�|�*�
(�5a����2iGv�45Z�1�
1d��Z�gj�"t{Rpn�Q�,�q��Ts�<l�L0V�u��^��V�{B{��Y����
lZYm) �Ma���&2��Ʉ�2��T�7����F����z�R����qvu]*������5� ��������)FkR�=9��)uoZj_�'b�T[!�����S�R	�2�6I�i�C�����0w�mWC���	���Oo���=N���1�5\'�g�=��,X)Պt���������x�A����}-/O����8>^1�-U����fNr���$�F��W�V�_������߉}����Q��O���2��+����Me��9�0SUSg�F�9�Y5���,؀�i��xlT�a�'�
5>�H�e
9�'߄��5�)t-�ڦR�@̈́��B&��d���$��z�k_߀����\'jQ��z$3�~��������{L�]�t���vI�	�k�#�eW�˂���f&x]�6�r^�:�R�V��e�&�j ��\m�:�*�k:�	��+4�%Č�:�1�~(�Y�� �����5:J7�x��T��|�[V�Tn���jUu*t�e�~"*d��b0	o\�y[��}M�D:�T(��n���H�f���cY����(�rO���7茈�W*$n��u���6ŭ,�*2�q�ޔ4tyۋtqM�����ń�*c��t��W��J�����(�#:�����1��9�}��4Qv�����&ΥI\S5���a�f����D�g�f���>������+�H���=�9*%(��j�/W)ᩃ� }�Eψ"�	�H�>�׍"F�ޔ)�rtV.�Y�l%qޱ�1bˮ_��$��0�KP	>���Q�!�9H��8�h�P�u@s�3��sE�B*�N�O�D�`���A����_���1^Oge�w���u(4,����Qx�	�9'>��@A�>t����3�\��ۖ%K{�I'}RM��(�U�!F�s�l]P��/��}1��^<a<݁�=��{�Rt_��]I������-u�B�W�fS��5#|e���E2.��;0:՗+���a�m\xA���,�'v5XC@9f�3\�8�'@�8�D̗�e��;�!�D����Hz�_���\�A7�����L]�A���h�t5
��ٳ�}�7��3H�N{�>��z�c�y�O?z��h�t��>0H�)�	3����F�����ܽO������A��j��(n�'�Q�x|�H"9�LD/��%����X_ŧ0�Ks��%!����0�
����qxp?t*��?Ox��胑�A�J�>�; ����E����(�r��ܙ�@�0B*�n�~��E��M!�X�Q��@����]�qx��`�[e�V��f�f�Fm�$����	�)t�:��KsWB��?|@P��.���RܰB�G�tt�J_tT�kkr�O�7��ba�������y��1aYQ��Cwj��U�TZ(R��2H�/�@�+��j��=SCyCpۋ�4�vG�2Ҟ�\e��uӬ��2�����]��U��It��ܗ�����g��Yo���4���)�g�t1~�	�X:����ĳ�������bڲz~��1Shd�T�U����0�?�ő
E�
W[�	�h!�L���4�\M��&b��;Q_�����]����q�V�o[��G^S���梸��go�r��҇ �������1|5a��v��ovHCע�϶p��%��nWű�����}s[n��J����
x3
�Jw�m����W���qC���WU��淍��B{��82+�'��ˉ½���B9M(ޢB8�%\'iy#a�3��5���y7��>��Q/&��u=�uex£�//$6E��uxy��� ��_����s�sry!����1���M�E�\"��-�hP�)9H�O�A�:Ć �&)bjJ	�	�B>l7�C_��cOt��>=_x`��2�B��(t�YR���+���>��U�8L��W�|�P�!���8������rի�`nP��O8|����+|{��}�?�p�?ߚ���绷�5��S�����z�Xã?�1rV�Ex�����e��~q*a����erٟ�*T&����N�[��� RG�晚=�A�TFz�@C%;#���EQ3�>�cS{|�s�	Ϊi�X��� |�/B��� P�N$;dt��!x��x�	C����@t����<Iؚ�;��N�GW(#���z��A��iHqh�ͅ��R+!��1��e�ۃ���5�'���pGw=)�24T{G�9�EB�h��TK:����(�E\��3���|�{2�=u?-�L��&o����޽��
endstream
endobj
53 0 obj
<</Type/Font/Subtype/TrueType/Name/F9/BaseFont/Arial-BoldMT/Encoding/WinAnsiEncoding/FontDescriptor 54 0 R/FirstChar 32/LastChar 32/Widths 1340 0 R>>
endobj
54 0 obj
<</Type/FontDescriptor/FontName/Arial-BoldMT/Flags 32/ItalicAngle 0/Ascent 905/Descent -210/CapHeight 728/AvgWidth 479/MaxWidth 2628/FontWeight 700/XHeight 250/Leading 33/StemV 47/FontBBox[ -628 -210 2000 728] >>
endobj
55 0 obj
<</Type/Page/Parent 2 0 R/Resources<</Font<</F1 5 0 R/F2 9 0 R/F4 16 0 R>>/ExtGState<</GS7 7 0 R/GS8 8 0 R>>/ProcSet[/PDF/Text/ImageB/ImageC/ImageI] >>/MediaBox[ 0 0 596.04 842.52] /Contents 56 0 R/Group<</Type/Group/S/Transparency/CS/DeviceRGB>>/Tabs/S/StructParents 9>>
endobj
56 0 obj
<</Filter/FlateDecode/Length 5778>>
stream
x��]]�۸�}w����M �Lm��v���ٵ'�V�$�f�k�Ԓ�8�_t�H e\��H"A�F�4����~Ux?������VŃ�X��?-_��^�����g���4M�xQ�A�!�#�U�����^������^�L<B�����Ox�K����KB⇱w���}I�����=�T�z���?7����ׄ�E�^���2\��5[�\�E���k~�1_�"}��������h�$Sn��úZF�dt���pq��vu��;y�PB�*զ�|�}~�G!��0/�?<�P��I#�|�ޭ*����,6�3��6��g#�z�n2��W�0��/��/ϟ��j���3W�B#?�X-X�@���@��e���|��݂���(W��,�+�D��|��rnN�;�I����9�2��^)a����kT�z�,v�æ�k�!�� c_rA;��J�IIA�'���������4�'�Q�5�Y��~��w�t�c�W-Ӯ}� �����*�8��n�]�ϯh�%��;^I�q�SVY���O�e�����vy�.��?UBC��n6���y<
�9Tg��BM�� ��P�_A�t!��D�@y��|V��7�U�F%�w�����6����P�{��N�E���C�-�����|����O��8ӻ�������d��9�S��c��sHEi쇙Cr��ݬx����Vi�	�����K��9�[��p@�W⺁2>V!�@k�>FtWՓc��	�����#��OS/bx�1n��GC�[�	��H��H���e��d%D�Zs������5]���i7K�Z��N�2?��J�'@ŴJ��)U��1�A�g��}ZR�(�4p\��+����eܼ?�i�0���'C�Z����,�J��y1���/�r���q�K�xy��)�a�[��#Ϟ(�4��!�E�]��EtJR?�l��Zr���}i�ۆ)�܍�4�M ������h��i�T7���/��l�g�Y��(�;��;�}@�����Oم�����`���y��[DnW$�q�	�Nb�0���b�e��#�b��d����;����7�������:E��P'~H�/^U��~u{�^�_� nx�����])?L�����wAq[U��G&aO���E��I �c�T�%�c�չ����7]-	��Aw'E�U���*R��+2�&��Ѵ�G�e�'�!�o�l��mk�Mk��S����[��K��Ҥ��t�t�{f$S6DB>]�7�ױ���2'��n�SGY�����h�^��^�R?H�����,�+2�:�A�S�(o�:ʿ\��gX`Bty%��y̎�>oo^�S�Ӭ�7�&>������E�j�y9�/*ZT�eas��C��8$a�ݢD>K(���@�)�	i��Q1?�B���k>8w"�2�l	}8�*N|֑�{~�x.�}�V�Y`y��:�W\����a��j�U鰳�e�i�`�>�w���j\��na�n_�3�����C�|,��+^��b�$V>j���s`�|��5�����
���˝��5���ZL� ���<�0��졂QF����$�NfBB�jf�ƽ�`*�\�ȗ�-����8m��ɋ��P$��C1���ee�;���4(}���H݉�S�j:�6T�����|	��\���YeY�I���C(m�����n]oR���� 8G���5�;|��/���˕˲Q�F��@h�2l�ӵ������z<zJ�yGp�Rm�k��������p��|l��u1�%�c�OV�>�<~���n����i���u����E�.�(��83@a��V���B�K�0�����!z�	�����l[�(3��iS{}|�����k�45�&p7��:�w�yXY���҆n����Ry�W^}�A�'��]�؅0��G������J�lk�)�<BhCr�P#G ���d4����y�4�ď"�a�<!>4{y�����֦��C3t+B�<a�*������C�0FҦ�
NL��J��B ��0j
��fѧ�s�M!��V�70�,�KLP�z�[A;�m#����RU����F����O��X;C����[�>�u^<��=��4$>��}K�{=@F���e���I�X%���E١$Кtx�CO�� s�a�m����ES����q�{���-�����O��q���eay
Np�\��Ef�5P��e����.�Ƿ[�!��������8�Fs��D�5�շ���涊�� �q��m�
n�#����\���8s_sԜ��t���89r!���5{l�U~x��?)\uC9���B�K̝t�W&b������B5��<�`���w+�������3�ԇy�Ѽ�{��UVV>�8�(N�`�k2L
:lLq���f$���5��V�k0	"d�'
(0pt�M^ܭu��$,>��j����HH�h�u\��9�lj���NҜfD)h]vl�|�b�)���^�K�.�[�/�T󼟥&E_ělhx�ΉĻ}�H��-;�#DZo��I�y�ʆ�v2�=����Q!U���W�q�Ֆ�	���	�Z	��O}*goY�S,J7M��!���n�i{��y��,Ȭ��Fh�?��Qn�@�u��3e�pG�Ɏ:
u�"؎:���8F�u�A��ē���d����*Q ��~��Z�@F�ɯC[iJ#aB�4��vU�r�ƽ� ��P��X�'Qw��m�f����-��NQ摃R����%.<���vI�t�A:���Cm��ԛ��z�f@h���WAh"!.9���j�Q���)�h���٪<A��W���i�"�V�!"��g��'�Q�!qa�z�*Ȁct�Ԃi��`�8M*�����/nMB�m/2�̡=�E�2�P�ma��F֊��!��,Ml&#e|�u$¸�v��b���r������M��o���L��؏Lp�t5T�P�P�m#�]���2��K����=<Ty�DVwG�՞��2M��6u���ԧ&h�Ed,�c��+�+���ڦ��1�H�]8U�8�b)�N�yG���z&	��\?����O�Y,�%��D���4AM+����ẹ_}Sst����T���8�L���$�6�����k�qgm&A�!���Q��eE��u-}�Idf�KB-6��D��:)pk��N�UCf�s��(DBt�F��Ʉ���(���8p��؂a%�DL3���6'�C�
�޵��>V�Ь;8���i�
p���p
-h��-_Vf���{-:� �D���!��F'�,���6�{mYi�ǌ���Kkcq"ܖ���#c��^��C���g����h���r��C�����%�/�G�)�Vօ�q���IL��K�S����0X=�E����d�Y{���ɓ�U��.�ʵ��?�L'���4���q%h��DD�L�|�K5��)���t�ʉujS|�K5�����V�4�Q]y��7{��V|��D�Q^ñ����p���Ŕv�EE\� !��%Q��01�45�6��6��s�T=�ӄ�n[�˭��=��-N$�">08e�}�zk\������xN��� �B��� �s~�]�#��L�h�Pl��mYA J�����6&!�S�_�|�0�S��С��7��Ezk�iX[�l�sG0ɉ��N�p���4;�1IC�k'i`M.��v�
w^yNd�v"��ͩ�*��R\;M�&S95ĸ3U7\�l;�@K�=)�{RH�R������id�N�A���ː#m�$�&�zB�Xd�ώc$�����v���q,`p��ܸQ%Ff���\b^�b�ō��8d�GZd�!��Ѿ/Ȫ��&G���S�����xY"*���16���:���� �)O<o�T��V�3n�5k�0n�{T~��X��:_�S}�A"��g�ǿ�qڶ<�y+|QL"꡼�C�$<�;_7���Ks�w�3F��2���e����C���=��<��
ti�	�.� {����C��#>�� MGkB�����������s���̩xz��PoW;�E?Fi����f(����	t�x�����	X�!5�~�h�K�I�s�T��6�I�Шc��J�)�*�D~�.����n.,�PuO�ƞys̟VV��m���zm�xGڻ�:>fۋrI^+�Z�g"��8�D�1
���|����NI�&�95X�t`��c,B*��"��X��-t,+�aJ�Q�ߣwt[I��a�JrZ$i��h�����Wj�Kz���^���Cm�{��8Tx�׶z|V*�j�cض�䶭��Eu�����L���Ι��jS|���$���X�_�w��C}��7�9�J��܋��jxgd���f:���UI
�d]�Yڷ6`�����l��r�8E���+�Ju脕�4J��Oo��D����ʞWŶ���l�J�.�y��w����Cv �q���?I�_��n��\!U;�k�7��O�3n��u�5��#�Q�ܯ�䭀x]��c�K!���.Ĺ(������J����P4�Ǽ*�ݺ��aa��w���s~��V�a��rl�8�a�7�$Z�W���)FAE��8عNE�(/�%�V*�9
va�^9A�޿81e��!����o"w�F~f�r[�(_:��/�n�6���R?2�Z�X�@�g:���a$�@'����)7��Sf���@\�����]�prE��B����	=L��7���y��m�=(��E��YĊ��.K��6I����k�	�pt�6�C�ށl,>k<b�pa��p�v\��ᶰ��`&;=nL�af/K���� ����g/��B����:�*�~Lu�^ҏ�v�;P 	:=W{߅�d0���L�s]��=9 8vo�P����TK����`�1�OL�NK̌��po�_�,��c9��S?'
��sAQ�S(��H�H��R(e�������e�:�($'
e'M� h˦u�Fx�Pv��H�a�����[CҢPv���=9���!9Q(;iZ|ðC�<W��s�W 7к�gd���Ha��Ui���o�ix)�����0�};L��I�L�t"��$P���"�YK�Jы�t�Ϟ,��V�D�M�T�~��+�/�#�L����V"�=������(�	��Ai��9��d��r��F�g��|P��OA�X��e̿���5�K��|��f�3�_�G��m������5�2�>�������E/!e�H���Dfو��>jIh�$R"%B������M8F<�ވ��e��Q�Wʧ�O�z#���D�, �u��Ƥ����yE�\����~���{�&>���|��{��i�%\�ә���	|��Y=t3		�f�W����
���������<�����Qʇ��y����f	�J�I��;C��Na#
���2��/F׻P�TMP�{�˩��d��q	Rx	w�xϚ� �}���(�D=F����'�^{=�2&P�f
���w����zJ6؄�	'S�"�A�Q����Ĵ#FG?Q�8֣�(�D
���P�P+h 2�[��3�n�
���yI�V5(n�Cg)Z�dO$5dO��� �,�E`(
>�Qq=��)c�3*n��[�6J�Fjvf��[hTR&ݦZ�)���S@���R;k7�e�^T�Xt�����v)Ddm�l7�#�/+�7�
endstream
endobj
57 0 obj
<</Type/Page/Parent 2 0 R/Resources<</Font<</F1 5 0 R/F4 16 0 R>>/ExtGState<</GS7 7 0 R/GS8 8 0 R>>/ProcSet[/PDF/Text/ImageB/ImageC/ImageI] >>/MediaBox[ 0 0 596.04 842.52] /Contents 58 0 R/Group<</Type/Group/S/Transparency/CS/DeviceRGB>>/Tabs/S/StructParents 10>>
endobj
58 0 obj
<</Filter/FlateDecode/Length 6433>>
stream
x��]Y��6�~w���)7�}�J���񖱧��&S�y�[K�,��(������>\��"��4	f2 ���� �x�$H�4%q9^H����x~�!9��>��od��	y��ؓ~x���ݏ�}�~�ߐ�j��O�/��o�=�zy������@n�O�xĥ�y$��6O"�	�펶y�)!����l�[ʿ�y�����������+��GJ�7�E�7�a�$	'K�H����{����A�k�B�P�^?�a��*V�;���j��XX���NLi䠞�9I'���՗��4p��ԥs&�{��G��ï���+�\��ٶ$�D� �N�+����%Y�1~�ͯ<ot|-���/�Ub�إ�5���Ӂ��tpV�
�5��Jƺ����ܞ�W�잔�%~���,�&�=���i�fN(c��j���b��N9|/����R��i��̾��D,r�R6�����I�9�"ڇ4��nNg��Say�����Z�n��륾��N�	�4t�N�h�~��t�g��%:�"%<2'<��g��|p�ɫh��4��{>��)��g9~�k� �d�p�{�sϝ푖|��|��G��4S�~�?��D�Y��3yd:/a�Y$��̲)�w��SO˧8�3B�$�o(W�'�#NU|����N4�Q������(��e*���FV #��8r\O��n~B�����Ԓv�N�j�[��t#H���PI
��*�}]PSa�Z!H-�`5��򌫺�f.P�ݢm��������%�@!�����y:xT5�P��g4����0�L�Z�n��r���+��,�Z�Q�<�I���T���E�-5c�H���
=����zGN��4�ƃ�N��t]qQ�|-�W��.�+��D��Kɞ�#��_ų�O4}j5���~��j,$	O����n"��*�w���
�~@w��cQN$�c��(��u� ��6���k1��qyZ�-��}g�<���	d�?�$�z���?�'��h�&i��4ʿ_g��&U,�6������y�*�g9����z��,f�2c��<��tS _���*��p׶$�z"��
YZ�������4#�P�h��PSW����LV�㠳�2�8���M�CqZ�O�b�}$hg��G�'*[��d
h���l�e� �}6�C�f����z�(v��G��}��EM�Ng����w'�~��ԡ�{�~�"~D.�_����4�y��"���L]�8o��h��������6�F�z.Uir��L�5����d�^���^�f��(i��$����W���I�sjoh���Ђ�[���4.�bn�ti�j5� c�(�7��i.������͎��)�D����M�&Ѓ���sṯQ��<f�<t���ap<5)vf%9��w�\j�J��������Q��7�`#a���}�1��G@�gR'�mQ���G��zTOP_Ru�l�8��QM��i����V��Ӂ��U�pج��%�#��i����U0�M:V3߉B���謩a�	!G�`��&�P����W[�k��Şyo�WIw$�9T�����ƀ�qI>Ճv9�e�d:�w�E�;dcfN����4E#<А>?isC�|7q�H���lG�P%���A�Q�"���ѣ�_�ލ��߱뺯_�3՜��c���0t�>`tpn�ǟ^���k���*�IIqn�%�ڳ;�A[��/K�EB�����pz(�1 ��DYۧ+A�0�
5�(*~�+*<\�>Zt���( ,�P�E��/�ċD���~X"�L�ȕ
��c���ӕ���#��w��#����Y6����O��#�-w>���أ�_�ñ��-�y�IȐe
{(����ǒ͈e� ��J��qX�5�2�_b�˕WԠ�x�5������W��Md�������ņ,q��nyGjm9�5�ȟ��/�p�Z�߇���yes�2ί��U*�%D�y��D����q������R���]쉸�Y=�s�=�c�͕��4v�HANg�L��q���U~��#�)��(�Jx�x�t��qd�%�H4��o�]{���>91�I��J�����˖ ����
d�I����{�[<�m���:@�K��G�$m7(iW���ӟB.|η�!�_\�Jǉh��T��\�����h��k�<�芨����O�������ᗫ�M�A�C�tP�@�u���5�R��*C��37��U����\ZM�Z�� �6�"A���ı>x֦֠�_�>xB�9�U,��R.+\�KC>Y�|:j-ܦ���܆��҈�c������M��j���*GWwޫ3sB��eNjz���PtA����QC�v�5�|�Qb�(lӛ�K*��I%�3����F���U��#�L�/h�w,4�Q��j>R_�m6`�����"Í��AF�&7����"��G���!���G�ǐf���3y$��[�H�'
��I
��!ˆ����O���"�����Q�đ�5�9_O�M��{.�U|/��D�?�0����ׇx�ł��-��j�Xۙ��p|�D����0��#��Y������U��U�aK2R����Q�l���һ1pT��䃢����ݵ���L=,����z��]$j�Ǒ��q�+�?����W�=��3�R���j,B��O�c�����G&js*q�S:���<u�m����1<u2��ǥ�$/Ğ�3O&Ծ��С�u5i�z�>K�V
�b ����,���k�I`�qF�g�"�V-�65�(�,z8	5�c�5?�����90
42'���@�0�5�qpC�D3)=%�n�gY
��c��8$O��T]����'��<��HG�m�Q#9'��t��vJ2����M���49ݯ&"I�(pu��l*�Q������u5g�f}�v!~��L�Y#�c��Ї8���k�8 }��k�rV�*�;�rO����2��~�i�[D��ex1\����X}�E�F~߼��鵗1/�D����K���[�@*����h2�z*!���#˿��tI��ؔz��aR_	S�-�P���x�H�������_2 ƃ���#�(�N;�n�O��k�7�x	#a"%���ŉ���q�*(�3�'<��;03�* �3;��*{�
E���������c�-����r߈J$[E��G���*�oUa��$å�#�xX���-�/̊R�@b�
�j)���$߯�g|0q'�u
"j�����&_W�keN$�e��-k}u�@Ј*ʴ����N�R�Um d��
�E�@�ަʫ뻩6z`�K�B�M�|�wSU�b��X�ޤJ�W��Z�v+,c�\J�D��SUZ�z�
�m�\�詪]hMu��[A+�M���AC>;�n�.���܆�҈o'm4j�/@�;���R�a�O�5�d.\���p�����j_�����Kd��"�W�1t�
0x����Y���x���l�B���I� Nh&\𨲕p��dب����Q��*Y�>:8%�p�q�3�p����,�,4��A�_���d%�%�$&�X88>�ɖn;nd~�p`'�����6��H��^T��7!ۨ=���*���)�`�n˿C(�P�2uj`�!�� b�쾄t�}h?n������ �A�L͑�3�v�K������4B�����ϲ�а������c�̡Q��J>;;2'Ue����3�3wu��Ɠ���3�^����n,�z�����|a$v�)�!�E�om���@����j��A��D�'OR_?��&[��G�[-ua��FF��3�ѕ9�%��i��
�G�v.~mgN�}�t>ϸA�Ģ�.c�tn��%nSP#�TkS���k�{�8yQ�m�����\����WK(̞��^��G�����%8��䆽�#��̪��|;OY0�pV���vz�8!{x��hQ;�>s��b�i�_MF~�����3�H,|!��$��S�ɾ�i���b�d1},�͏�����?�@R' �B,�~S��,P�fg� ��������ʜ����tO8�o[e%r�E(�)�� m/O������Cޗ�l8is��`
�5E��c֑��)�a�X�&?�#@b��Ajz���k.�z9T`���#&X��\���i�PlD6�К[�i��7��X���E
��F���0�Lra ����"7�3�����N����$�2&7/J���x�J�煐e�^��vwޞ���a�$����6<��\�euv¶Px�#�3<XF�*��
��Nhz)^�0~*%㓩�CUʂ�t���/�Ġ�ۀpf쫜��I�S�󢭫BECmIo#NQT�1��2L�7�*x�KQE�M���wSm��/��v��$@�M�$��;�&U�@�/��Za�o\3�ۍDq����"&+�Im�
ѓ(�hOug�4Ǻ�|�t����.�5'�2VC>�KVEQk�,��m�AXˠC�B�%������\H�G��{�[H���3� ����v�:�[]�0p�XN!��vQXE����Ë*d�΢
�W%��짫���YG�Lb�+<���c	?���v�©g>2��G�cٟ9e�Z����&!@��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",
      "text/plain": [
       "<Figure size 1200x600 with 1 Axes>"
      ]
     },
     "metadata": {},
     "output_type": "display_data"
    }
   ],
   "source": [
    "# Plot results (last 500 time steps)\n",
    "plt.figure(figsize=(12, 6))\n",
    "plt.plot(Y_true[-500:], label='Actual Temperature', linewidth=2)\n",
    "plt.plot(Y_pred[-500:], label='Predicted Temperature', linewidth=2)\n",
    "plt.title('Temperature Forecasting using RNN')\n",
    "plt.xlabel('Time Steps (hours)')\n",
    "plt.ylabel('Temperature')\n",
    "plt.legend()\n",
    "plt.grid(True)\n",
    "plt.show()"
   ]
  },
  {
   "cell_type": "code",
   "execution_count": 10,
   "id": "3e5b3c78-0f67-4887-83b2-3620fb069726",
   "metadata": {},
   "outputs": [
    {
     "name": "stdout",
     "output_type": "stream",
     "text": [
      "Mean Squared Error: 5.49\n",
      "Mean Absolute Error: 1.86\n"
     ]
    }
   ],
   "source": [
    "# Evaluation\n",
    "mse = mean_squared_error(Y_true, Y_pred)\n",
    "mae = mean_absolute_error(Y_true, Y_pred)\n",
    "print(f\"Mean Squared Error: {mse:.2f}\")\n",
    "print(f\"Mean Absolute Error: {mae:.2f}\")"
   ]
  }
 ],
 "metadata": {
  "kernelspec": {
   "display_name": "Python 3 (ipykernel)",
   "language": "python",
   "name": "python3"
  },
  "language_info": {
   "codemirror_mode": {
    "name": "ipython",
    "version": 3
   },
   "file_extension": ".py",
   "mimetype": "text/x-python",
   "name": "python",
   "nbconvert_exporter": "python",
   "pygments_lexer": "ipython3",
   "version": "3.12.7"
  }
 },
 "nbformat": 4,
 "nbformat_minor": 5
}
