{
 "cells": [
  {
   "cell_type": "code",
   "execution_count": 1,
   "metadata": {
    "id": "lutMfkiHZcuA"
   },
   "outputs": [],
   "source": [
    "import warnings\n",
    "warnings.filterwarnings('ignore')"
   ]
  },
  {
   "cell_type": "code",
   "execution_count": 2,
   "metadata": {
    "id": "XVfaWYH_aMZD"
   },
   "outputs": [],
   "source": [
    "# Importing required libraries\n",
    "import pandas as pd\n",
    "import numpy as np\n",
    "import matplotlib.pyplot as plt\n",
    "import seaborn as sns"
   ]
  },
  {
   "cell_type": "code",
   "execution_count": 3,
   "metadata": {
    "id": "ZRnFhvrciV6p"
   },
   "outputs": [],
   "source": [
    "df = pd.read_csv('/content/drive/MyDrive/Colab Notebooks/Electric_Vehicle_Population_Data.csv')"
   ]
  },
  {
   "cell_type": "code",
   "execution_count": 4,
   "metadata": {
    "colab": {
     "base_uri": "https://localhost:8080/",
     "height": 617
    },
    "id": "0urR3MJbaSSc",
    "outputId": "4cfd116f-6a05-46e3-85d9-35477d35dc3d"
   },
   "outputs": [
    {
     "data": {
      "text/html": [
       "<div>\n",
       "<style scoped>\n",
       "    .dataframe tbody tr th:only-of-type {\n",
       "        vertical-align: middle;\n",
       "    }\n",
       "\n",
       "    .dataframe tbody tr th {\n",
       "        vertical-align: top;\n",
       "    }\n",
       "\n",
       "    .dataframe thead th {\n",
       "        text-align: right;\n",
       "    }\n",
       "</style>\n",
       "<table border=\"1\" class=\"dataframe\">\n",
       "  <thead>\n",
       "    <tr style=\"text-align: right;\">\n",
       "      <th></th>\n",
       "      <th>0</th>\n",
       "    </tr>\n",
       "  </thead>\n",
       "  <tbody>\n",
       "    <tr>\n",
       "      <th>VIN (1-10)</th>\n",
       "      <td>0</td>\n",
       "    </tr>\n",
       "    <tr>\n",
       "      <th>County</th>\n",
       "      <td>4</td>\n",
       "    </tr>\n",
       "    <tr>\n",
       "      <th>City</th>\n",
       "      <td>4</td>\n",
       "    </tr>\n",
       "    <tr>\n",
       "      <th>State</th>\n",
       "      <td>0</td>\n",
       "    </tr>\n",
       "    <tr>\n",
       "      <th>Postal Code</th>\n",
       "      <td>4</td>\n",
       "    </tr>\n",
       "    <tr>\n",
       "      <th>Model Year</th>\n",
       "      <td>0</td>\n",
       "    </tr>\n",
       "    <tr>\n",
       "      <th>Make</th>\n",
       "      <td>0</td>\n",
       "    </tr>\n",
       "    <tr>\n",
       "      <th>Model</th>\n",
       "      <td>0</td>\n",
       "    </tr>\n",
       "    <tr>\n",
       "      <th>Electric Vehicle Type</th>\n",
       "      <td>0</td>\n",
       "    </tr>\n",
       "    <tr>\n",
       "      <th>Clean Alternative Fuel Vehicle (CAFV) Eligibility</th>\n",
       "      <td>0</td>\n",
       "    </tr>\n",
       "    <tr>\n",
       "      <th>Electric Range</th>\n",
       "      <td>27</td>\n",
       "    </tr>\n",
       "    <tr>\n",
       "      <th>Base MSRP</th>\n",
       "      <td>27</td>\n",
       "    </tr>\n",
       "    <tr>\n",
       "      <th>Legislative District</th>\n",
       "      <td>481</td>\n",
       "    </tr>\n",
       "    <tr>\n",
       "      <th>DOL Vehicle ID</th>\n",
       "      <td>0</td>\n",
       "    </tr>\n",
       "    <tr>\n",
       "      <th>Vehicle Location</th>\n",
       "      <td>11</td>\n",
       "    </tr>\n",
       "    <tr>\n",
       "      <th>Electric Utility</th>\n",
       "      <td>4</td>\n",
       "    </tr>\n",
       "    <tr>\n",
       "      <th>2020 Census Tract</th>\n",
       "      <td>4</td>\n",
       "    </tr>\n",
       "  </tbody>\n",
       "</table>\n",
       "</div><br><label><b>dtype:</b> int64</label>"
      ],
      "text/plain": [
       "VIN (1-10)                                             0\n",
       "County                                                 4\n",
       "City                                                   4\n",
       "State                                                  0\n",
       "Postal Code                                            4\n",
       "Model Year                                             0\n",
       "Make                                                   0\n",
       "Model                                                  0\n",
       "Electric Vehicle Type                                  0\n",
       "Clean Alternative Fuel Vehicle (CAFV) Eligibility      0\n",
       "Electric Range                                        27\n",
       "Base MSRP                                             27\n",
       "Legislative District                                 481\n",
       "DOL Vehicle ID                                         0\n",
       "Vehicle Location                                      11\n",
       "Electric Utility                                       4\n",
       "2020 Census Tract                                      4\n",
       "dtype: int64"
      ]
     },
     "execution_count": 4,
     "metadata": {},
     "output_type": "execute_result"
    }
   ],
   "source": [
    "# Check for missing values\n",
    "df.isnull().sum()"
   ]
  },
  {
   "cell_type": "code",
   "execution_count": 5,
   "metadata": {
    "colab": {
     "base_uri": "https://localhost:8080/",
     "height": 300
    },
    "id": "fRYHi6jfalfI",
    "outputId": "9b88fbcb-f3e8-42b2-8cb6-f292edad8437"
   },
   "outputs": [
    {
     "data": {
      "application/vnd.google.colaboratory.intrinsic+json": {
       "summary": "{\n  \"name\": \"df\",\n  \"rows\": 8,\n  \"fields\": [\n    {\n      \"column\": \"Postal Code\",\n      \"properties\": {\n        \"dtype\": \"number\",\n        \"std\": 71741.41242409212,\n        \"min\": 1731.0,\n        \"max\": 232226.0,\n        \"num_unique_values\": 8,\n        \"samples\": [\n          98180.17204361269,\n          98126.0,\n          232226.0\n        ],\n        \"semantic_type\": \"\",\n        \"description\": \"\"\n      }\n    },\n    {\n      \"column\": \"Model Year\",\n      \"properties\": {\n        \"dtype\": \"number\",\n        \"std\": 81496.88931538597,\n        \"min\": 2.9948841240177333,\n        \"max\": 232230.0,\n        \"num_unique_values\": 7,\n        \"samples\": [\n          232230.0,\n          2021.353726908668,\n          2023.0\n        ],\n        \"semantic_type\": \"\",\n        \"description\": \"\"\n      }\n    },\n    {\n      \"column\": \"Electric Range\",\n      \"properties\": {\n        \"dtype\": \"number\",\n        \"std\": 82070.67089884191,\n        \"min\": 0.0,\n        \"max\": 232203.0,\n        \"num_unique_values\": 6,\n        \"samples\": [\n          232203.0,\n          46.75599798452216,\n          337.0\n        ],\n        \"semantic_type\": \"\",\n        \"description\": \"\"\n      }\n    },\n    {\n      \"column\": \"Base MSRP\",\n      \"properties\": {\n        \"dtype\": \"number\",\n        \"std\": 297795.35712170886,\n        \"min\": 0.0,\n        \"max\": 845000.0,\n        \"num_unique_values\": 5,\n        \"samples\": [\n          803.8089731829476,\n          845000.0,\n          7246.597101914135\n        ],\n        \"semantic_type\": \"\",\n        \"description\": \"\"\n      }\n    },\n    {\n      \"column\": \"Legislative District\",\n      \"properties\": {\n        \"dtype\": \"number\",\n        \"std\": 81926.31308530213,\n        \"min\": 1.0,\n        \"max\": 231749.0,\n        \"num_unique_values\": 8,\n        \"samples\": [\n          28.880978990200607,\n          32.0,\n          231749.0\n        ],\n        \"semantic_type\": \"\",\n        \"description\": \"\"\n      }\n    },\n    {\n      \"column\": \"DOL Vehicle ID\",\n      \"properties\": {\n        \"dtype\": \"number\",\n        \"std\": 161535939.32731366,\n        \"min\": 4385.0,\n        \"max\": 479254772.0,\n        \"num_unique_values\": 8,\n        \"samples\": [\n          234367089.08019635,\n          251271740.5,\n          232230.0\n        ],\n        \"semantic_type\": \"\",\n        \"description\": \"\"\n      }\n    },\n    {\n      \"column\": \"2020 Census Tract\",\n      \"properties\": {\n        \"dtype\": \"number\",\n        \"std\": 27342244248.634727,\n        \"min\": 232226.0,\n        \"max\": 56021001100.0,\n        \"num_unique_values\": 8,\n        \"samples\": [\n          52981772238.89137,\n          53033030309.0,\n          232226.0\n        ],\n        \"semantic_type\": \"\",\n        \"description\": \"\"\n      }\n    }\n  ]\n}",
       "type": "dataframe"
      },
      "text/html": [
       "\n",
       "  <div id=\"df-8841c28e-4664-4293-9104-0b5bbce1eeb6\" class=\"colab-df-container\">\n",
       "    <div>\n",
       "<style scoped>\n",
       "    .dataframe tbody tr th:only-of-type {\n",
       "        vertical-align: middle;\n",
       "    }\n",
       "\n",
       "    .dataframe tbody tr th {\n",
       "        vertical-align: top;\n",
       "    }\n",
       "\n",
       "    .dataframe thead th {\n",
       "        text-align: right;\n",
       "    }\n",
       "</style>\n",
       "<table border=\"1\" class=\"dataframe\">\n",
       "  <thead>\n",
       "    <tr style=\"text-align: right;\">\n",
       "      <th></th>\n",
       "      <th>Postal Code</th>\n",
       "      <th>Model Year</th>\n",
       "      <th>Electric Range</th>\n",
       "      <th>Base MSRP</th>\n",
       "      <th>Legislative District</th>\n",
       "      <th>DOL Vehicle ID</th>\n",
       "      <th>2020 Census Tract</th>\n",
       "    </tr>\n",
       "  </thead>\n",
       "  <tbody>\n",
       "    <tr>\n",
       "      <th>count</th>\n",
       "      <td>232226.000000</td>\n",
       "      <td>232230.000000</td>\n",
       "      <td>232203.000000</td>\n",
       "      <td>232203.000000</td>\n",
       "      <td>231749.000000</td>\n",
       "      <td>2.322300e+05</td>\n",
       "      <td>2.322260e+05</td>\n",
       "    </tr>\n",
       "    <tr>\n",
       "      <th>mean</th>\n",
       "      <td>98180.172044</td>\n",
       "      <td>2021.353727</td>\n",
       "      <td>46.755998</td>\n",
       "      <td>803.808973</td>\n",
       "      <td>28.880979</td>\n",
       "      <td>2.343671e+08</td>\n",
       "      <td>5.298177e+10</td>\n",
       "    </tr>\n",
       "    <tr>\n",
       "      <th>std</th>\n",
       "      <td>2489.407943</td>\n",
       "      <td>2.994884</td>\n",
       "      <td>84.373596</td>\n",
       "      <td>7246.597102</td>\n",
       "      <td>14.904503</td>\n",
       "      <td>6.831418e+07</td>\n",
       "      <td>1.507814e+09</td>\n",
       "    </tr>\n",
       "    <tr>\n",
       "      <th>min</th>\n",
       "      <td>1731.000000</td>\n",
       "      <td>1999.000000</td>\n",
       "      <td>0.000000</td>\n",
       "      <td>0.000000</td>\n",
       "      <td>1.000000</td>\n",
       "      <td>4.385000e+03</td>\n",
       "      <td>1.001020e+09</td>\n",
       "    </tr>\n",
       "    <tr>\n",
       "      <th>25%</th>\n",
       "      <td>98052.000000</td>\n",
       "      <td>2020.000000</td>\n",
       "      <td>0.000000</td>\n",
       "      <td>0.000000</td>\n",
       "      <td>17.000000</td>\n",
       "      <td>2.034737e+08</td>\n",
       "      <td>5.303301e+10</td>\n",
       "    </tr>\n",
       "    <tr>\n",
       "      <th>50%</th>\n",
       "      <td>98126.000000</td>\n",
       "      <td>2023.000000</td>\n",
       "      <td>0.000000</td>\n",
       "      <td>0.000000</td>\n",
       "      <td>32.000000</td>\n",
       "      <td>2.512717e+08</td>\n",
       "      <td>5.303303e+10</td>\n",
       "    </tr>\n",
       "    <tr>\n",
       "      <th>75%</th>\n",
       "      <td>98375.000000</td>\n",
       "      <td>2023.000000</td>\n",
       "      <td>38.000000</td>\n",
       "      <td>0.000000</td>\n",
       "      <td>42.000000</td>\n",
       "      <td>2.686943e+08</td>\n",
       "      <td>5.305307e+10</td>\n",
       "    </tr>\n",
       "    <tr>\n",
       "      <th>max</th>\n",
       "      <td>99577.000000</td>\n",
       "      <td>2025.000000</td>\n",
       "      <td>337.000000</td>\n",
       "      <td>845000.000000</td>\n",
       "      <td>49.000000</td>\n",
       "      <td>4.792548e+08</td>\n",
       "      <td>5.602100e+10</td>\n",
       "    </tr>\n",
       "  </tbody>\n",
       "</table>\n",
       "</div>\n",
       "    <div class=\"colab-df-buttons\">\n",
       "\n",
       "  <div class=\"colab-df-container\">\n",
       "    <button class=\"colab-df-convert\" onclick=\"convertToInteractive('df-8841c28e-4664-4293-9104-0b5bbce1eeb6')\"\n",
       "            title=\"Convert this dataframe to an interactive table.\"\n",
       "            style=\"display:none;\">\n",
       "\n",
       "  <svg xmlns=\"http://www.w3.org/2000/svg\" height=\"24px\" viewBox=\"0 -960 960 960\">\n",
       "    <path d=\"M120-120v-720h720v720H120Zm60-500h600v-160H180v160Zm220 220h160v-160H400v160Zm0 220h160v-160H400v160ZM180-400h160v-160H180v160Zm440 0h160v-160H620v160ZM180-180h160v-160H180v160Zm440 0h160v-160H620v160Z\"/>\n",
       "  </svg>\n",
       "    </button>\n",
       "\n",
       "  <style>\n",
       "    .colab-df-container {\n",
       "      display:flex;\n",
       "      gap: 12px;\n",
       "    }\n",
       "\n",
       "    .colab-df-convert {\n",
       "      background-color: #E8F0FE;\n",
       "      border: none;\n",
       "      border-radius: 50%;\n",
       "      cursor: pointer;\n",
       "      display: none;\n",
       "      fill: #1967D2;\n",
       "      height: 32px;\n",
       "      padding: 0 0 0 0;\n",
       "      width: 32px;\n",
       "    }\n",
       "\n",
       "    .colab-df-convert:hover {\n",
       "      background-color: #E2EBFA;\n",
       "      box-shadow: 0px 1px 2px rgba(60, 64, 67, 0.3), 0px 1px 3px 1px rgba(60, 64, 67, 0.15);\n",
       "      fill: #174EA6;\n",
       "    }\n",
       "\n",
       "    .colab-df-buttons div {\n",
       "      margin-bottom: 4px;\n",
       "    }\n",
       "\n",
       "    [theme=dark] .colab-df-convert {\n",
       "      background-color: #3B4455;\n",
       "      fill: #D2E3FC;\n",
       "    }\n",
       "\n",
       "    [theme=dark] .colab-df-convert:hover {\n",
       "      background-color: #434B5C;\n",
       "      box-shadow: 0px 1px 3px 1px rgba(0, 0, 0, 0.15);\n",
       "      filter: drop-shadow(0px 1px 2px rgba(0, 0, 0, 0.3));\n",
       "      fill: #FFFFFF;\n",
       "    }\n",
       "  </style>\n",
       "\n",
       "    <script>\n",
       "      const buttonEl =\n",
       "        document.querySelector('#df-8841c28e-4664-4293-9104-0b5bbce1eeb6 button.colab-df-convert');\n",
       "      buttonEl.style.display =\n",
       "        google.colab.kernel.accessAllowed ? 'block' : 'none';\n",
       "\n",
       "      async function convertToInteractive(key) {\n",
       "        const element = document.querySelector('#df-8841c28e-4664-4293-9104-0b5bbce1eeb6');\n",
       "        const dataTable =\n",
       "          await google.colab.kernel.invokeFunction('convertToInteractive',\n",
       "                                                    [key], {});\n",
       "        if (!dataTable) return;\n",
       "\n",
       "        const docLinkHtml = 'Like what you see? Visit the ' +\n",
       "          '<a target=\"_blank\" href=https://colab.research.google.com/notebooks/data_table.ipynb>data table notebook</a>'\n",
       "          + ' to learn more about interactive tables.';\n",
       "        element.innerHTML = '';\n",
       "        dataTable['output_type'] = 'display_data';\n",
       "        await google.colab.output.renderOutput(dataTable, element);\n",
       "        const docLink = document.createElement('div');\n",
       "        docLink.innerHTML = docLinkHtml;\n",
       "        element.appendChild(docLink);\n",
       "      }\n",
       "    </script>\n",
       "  </div>\n",
       "\n",
       "\n",
       "<div id=\"df-386925d9-7c0d-4a1b-8dfd-acfbfc33a925\">\n",
       "  <button class=\"colab-df-quickchart\" onclick=\"quickchart('df-386925d9-7c0d-4a1b-8dfd-acfbfc33a925')\"\n",
       "            title=\"Suggest charts\"\n",
       "            style=\"display:none;\">\n",
       "\n",
       "<svg xmlns=\"http://www.w3.org/2000/svg\" height=\"24px\"viewBox=\"0 0 24 24\"\n",
       "     width=\"24px\">\n",
       "    <g>\n",
       "        <path d=\"M19 3H5c-1.1 0-2 .9-2 2v14c0 1.1.9 2 2 2h14c1.1 0 2-.9 2-2V5c0-1.1-.9-2-2-2zM9 17H7v-7h2v7zm4 0h-2V7h2v10zm4 0h-2v-4h2v4z\"/>\n",
       "    </g>\n",
       "</svg>\n",
       "  </button>\n",
       "\n",
       "<style>\n",
       "  .colab-df-quickchart {\n",
       "      --bg-color: #E8F0FE;\n",
       "      --fill-color: #1967D2;\n",
       "      --hover-bg-color: #E2EBFA;\n",
       "      --hover-fill-color: #174EA6;\n",
       "      --disabled-fill-color: #AAA;\n",
       "      --disabled-bg-color: #DDD;\n",
       "  }\n",
       "\n",
       "  [theme=dark] .colab-df-quickchart {\n",
       "      --bg-color: #3B4455;\n",
       "      --fill-color: #D2E3FC;\n",
       "      --hover-bg-color: #434B5C;\n",
       "      --hover-fill-color: #FFFFFF;\n",
       "      --disabled-bg-color: #3B4455;\n",
       "      --disabled-fill-color: #666;\n",
       "  }\n",
       "\n",
       "  .colab-df-quickchart {\n",
       "    background-color: var(--bg-color);\n",
       "    border: none;\n",
       "    border-radius: 50%;\n",
       "    cursor: pointer;\n",
       "    display: none;\n",
       "    fill: var(--fill-color);\n",
       "    height: 32px;\n",
       "    padding: 0;\n",
       "    width: 32px;\n",
       "  }\n",
       "\n",
       "  .colab-df-quickchart:hover {\n",
       "    background-color: var(--hover-bg-color);\n",
       "    box-shadow: 0 1px 2px rgba(60, 64, 67, 0.3), 0 1px 3px 1px rgba(60, 64, 67, 0.15);\n",
       "    fill: var(--button-hover-fill-color);\n",
       "  }\n",
       "\n",
       "  .colab-df-quickchart-complete:disabled,\n",
       "  .colab-df-quickchart-complete:disabled:hover {\n",
       "    background-color: var(--disabled-bg-color);\n",
       "    fill: var(--disabled-fill-color);\n",
       "    box-shadow: none;\n",
       "  }\n",
       "\n",
       "  .colab-df-spinner {\n",
       "    border: 2px solid var(--fill-color);\n",
       "    border-color: transparent;\n",
       "    border-bottom-color: var(--fill-color);\n",
       "    animation:\n",
       "      spin 1s steps(1) infinite;\n",
       "  }\n",
       "\n",
       "  @keyframes spin {\n",
       "    0% {\n",
       "      border-color: transparent;\n",
       "      border-bottom-color: var(--fill-color);\n",
       "      border-left-color: var(--fill-color);\n",
       "    }\n",
       "    20% {\n",
       "      border-color: transparent;\n",
       "      border-left-color: var(--fill-color);\n",
       "      border-top-color: var(--fill-color);\n",
       "    }\n",
       "    30% {\n",
       "      border-color: transparent;\n",
       "      border-left-color: var(--fill-color);\n",
       "      border-top-color: var(--fill-color);\n",
       "      border-right-color: var(--fill-color);\n",
       "    }\n",
       "    40% {\n",
       "      border-color: transparent;\n",
       "      border-right-color: var(--fill-color);\n",
       "      border-top-color: var(--fill-color);\n",
       "    }\n",
       "    60% {\n",
       "      border-color: transparent;\n",
       "      border-right-color: var(--fill-color);\n",
       "    }\n",
       "    80% {\n",
       "      border-color: transparent;\n",
       "      border-right-color: var(--fill-color);\n",
       "      border-bottom-color: var(--fill-color);\n",
       "    }\n",
       "    90% {\n",
       "      border-color: transparent;\n",
       "      border-bottom-color: var(--fill-color);\n",
       "    }\n",
       "  }\n",
       "</style>\n",
       "\n",
       "  <script>\n",
       "    async function quickchart(key) {\n",
       "      const quickchartButtonEl =\n",
       "        document.querySelector('#' + key + ' button');\n",
       "      quickchartButtonEl.disabled = true;  // To prevent multiple clicks.\n",
       "      quickchartButtonEl.classList.add('colab-df-spinner');\n",
       "      try {\n",
       "        const charts = await google.colab.kernel.invokeFunction(\n",
       "            'suggestCharts', [key], {});\n",
       "      } catch (error) {\n",
       "        console.error('Error during call to suggestCharts:', error);\n",
       "      }\n",
       "      quickchartButtonEl.classList.remove('colab-df-spinner');\n",
       "      quickchartButtonEl.classList.add('colab-df-quickchart-complete');\n",
       "    }\n",
       "    (() => {\n",
       "      let quickchartButtonEl =\n",
       "        document.querySelector('#df-386925d9-7c0d-4a1b-8dfd-acfbfc33a925 button');\n",
       "      quickchartButtonEl.style.display =\n",
       "        google.colab.kernel.accessAllowed ? 'block' : 'none';\n",
       "    })();\n",
       "  </script>\n",
       "</div>\n",
       "\n",
       "    </div>\n",
       "  </div>\n"
      ],
      "text/plain": [
       "         Postal Code     Model Year  Electric Range      Base MSRP  \\\n",
       "count  232226.000000  232230.000000   232203.000000  232203.000000   \n",
       "mean    98180.172044    2021.353727       46.755998     803.808973   \n",
       "std      2489.407943       2.994884       84.373596    7246.597102   \n",
       "min      1731.000000    1999.000000        0.000000       0.000000   \n",
       "25%     98052.000000    2020.000000        0.000000       0.000000   \n",
       "50%     98126.000000    2023.000000        0.000000       0.000000   \n",
       "75%     98375.000000    2023.000000       38.000000       0.000000   \n",
       "max     99577.000000    2025.000000      337.000000  845000.000000   \n",
       "\n",
       "       Legislative District  DOL Vehicle ID  2020 Census Tract  \n",
       "count         231749.000000    2.322300e+05       2.322260e+05  \n",
       "mean              28.880979    2.343671e+08       5.298177e+10  \n",
       "std               14.904503    6.831418e+07       1.507814e+09  \n",
       "min                1.000000    4.385000e+03       1.001020e+09  \n",
       "25%               17.000000    2.034737e+08       5.303301e+10  \n",
       "50%               32.000000    2.512717e+08       5.303303e+10  \n",
       "75%               42.000000    2.686943e+08       5.305307e+10  \n",
       "max               49.000000    4.792548e+08       5.602100e+10  "
      ]
     },
     "execution_count": 5,
     "metadata": {},
     "output_type": "execute_result"
    }
   ],
   "source": [
    "# Summary statistics\n",
    "df.describe()"
   ]
  },
  {
   "cell_type": "code",
   "execution_count": 6,
   "metadata": {
    "colab": {
     "base_uri": "https://localhost:8080/",
     "height": 209
    },
    "id": "RyuTWgtPam8K",
    "outputId": "1391e304-458a-4460-b300-062fcc057fb2"
   },
   "outputs": [
    {
     "data": {
      "text/html": [
       "<div>\n",
       "<style scoped>\n",
       "    .dataframe tbody tr th:only-of-type {\n",
       "        vertical-align: middle;\n",
       "    }\n",
       "\n",
       "    .dataframe tbody tr th {\n",
       "        vertical-align: top;\n",
       "    }\n",
       "\n",
       "    .dataframe thead th {\n",
       "        text-align: right;\n",
       "    }\n",
       "</style>\n",
       "<table border=\"1\" class=\"dataframe\">\n",
       "  <thead>\n",
       "    <tr style=\"text-align: right;\">\n",
       "      <th></th>\n",
       "      <th>count</th>\n",
       "    </tr>\n",
       "    <tr>\n",
       "      <th>Clean Alternative Fuel Vehicle (CAFV) Eligibility</th>\n",
       "      <th></th>\n",
       "    </tr>\n",
       "  </thead>\n",
       "  <tbody>\n",
       "    <tr>\n",
       "      <th>Eligibility unknown as battery range has not been researched</th>\n",
       "      <td>136865</td>\n",
       "    </tr>\n",
       "    <tr>\n",
       "      <th>Clean Alternative Fuel Vehicle Eligible</th>\n",
       "      <td>72847</td>\n",
       "    </tr>\n",
       "    <tr>\n",
       "      <th>Not eligible due to low battery range</th>\n",
       "      <td>22518</td>\n",
       "    </tr>\n",
       "  </tbody>\n",
       "</table>\n",
       "</div><br><label><b>dtype:</b> int64</label>"
      ],
      "text/plain": [
       "Clean Alternative Fuel Vehicle (CAFV) Eligibility\n",
       "Eligibility unknown as battery range has not been researched    136865\n",
       "Clean Alternative Fuel Vehicle Eligible                          72847\n",
       "Not eligible due to low battery range                            22518\n",
       "Name: count, dtype: int64"
      ]
     },
     "execution_count": 6,
     "metadata": {},
     "output_type": "execute_result"
    }
   ],
   "source": [
    "# Unique values in the target column\n",
    "df['Clean Alternative Fuel Vehicle (CAFV) Eligibility'].value_counts()"
   ]
  },
  {
   "cell_type": "code",
   "execution_count": 7,
   "metadata": {
    "id": "jgnreSFuapII"
   },
   "outputs": [],
   "source": [
    "# Fill missing values (Best Practice)\n",
    "df['Postal Code'] = df['Postal Code'].fillna(df['Postal Code'].mode()[0])\n",
    "df['Electric Range'] = df['Electric Range'].fillna(df['Electric Range'].median())\n",
    "df['Base MSRP'] = df['Base MSRP'].fillna(df['Base MSRP'].median())\n",
    "\n",
    "# Fill remaining missing data with 'Unknown' (Ensure type compatibility)\n",
    "df = df.fillna('Unknown')"
   ]
  },
  {
   "cell_type": "code",
   "execution_count": 8,
   "metadata": {
    "colab": {
     "base_uri": "https://localhost:8080/"
    },
    "id": "yyZJGUBrarmn",
    "outputId": "ac6e8829-0fea-4976-df4f-34fff0c5fa22"
   },
   "outputs": [
    {
     "name": "stdout",
     "output_type": "stream",
     "text": [
      "Features and target selected.\n"
     ]
    }
   ],
   "source": [
    "# Select Features and Target\n",
    "selected_features = ['Model Year', 'Make', 'Model', 'Electric Vehicle Type', 'Electric Range', 'Base MSRP']\n",
    "X = df[selected_features].copy()\n",
    "y = df['Clean Alternative Fuel Vehicle (CAFV) Eligibility'].copy()\n",
    "\n",
    "# Identify Numerical and Categorical Columns\n",
    "numerical_cols = ['Model Year', 'Electric Range', 'Base MSRP']\n",
    "categorical_cols = [col for col in X.columns if col not in numerical_cols]\n",
    "\n",
    "print(\"Features and target selected.\")"
   ]
  },
  {
   "cell_type": "code",
   "execution_count": 9,
   "metadata": {
    "colab": {
     "base_uri": "https://localhost:8080/"
    },
    "id": "5JbIr-Bslt3N",
    "outputId": "6e2db185-15b3-4854-986b-4e7f634aa1c6"
   },
   "outputs": [
    {
     "name": "stdout",
     "output_type": "stream",
     "text": [
      "Categorical columns one-hot encoded.\n"
     ]
    }
   ],
   "source": [
    "# One-Hot Encode Categorical Columns\n",
    "X = pd.get_dummies(X, columns=categorical_cols, drop_first=True)\n",
    "\n",
    "print(\"Categorical columns one-hot encoded.\")"
   ]
  },
  {
   "cell_type": "code",
   "execution_count": 10,
   "metadata": {
    "colab": {
     "base_uri": "https://localhost:8080/"
    },
    "id": "wm76DadNluc5",
    "outputId": "5121260b-adcb-40de-cec7-16e7fe77301c"
   },
   "outputs": [
    {
     "name": "stdout",
     "output_type": "stream",
     "text": [
      "Numerical columns scaled.\n"
     ]
    }
   ],
   "source": [
    "from sklearn.preprocessing import StandardScaler\n",
    "\n",
    "# Scale Numerical Columns\n",
    "scaler = StandardScaler()\n",
    "X[numerical_cols] = scaler.fit_transform(X[numerical_cols])\n",
    "\n",
    "print(\"Numerical columns scaled.\")"
   ]
  },
  {
   "cell_type": "code",
   "execution_count": 11,
   "metadata": {
    "colab": {
     "base_uri": "https://localhost:8080/"
    },
    "id": "O_V2aqeyl0vi",
    "outputId": "ab143e3d-323d-4a61-93fe-a0fb918dd26b"
   },
   "outputs": [
    {
     "name": "stdout",
     "output_type": "stream",
     "text": [
      "Data split into training and testing sets.\n"
     ]
    }
   ],
   "source": [
    "from sklearn.model_selection import train_test_split  # Import train_test_split\n",
    "\n",
    "# Split the Data into Training and Testing Sets\n",
    "X_train, X_test, y_train, y_test = train_test_split(X, y, test_size=0.2, random_state=42, stratify=y)\n",
    "\n",
    "print(\"Data split into training and testing sets.\")"
   ]
  },
  {
   "cell_type": "code",
   "execution_count": 12,
   "metadata": {
    "colab": {
     "base_uri": "https://localhost:8080/"
    },
    "id": "b-LXG5KKl5yh",
    "outputId": "a7cc5877-9121-4ad8-8dcd-14bf4c2bebe1"
   },
   "outputs": [
    {
     "name": "stdout",
     "output_type": "stream",
     "text": [
      "Shape of X after encoding: (232230, 218)\n",
      "\n",
      "Columns in X:\n",
      "Index(['Model Year', 'Electric Range', 'Base MSRP', 'Make_ALFA ROMEO',\n",
      "       'Make_AUDI', 'Make_AZURE DYNAMICS', 'Make_BENTLEY', 'Make_BMW',\n",
      "       'Make_BRIGHTDROP', 'Make_CADILLAC',\n",
      "       ...\n",
      "       'Model_WRANGLER', 'Model_X3', 'Model_X5', 'Model_XC40', 'Model_XC60',\n",
      "       'Model_XC90', 'Model_XM', 'Model_ZDX', 'Model_ZEVO',\n",
      "       'Electric Vehicle Type_Plug-in Hybrid Electric Vehicle (PHEV)'],\n",
      "      dtype='object', length=218)\n",
      "\n",
      "Encoding for 'Make':\n",
      "Make_ALFA ROMEO: Represents Make 'ALFA ROMEO'\n",
      "Make_AUDI: Represents Make 'AUDI'\n",
      "Make_AZURE DYNAMICS: Represents Make 'AZURE DYNAMICS'\n",
      "Make_BENTLEY: Represents Make 'BENTLEY'\n",
      "Make_BMW: Represents Make 'BMW'\n",
      "Make_BRIGHTDROP: Represents Make 'BRIGHTDROP'\n",
      "Make_CADILLAC: Represents Make 'CADILLAC'\n",
      "Make_CHEVROLET: Represents Make 'CHEVROLET'\n",
      "Make_CHRYSLER: Represents Make 'CHRYSLER'\n",
      "Make_DODGE: Represents Make 'DODGE'\n",
      "Make_FIAT: Represents Make 'FIAT'\n",
      "Make_FISKER: Represents Make 'FISKER'\n",
      "Make_FORD: Represents Make 'FORD'\n",
      "Make_GENESIS: Represents Make 'GENESIS'\n",
      "Make_GMC: Represents Make 'GMC'\n",
      "Make_HONDA: Represents Make 'HONDA'\n",
      "Make_HYUNDAI: Represents Make 'HYUNDAI'\n",
      "Make_JAGUAR: Represents Make 'JAGUAR'\n",
      "Make_JEEP: Represents Make 'JEEP'\n",
      "Make_KIA: Represents Make 'KIA'\n",
      "Make_LAMBORGHINI: Represents Make 'LAMBORGHINI'\n",
      "Make_LAND ROVER: Represents Make 'LAND ROVER'\n",
      "Make_LEXUS: Represents Make 'LEXUS'\n",
      "Make_LINCOLN: Represents Make 'LINCOLN'\n",
      "Make_LUCID: Represents Make 'LUCID'\n",
      "Make_MAZDA: Represents Make 'MAZDA'\n",
      "Make_MERCEDES-BENZ: Represents Make 'MERCEDES-BENZ'\n",
      "Make_MINI: Represents Make 'MINI'\n",
      "Make_MITSUBISHI: Represents Make 'MITSUBISHI'\n",
      "Make_MULLEN AUTOMOTIVE INC.: Represents Make 'MULLEN AUTOMOTIVE INC.'\n",
      "Make_NISSAN: Represents Make 'NISSAN'\n",
      "Make_POLESTAR: Represents Make 'POLESTAR'\n",
      "Make_PORSCHE: Represents Make 'PORSCHE'\n",
      "Make_RAM: Represents Make 'RAM'\n",
      "Make_RIVIAN: Represents Make 'RIVIAN'\n",
      "Make_ROLLS-ROYCE: Represents Make 'ROLLS-ROYCE'\n",
      "Make_SMART: Represents Make 'SMART'\n",
      "Make_SUBARU: Represents Make 'SUBARU'\n",
      "Make_TESLA: Represents Make 'TESLA'\n",
      "Make_TH!NK: Represents Make 'TH!NK'\n",
      "Make_TOYOTA: Represents Make 'TOYOTA'\n",
      "Make_VINFAST: Represents Make 'VINFAST'\n",
      "Make_VOLKSWAGEN: Represents Make 'VOLKSWAGEN'\n",
      "Make_VOLVO: Represents Make 'VOLVO'\n",
      "Make_WHEEGO ELECTRIC CARS: Represents Make 'WHEEGO ELECTRIC CARS'\n",
      "\n",
      "Encoding for 'Electric Vehicle Type':\n",
      "Electric Vehicle Type_Plug-in Hybrid Electric Vehicle (PHEV): Represents Electric Vehicle Type 'Plug-in Hybrid Electric Vehicle (PHEV)'\n",
      "Shape and encoding information displayed.\n"
     ]
    }
   ],
   "source": [
    "# Verify Shape and Columns of X\n",
    "print(\"Shape of X after encoding:\", X.shape)\n",
    "print(\"\\nColumns in X:\")\n",
    "print(X.columns)\n",
    "\n",
    "# Inspect the Encoding for 'Make' (Optional)\n",
    "print(\"\\nEncoding for 'Make':\")\n",
    "for col in X.columns:\n",
    "    if col.startswith('Make_'):\n",
    "        make_name = col[5:]\n",
    "        print(f\"{col}: Represents Make '{make_name}'\")\n",
    "\n",
    "# Inspect the Encoding for 'Electric Vehicle Type' (Optional)\n",
    "print(\"\\nEncoding for 'Electric Vehicle Type':\")\n",
    "for col in X.columns:\n",
    "    if col.startswith('Electric Vehicle Type_'):\n",
    "        ev_type = col[22:]\n",
    "        print(f\"{col}: Represents Electric Vehicle Type '{ev_type}'\")\n",
    "\n",
    "print(\"Shape and encoding information displayed.\")"
   ]
  },
  {
   "cell_type": "code",
   "execution_count": 13,
   "metadata": {
    "colab": {
     "base_uri": "https://localhost:8080/"
    },
    "id": "WqnM2pgXl7j2",
    "outputId": "79660c00-6f8e-4bfb-d0ef-61a1611a9f39"
   },
   "outputs": [
    {
     "name": "stdout",
     "output_type": "stream",
     "text": [
      "Target variable encoded and converted to one-hot.\n"
     ]
    }
   ],
   "source": [
    "import pandas as pd\n",
    "from sklearn.preprocessing import LabelEncoder\n",
    "\n",
    "# Encode Target Variable (y) using LabelEncoder\n",
    "le = LabelEncoder()\n",
    "y_train = le.fit_transform(y_train)\n",
    "y_test = le.transform(y_test)\n",
    "\n",
    "# Convert Target Variable to One-Hot Encoding\n",
    "y_categorical_train = pd.get_dummies(y_train).values\n",
    "y_categorical_test = pd.get_dummies(y_test).values\n",
    "\n",
    "print(\"Target variable encoded and converted to one-hot.\")"
   ]
  },
  {
   "cell_type": "code",
   "execution_count": 14,
   "metadata": {
    "id": "SdifhY6CtWGM"
   },
   "outputs": [],
   "source": [
    "# Import necessary libraries\n",
    "from tensorflow.keras.models import Sequential\n",
    "from tensorflow.keras.layers import Dense\n",
    "from tensorflow.keras.optimizers import Adam\n",
    "\n",
    "# Build the Deep Learning Model\n",
    "model = Sequential([\n",
    "    Dense(10, activation='relu', input_shape=(X_train.shape[1],)),  # First hidden layer\n",
    "    Dense(8, activation='relu'),                                    # Second hidden layer\n",
    "    Dense(y_categorical_train.shape[1], activation='softmax')       # Output layer with softmax\n",
    "])"
   ]
  },
  {
   "cell_type": "code",
   "execution_count": 15,
   "metadata": {
    "colab": {
     "base_uri": "https://localhost:8080/"
    },
    "id": "FeS-f9I_l_wm",
    "outputId": "298c2d73-1d3f-4998-d190-da26ccff7b82"
   },
   "outputs": [
    {
     "name": "stdout",
     "output_type": "stream",
     "text": [
      "Model compiled with Categorical Cross-Entropy loss.\n",
      "Epoch 1/20\n",
      "\u001b[1m5806/5806\u001b[0m \u001b[32m━━━━━━━━━━━━━━━━━━━━\u001b[0m\u001b[37m\u001b[0m \u001b[1m12s\u001b[0m 2ms/step - accuracy: 0.9658 - loss: 0.1371\n",
      "Epoch 2/20\n",
      "\u001b[1m5806/5806\u001b[0m \u001b[32m━━━━━━━━━━━━━━━━━━━━\u001b[0m\u001b[37m\u001b[0m \u001b[1m22s\u001b[0m 2ms/step - accuracy: 1.0000 - loss: 4.0256e-04\n",
      "Epoch 3/20\n",
      "\u001b[1m5806/5806\u001b[0m \u001b[32m━━━━━━━━━━━━━━━━━━━━\u001b[0m\u001b[37m\u001b[0m \u001b[1m21s\u001b[0m 2ms/step - accuracy: 1.0000 - loss: 1.1941e-04\n",
      "Epoch 4/20\n",
      "\u001b[1m5806/5806\u001b[0m \u001b[32m━━━━━━━━━━━━━━━━━━━━\u001b[0m\u001b[37m\u001b[0m \u001b[1m12s\u001b[0m 2ms/step - accuracy: 1.0000 - loss: 4.6064e-05\n",
      "Epoch 5/20\n",
      "\u001b[1m5806/5806\u001b[0m \u001b[32m━━━━━━━━━━━━━━━━━━━━\u001b[0m\u001b[37m\u001b[0m \u001b[1m22s\u001b[0m 2ms/step - accuracy: 1.0000 - loss: 1.0330e-05\n",
      "Epoch 6/20\n",
      "\u001b[1m5806/5806\u001b[0m \u001b[32m━━━━━━━━━━━━━━━━━━━━\u001b[0m\u001b[37m\u001b[0m \u001b[1m21s\u001b[0m 2ms/step - accuracy: 1.0000 - loss: 1.7153e-06\n",
      "Epoch 7/20\n",
      "\u001b[1m5806/5806\u001b[0m \u001b[32m━━━━━━━━━━━━━━━━━━━━\u001b[0m\u001b[37m\u001b[0m \u001b[1m21s\u001b[0m 2ms/step - accuracy: 1.0000 - loss: 8.5535e-06\n",
      "Epoch 8/20\n",
      "\u001b[1m5806/5806\u001b[0m \u001b[32m━━━━━━━━━━━━━━━━━━━━\u001b[0m\u001b[37m\u001b[0m \u001b[1m20s\u001b[0m 2ms/step - accuracy: 1.0000 - loss: 6.9048e-07\n",
      "Epoch 9/20\n",
      "\u001b[1m5806/5806\u001b[0m \u001b[32m━━━━━━━━━━━━━━━━━━━━\u001b[0m\u001b[37m\u001b[0m \u001b[1m21s\u001b[0m 2ms/step - accuracy: 1.0000 - loss: 9.4342e-07\n",
      "Epoch 10/20\n",
      "\u001b[1m5806/5806\u001b[0m \u001b[32m━━━━━━━━━━━━━━━━━━━━\u001b[0m\u001b[37m\u001b[0m \u001b[1m21s\u001b[0m 2ms/step - accuracy: 1.0000 - loss: 5.3726e-06\n",
      "Epoch 11/20\n",
      "\u001b[1m5806/5806\u001b[0m \u001b[32m━━━━━━━━━━━━━━━━━━━━\u001b[0m\u001b[37m\u001b[0m \u001b[1m14s\u001b[0m 2ms/step - accuracy: 1.0000 - loss: 1.9207e-07\n",
      "Epoch 12/20\n",
      "\u001b[1m5806/5806\u001b[0m \u001b[32m━━━━━━━━━━━━━━━━━━━━\u001b[0m\u001b[37m\u001b[0m \u001b[1m14s\u001b[0m 2ms/step - accuracy: 1.0000 - loss: 5.1015e-07\n",
      "Epoch 13/20\n",
      "\u001b[1m5806/5806\u001b[0m \u001b[32m━━━━━━━━━━━━━━━━━━━━\u001b[0m\u001b[37m\u001b[0m \u001b[1m20s\u001b[0m 2ms/step - accuracy: 1.0000 - loss: 4.2486e-08\n",
      "Epoch 14/20\n",
      "\u001b[1m5806/5806\u001b[0m \u001b[32m━━━━━━━━━━━━━━━━━━━━\u001b[0m\u001b[37m\u001b[0m \u001b[1m20s\u001b[0m 2ms/step - accuracy: 1.0000 - loss: 3.4214e-07\n",
      "Epoch 15/20\n",
      "\u001b[1m5806/5806\u001b[0m \u001b[32m━━━━━━━━━━━━━━━━━━━━\u001b[0m\u001b[37m\u001b[0m \u001b[1m22s\u001b[0m 2ms/step - accuracy: 1.0000 - loss: 1.2248e-08\n",
      "Epoch 16/20\n",
      "\u001b[1m5806/5806\u001b[0m \u001b[32m━━━━━━━━━━━━━━━━━━━━\u001b[0m\u001b[37m\u001b[0m \u001b[1m20s\u001b[0m 2ms/step - accuracy: 1.0000 - loss: 4.1920e-07\n",
      "Epoch 17/20\n",
      "\u001b[1m5806/5806\u001b[0m \u001b[32m━━━━━━━━━━━━━━━━━━━━\u001b[0m\u001b[37m\u001b[0m \u001b[1m19s\u001b[0m 2ms/step - accuracy: 1.0000 - loss: 3.9913e-09\n",
      "Epoch 18/20\n",
      "\u001b[1m5806/5806\u001b[0m \u001b[32m━━━━━━━━━━━━━━━━━━━━\u001b[0m\u001b[37m\u001b[0m \u001b[1m20s\u001b[0m 2ms/step - accuracy: 1.0000 - loss: 2.8445e-07\n",
      "Epoch 19/20\n",
      "\u001b[1m5806/5806\u001b[0m \u001b[32m━━━━━━━━━━━━━━━━━━━━\u001b[0m\u001b[37m\u001b[0m \u001b[1m13s\u001b[0m 2ms/step - accuracy: 1.0000 - loss: 4.8822e-09\n",
      "Epoch 20/20\n",
      "\u001b[1m5806/5806\u001b[0m \u001b[32m━━━━━━━━━━━━━━━━━━━━\u001b[0m\u001b[37m\u001b[0m \u001b[1m13s\u001b[0m 2ms/step - accuracy: 1.0000 - loss: 2.3874e-08\n",
      "Training completed with Categorical Cross-Entropy loss.\n"
     ]
    }
   ],
   "source": [
    "# Compile the model with Categorical Cross-Entropy\n",
    "from tensorflow.keras.losses import CategoricalCrossentropy\n",
    "\n",
    "model.compile(optimizer=Adam(), loss=CategoricalCrossentropy(), metrics=['accuracy'])\n",
    "print(\"Model compiled with Categorical Cross-Entropy loss.\")\n",
    "\n",
    "# Train the model\n",
    "model.fit(X_train, y_categorical_train, epochs=20, verbose=1)\n",
    "print(\"Training completed with Categorical Cross-Entropy loss.\")\n"
   ]
  },
  {
   "cell_type": "code",
   "execution_count": 16,
   "metadata": {
    "colab": {
     "base_uri": "https://localhost:8080/"
    },
    "id": "qDZ08zfCmBge",
    "outputId": "fe17ebd6-9749-445d-dc13-9b06c5020e86"
   },
   "outputs": [
    {
     "name": "stdout",
     "output_type": "stream",
     "text": [
      "Categorical Crossentropy Loss: 0.0002560533757787198, Accuracy: 0.9999784827232361\n",
      "Model evaluated and results printed.\n"
     ]
    }
   ],
   "source": [
    "# Evaluate the Model\n",
    "loss, accuracy = model.evaluate(X_test, y_categorical_test, verbose=0)\n",
    "\n",
    "# Print the Evaluation Results\n",
    "print(f\"Categorical Crossentropy Loss: {loss}, Accuracy: {accuracy}\")\n",
    "\n",
    "print(\"Model evaluated and results printed.\")"
   ]
  },
  {
   "cell_type": "code",
   "execution_count": 17,
   "metadata": {
    "colab": {
     "base_uri": "https://localhost:8080/"
    },
    "id": "CHsMfEZMZVag",
    "outputId": "52b91d3e-b158-4c83-8943-24ac3ccb8301"
   },
   "outputs": [
    {
     "name": "stdout",
     "output_type": "stream",
     "text": [
      "Model compiled with Mean Squared Error (MSE) loss.\n",
      "Epoch 1/20\n",
      "\u001b[1m5806/5806\u001b[0m \u001b[32m━━━━━━━━━━━━━━━━━━━━\u001b[0m\u001b[37m\u001b[0m \u001b[1m14s\u001b[0m 2ms/step - accuracy: 1.0000 - loss: 5.2323e-14\n",
      "Epoch 2/20\n",
      "\u001b[1m5806/5806\u001b[0m \u001b[32m━━━━━━━━━━━━━━━━━━━━\u001b[0m\u001b[37m\u001b[0m \u001b[1m13s\u001b[0m 2ms/step - accuracy: 1.0000 - loss: 1.6405e-13\n",
      "Epoch 3/20\n",
      "\u001b[1m5806/5806\u001b[0m \u001b[32m━━━━━━━━━━━━━━━━━━━━\u001b[0m\u001b[37m\u001b[0m \u001b[1m21s\u001b[0m 2ms/step - accuracy: 1.0000 - loss: 1.8506e-14\n",
      "Epoch 4/20\n",
      "\u001b[1m5806/5806\u001b[0m \u001b[32m━━━━━━━━━━━━━━━━━━━━\u001b[0m\u001b[37m\u001b[0m \u001b[1m20s\u001b[0m 2ms/step - accuracy: 1.0000 - loss: 2.9385e-13\n",
      "Epoch 5/20\n",
      "\u001b[1m5806/5806\u001b[0m \u001b[32m━━━━━━━━━━━━━━━━━━━━\u001b[0m\u001b[37m\u001b[0m \u001b[1m13s\u001b[0m 2ms/step - accuracy: 1.0000 - loss: 2.2310e-14\n",
      "Epoch 6/20\n",
      "\u001b[1m5806/5806\u001b[0m \u001b[32m━━━━━━━━━━━━━━━━━━━━\u001b[0m\u001b[37m\u001b[0m \u001b[1m13s\u001b[0m 2ms/step - accuracy: 1.0000 - loss: 8.2260e-15\n",
      "Epoch 7/20\n",
      "\u001b[1m5806/5806\u001b[0m \u001b[32m━━━━━━━━━━━━━━━━━━━━\u001b[0m\u001b[37m\u001b[0m \u001b[1m13s\u001b[0m 2ms/step - accuracy: 1.0000 - loss: 1.6490e-14\n",
      "Epoch 8/20\n",
      "\u001b[1m5806/5806\u001b[0m \u001b[32m━━━━━━━━━━━━━━━━━━━━\u001b[0m\u001b[37m\u001b[0m \u001b[1m13s\u001b[0m 2ms/step - accuracy: 1.0000 - loss: 7.0351e-14\n",
      "Epoch 9/20\n",
      "\u001b[1m5806/5806\u001b[0m \u001b[32m━━━━━━━━━━━━━━━━━━━━\u001b[0m\u001b[37m\u001b[0m \u001b[1m15s\u001b[0m 3ms/step - accuracy: 1.0000 - loss: 1.8756e-14\n",
      "Epoch 10/20\n",
      "\u001b[1m5806/5806\u001b[0m \u001b[32m━━━━━━━━━━━━━━━━━━━━\u001b[0m\u001b[37m\u001b[0m \u001b[1m14s\u001b[0m 2ms/step - accuracy: 1.0000 - loss: 4.6904e-14\n",
      "Epoch 11/20\n",
      "\u001b[1m5806/5806\u001b[0m \u001b[32m━━━━━━━━━━━━━━━━━━━━\u001b[0m\u001b[37m\u001b[0m \u001b[1m20s\u001b[0m 2ms/step - accuracy: 1.0000 - loss: 7.5284e-15\n",
      "Epoch 12/20\n",
      "\u001b[1m5806/5806\u001b[0m \u001b[32m━━━━━━━━━━━━━━━━━━━━\u001b[0m\u001b[37m\u001b[0m \u001b[1m14s\u001b[0m 2ms/step - accuracy: 1.0000 - loss: 5.5523e-15\n",
      "Epoch 13/20\n",
      "\u001b[1m5806/5806\u001b[0m \u001b[32m━━━━━━━━━━━━━━━━━━━━\u001b[0m\u001b[37m\u001b[0m \u001b[1m20s\u001b[0m 2ms/step - accuracy: 1.0000 - loss: 4.0787e-14\n",
      "Epoch 14/20\n",
      "\u001b[1m5806/5806\u001b[0m \u001b[32m━━━━━━━━━━━━━━━━━━━━\u001b[0m\u001b[37m\u001b[0m \u001b[1m13s\u001b[0m 2ms/step - accuracy: 1.0000 - loss: 7.7361e-15\n",
      "Epoch 15/20\n",
      "\u001b[1m5806/5806\u001b[0m \u001b[32m━━━━━━━━━━━━━━━━━━━━\u001b[0m\u001b[37m\u001b[0m \u001b[1m22s\u001b[0m 3ms/step - accuracy: 1.0000 - loss: 1.7653e-14\n",
      "Epoch 16/20\n",
      "\u001b[1m5806/5806\u001b[0m \u001b[32m━━━━━━━━━━━━━━━━━━━━\u001b[0m\u001b[37m\u001b[0m \u001b[1m15s\u001b[0m 3ms/step - accuracy: 1.0000 - loss: 1.0240e-14\n",
      "Epoch 17/20\n",
      "\u001b[1m5806/5806\u001b[0m \u001b[32m━━━━━━━━━━━━━━━━━━━━\u001b[0m\u001b[37m\u001b[0m \u001b[1m20s\u001b[0m 2ms/step - accuracy: 1.0000 - loss: 8.0361e-15\n",
      "Epoch 18/20\n",
      "\u001b[1m5806/5806\u001b[0m \u001b[32m━━━━━━━━━━━━━━━━━━━━\u001b[0m\u001b[37m\u001b[0m \u001b[1m14s\u001b[0m 2ms/step - accuracy: 1.0000 - loss: 3.2930e-14\n",
      "Epoch 19/20\n",
      "\u001b[1m5806/5806\u001b[0m \u001b[32m━━━━━━━━━━━━━━━━━━━━\u001b[0m\u001b[37m\u001b[0m \u001b[1m20s\u001b[0m 2ms/step - accuracy: 1.0000 - loss: 1.0100e-14\n",
      "Epoch 20/20\n",
      "\u001b[1m5806/5806\u001b[0m \u001b[32m━━━━━━━━━━━━━━━━━━━━\u001b[0m\u001b[37m\u001b[0m \u001b[1m21s\u001b[0m 2ms/step - accuracy: 1.0000 - loss: 4.4957e-15\n",
      "Training completed with Mean Squared Error (MSE) loss.\n"
     ]
    }
   ],
   "source": [
    "# Compile the model with Mean Squared Error (MSE)\n",
    "from tensorflow.keras.losses import MeanSquaredError\n",
    "\n",
    "model.compile(optimizer=Adam(learning_rate=0.001), loss=MeanSquaredError(), metrics=['accuracy'])\n",
    "print(\"Model compiled with Mean Squared Error (MSE) loss.\")\n",
    "\n",
    "# Train the model\n",
    "model.fit(X_train, y_categorical_train, epochs=20, batch_size=32, verbose=1)\n",
    "print(\"Training completed with Mean Squared Error (MSE) loss.\")"
   ]
  },
  {
   "cell_type": "code",
   "execution_count": 19,
   "metadata": {
    "colab": {
     "base_uri": "https://localhost:8080/"
    },
    "id": "-5hXrGTlZcJZ",
    "outputId": "ce320e0e-a972-4a96-8f24-93e0f3ff1b36"
   },
   "outputs": [
    {
     "name": "stdout",
     "output_type": "stream",
     "text": [
      "Mean Squared Error (MSE) Loss: 1.4353386177390348e-05, Accuracy: 0.9999784827232361\n",
      "Model evaluated and results printed.\n"
     ]
    }
   ],
   "source": [
    "# Evaluate the Model\n",
    "loss, accuracy = model.evaluate(X_test, y_categorical_test, verbose=0)\n",
    "\n",
    "# Print the Evaluation Results\n",
    "print(f\"Mean Squared Error (MSE) Loss: {loss}, Accuracy: {accuracy}\")\n",
    "\n",
    "print(\"Model evaluated and results printed.\")\n"
   ]
  },
  {
   "cell_type": "code",
   "execution_count": 20,
   "metadata": {
    "colab": {
     "base_uri": "https://localhost:8080/"
    },
    "id": "lqYHX5cDbs0k",
    "outputId": "cadffb89-ebb4-4fe2-8770-90ba841d94d3"
   },
   "outputs": [
    {
     "name": "stdout",
     "output_type": "stream",
     "text": [
      "Model compiled with Mean Absolute Error (MAE) loss.\n",
      "Epoch 1/20\n",
      "\u001b[1m5806/5806\u001b[0m \u001b[32m━━━━━━━━━━━━━━━━━━━━\u001b[0m\u001b[37m\u001b[0m \u001b[1m18s\u001b[0m 3ms/step - accuracy: 1.0000 - loss: 5.0028e-07\n",
      "Epoch 2/20\n",
      "\u001b[1m5806/5806\u001b[0m \u001b[32m━━━━━━━━━━━━━━━━━━━━\u001b[0m\u001b[37m\u001b[0m \u001b[1m21s\u001b[0m 3ms/step - accuracy: 1.0000 - loss: 2.7555e-06\n",
      "Epoch 3/20\n",
      "\u001b[1m5806/5806\u001b[0m \u001b[32m━━━━━━━━━━━━━━━━━━━━\u001b[0m\u001b[37m\u001b[0m \u001b[1m19s\u001b[0m 3ms/step - accuracy: 1.0000 - loss: 3.0524e-06\n",
      "Epoch 4/20\n",
      "\u001b[1m5806/5806\u001b[0m \u001b[32m━━━━━━━━━━━━━━━━━━━━\u001b[0m\u001b[37m\u001b[0m \u001b[1m21s\u001b[0m 3ms/step - accuracy: 1.0000 - loss: 9.1875e-08\n",
      "Epoch 5/20\n",
      "\u001b[1m5806/5806\u001b[0m \u001b[32m━━━━━━━━━━━━━━━━━━━━\u001b[0m\u001b[37m\u001b[0m \u001b[1m15s\u001b[0m 3ms/step - accuracy: 1.0000 - loss: 6.7636e-07\n",
      "Epoch 6/20\n",
      "\u001b[1m5806/5806\u001b[0m \u001b[32m━━━━━━━━━━━━━━━━━━━━\u001b[0m\u001b[37m\u001b[0m \u001b[1m20s\u001b[0m 2ms/step - accuracy: 1.0000 - loss: 1.8847e-05\n",
      "Epoch 7/20\n",
      "\u001b[1m5806/5806\u001b[0m \u001b[32m━━━━━━━━━━━━━━━━━━━━\u001b[0m\u001b[37m\u001b[0m \u001b[1m20s\u001b[0m 2ms/step - accuracy: 0.9942 - loss: 0.0039\n",
      "Epoch 8/20\n",
      "\u001b[1m5806/5806\u001b[0m \u001b[32m━━━━━━━━━━━━━━━━━━━━\u001b[0m\u001b[37m\u001b[0m \u001b[1m21s\u001b[0m 2ms/step - accuracy: 0.9896 - loss: 0.0069\n",
      "Epoch 9/20\n",
      "\u001b[1m5806/5806\u001b[0m \u001b[32m━━━━━━━━━━━━━━━━━━━━\u001b[0m\u001b[37m\u001b[0m \u001b[1m14s\u001b[0m 2ms/step - accuracy: 0.9899 - loss: 0.0068\n",
      "Epoch 10/20\n",
      "\u001b[1m5806/5806\u001b[0m \u001b[32m━━━━━━━━━━━━━━━━━━━━\u001b[0m\u001b[37m\u001b[0m \u001b[1m19s\u001b[0m 2ms/step - accuracy: 0.9901 - loss: 0.0066\n",
      "Epoch 11/20\n",
      "\u001b[1m5806/5806\u001b[0m \u001b[32m━━━━━━━━━━━━━━━━━━━━\u001b[0m\u001b[37m\u001b[0m \u001b[1m14s\u001b[0m 2ms/step - accuracy: 0.9899 - loss: 0.0067\n",
      "Epoch 12/20\n",
      "\u001b[1m5806/5806\u001b[0m \u001b[32m━━━━━━━━━━━━━━━━━━━━\u001b[0m\u001b[37m\u001b[0m \u001b[1m13s\u001b[0m 2ms/step - accuracy: 0.9899 - loss: 0.0067\n",
      "Epoch 13/20\n",
      "\u001b[1m5806/5806\u001b[0m \u001b[32m━━━━━━━━━━━━━━━━━━━━\u001b[0m\u001b[37m\u001b[0m \u001b[1m13s\u001b[0m 2ms/step - accuracy: 0.9900 - loss: 0.0067\n",
      "Epoch 14/20\n",
      "\u001b[1m5806/5806\u001b[0m \u001b[32m━━━━━━━━━━━━━━━━━━━━\u001b[0m\u001b[37m\u001b[0m \u001b[1m20s\u001b[0m 2ms/step - accuracy: 0.9833 - loss: 0.0111\n",
      "Epoch 15/20\n",
      "\u001b[1m5806/5806\u001b[0m \u001b[32m━━━━━━━━━━━━━━━━━━━━\u001b[0m\u001b[37m\u001b[0m \u001b[1m13s\u001b[0m 2ms/step - accuracy: 0.9514 - loss: 0.0324\n",
      "Epoch 16/20\n",
      "\u001b[1m5806/5806\u001b[0m \u001b[32m━━━━━━━━━━━━━━━━━━━━\u001b[0m\u001b[37m\u001b[0m \u001b[1m13s\u001b[0m 2ms/step - accuracy: 0.9901 - loss: 0.0066\n",
      "Epoch 17/20\n",
      "\u001b[1m5806/5806\u001b[0m \u001b[32m━━━━━━━━━━━━━━━━━━━━\u001b[0m\u001b[37m\u001b[0m \u001b[1m21s\u001b[0m 2ms/step - accuracy: 0.9891 - loss: 0.0073\n",
      "Epoch 18/20\n",
      "\u001b[1m5806/5806\u001b[0m \u001b[32m━━━━━━━━━━━━━━━━━━━━\u001b[0m\u001b[37m\u001b[0m \u001b[1m16s\u001b[0m 3ms/step - accuracy: 0.9460 - loss: 0.0360\n",
      "Epoch 19/20\n",
      "\u001b[1m5806/5806\u001b[0m \u001b[32m━━━━━━━━━━━━━━━━━━━━\u001b[0m\u001b[37m\u001b[0m \u001b[1m18s\u001b[0m 2ms/step - accuracy: 0.9691 - loss: 0.0206\n",
      "Epoch 20/20\n",
      "\u001b[1m5806/5806\u001b[0m \u001b[32m━━━━━━━━━━━━━━━━━━━━\u001b[0m\u001b[37m\u001b[0m \u001b[1m20s\u001b[0m 2ms/step - accuracy: 0.9879 - loss: 0.0081\n",
      "Training completed with Mean Absolute Error (MAE) loss.\n"
     ]
    }
   ],
   "source": [
    "# Compile the model with Mean Absolute Error (MAE)\n",
    "from tensorflow.keras.losses import MeanAbsoluteError\n",
    "\n",
    "model.compile(optimizer=Adam(learning_rate=0.001), loss=MeanAbsoluteError(), metrics=['accuracy'])\n",
    "print(\"Model compiled with Mean Absolute Error (MAE) loss.\")\n",
    "\n",
    "# Train the model\n",
    "model.fit(X_train, y_categorical_train, epochs=20, batch_size=32, verbose=1)\n",
    "print(\"Training completed with Mean Absolute Error (MAE) loss.\")"
   ]
  },
  {
   "cell_type": "code",
   "execution_count": 21,
   "metadata": {
    "colab": {
     "base_uri": "https://localhost:8080/"
    },
    "id": "h05CeVMYdLbt",
    "outputId": "7279e027-555f-44c9-b921-11e4bffa0864"
   },
   "outputs": [
    {
     "name": "stdout",
     "output_type": "stream",
     "text": [
      "Mean Absolute Error (MAE) Loss: 0.009301098063588142, Accuracy: 0.9860483407974243\n",
      "Model evaluated and results printed.\n"
     ]
    }
   ],
   "source": [
    "# Evaluate the Model\n",
    "loss, accuracy = model.evaluate(X_test, y_categorical_test, verbose=0)\n",
    "\n",
    "# Print the Evaluation Results\n",
    "print(f\"Mean Absolute Error (MAE) Loss: {loss}, Accuracy: {accuracy}\")\n",
    "\n",
    "print(\"Model evaluated and results printed.\")"
   ]
  }
 ],
 "metadata": {
  "colab": {
   "provenance": []
  },
  "kernelspec": {
   "display_name": "Python 3 (ipykernel)",
   "language": "python",
   "name": "python3"
  },
  "language_info": {
   "codemirror_mode": {
    "name": "ipython",
    "version": 3
   },
   "file_extension": ".py",
   "mimetype": "text/x-python",
   "name": "python",
   "nbconvert_exporter": "python",
   "pygments_lexer": "ipython3",
   "version": "3.12.9"
  }
 },
 "nbformat": 4,
 "nbformat_minor": 4
}
